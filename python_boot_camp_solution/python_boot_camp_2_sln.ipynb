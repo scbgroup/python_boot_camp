{
 "cells": [
  {
   "cell_type": "markdown",
   "metadata": {},
   "source": "# Python Boot Camp 2 Solution\nThis is a continuation of [Python Boot Camp 1](python_boot_camp_1.ipynb). Based on [MATLAB Onramp](https://matlabacademy.mathworks.com)"
  },
  {
   "cell_type": "markdown",
   "metadata": {},
   "source": [
    "### Required  packages\n",
    "Import `pylab` to get started"
   ]
  },
  {
   "cell_type": "code",
   "execution_count": 1,
   "metadata": {},
   "outputs": [],
   "source": [
    "from pylab import *"
   ]
  },
  {
   "cell_type": "markdown",
   "metadata": {
    "collapsed": false,
    "jupyter": {
     "outputs_hidden": false,
     "source_hidden": false
    },
    "nteract": {
     "transient": {
      "deleting": false
     }
    },
    "outputExpanded": false
   },
   "source": [
    "## 3. 1D and 2D Arrays\n",
    "Create Python variables that contain multiple elements."
   ]
  },
  {
   "cell_type": "markdown",
   "metadata": {},
   "source": [
    "### Python Data Types\n",
    "\n",
    "Python has a number of [built-in data types](https://www.w3schools.com/python/python_datatypes.asp), in the following categories:\n",
    " \n",
    " - Text Type:\tstring, abbreviated `str`\n",
    " - Numeric Types:\tinteger `int`, floating point `float`, `complex`\n",
    " - Sequence Types:\t`list`, `tuple`, `range`\n",
    " - Mapping Type:\tdictionary `dict`\n",
    " \n",
    "Of these, we will mostly use the `str`, `int`, `float`, and `list` types.  The other types can also be useful though:\n",
    "\n",
    " - The `tuple` type is like a list, except it is immutable, meaning it cannot be changed once defined.\n",
    " - The `dict` type allows for storage of data consisting of key value pairs, making it a mini database."
   ]
  },
  {
   "cell_type": "markdown",
   "metadata": {
    "collapsed": false,
    "jupyter": {
     "outputs_hidden": false,
     "source_hidden": false
    },
    "nteract": {
     "transient": {
      "deleting": false
     }
    },
    "outputExpanded": false
   },
   "source": [
    "### Python lists"
   ]
  },
  {
   "cell_type": "markdown",
   "metadata": {},
   "source": [
    "In Python, a `list` is a collection of multiple elements, separated by commas and enclosed in square brackets. **Note that, unlike MATLAB, the comma separator is _required_.**\n",
    "\n",
    "```\n",
    "In  [1]: p = [3, 'film']\n",
    "``` \n",
    "> **TASK:** Create a list named x with two elements: 7 and 9"
   ]
  },
  {
   "cell_type": "code",
   "execution_count": 2,
   "metadata": {},
   "outputs": [
    {
     "data": {
      "text/plain": [
       "[7, 9]"
      ]
     },
     "execution_count": 2,
     "metadata": {},
     "output_type": "execute_result"
    }
   ],
   "source": [
    "x=[7,9]\n",
    "x"
   ]
  },
  {
   "cell_type": "markdown",
   "metadata": {},
   "source": [
    "<hr>\n",
    "\n",
    "The problem with lists is that we can't do math on them.\n",
    "\n",
    "> **TASK:** Show that adding 5 to x results in an error."
   ]
  },
  {
   "cell_type": "code",
   "execution_count": 3,
   "metadata": {
    "scrolled": true
   },
   "outputs": [
    {
     "ename": "TypeError",
     "evalue": "can only concatenate list (not \"int\") to list",
     "output_type": "error",
     "traceback": [
      "\u001b[0;31m---------------------------------------------------------------------------\u001b[0m",
      "\u001b[0;31mTypeError\u001b[0m                                 Traceback (most recent call last)",
      "Cell \u001b[0;32mIn[3], line 1\u001b[0m\n\u001b[0;32m----> 1\u001b[0m \u001b[43mx\u001b[49m\u001b[43m \u001b[49m\u001b[38;5;241;43m+\u001b[39;49m\u001b[43m \u001b[49m\u001b[38;5;241;43m5\u001b[39;49m\n",
      "\u001b[0;31mTypeError\u001b[0m: can only concatenate list (not \"int\") to list"
     ]
    }
   ],
   "source": [
    "x + 5"
   ]
  },
  {
   "cell_type": "markdown",
   "metadata": {},
   "source": [
    "<hr>\n",
    "\n",
    "`numpy` contains a function `array` that converts lists of numbers to a form that we can use to do math.\n",
    "\n",
    "> **TASK:** Create an array `z` from `x` using `array(x)`"
   ]
  },
  {
   "cell_type": "code",
   "execution_count": 4,
   "metadata": {
    "scrolled": true
   },
   "outputs": [
    {
     "data": {
      "text/plain": [
       "array([7, 9])"
      ]
     },
     "execution_count": 4,
     "metadata": {},
     "output_type": "execute_result"
    }
   ],
   "source": [
    "z=array(x)\n",
    "z"
   ]
  },
  {
   "cell_type": "markdown",
   "metadata": {},
   "source": [
    "<hr>\n",
    "\n",
    "> **TASK:** add 5 to every element of array z"
   ]
  },
  {
   "cell_type": "code",
   "execution_count": 5,
   "metadata": {},
   "outputs": [
    {
     "data": {
      "text/plain": [
       "array([12, 14])"
      ]
     },
     "execution_count": 5,
     "metadata": {},
     "output_type": "execute_result"
    }
   ],
   "source": [
    "z = z + 5\n",
    "z"
   ]
  },
  {
   "cell_type": "markdown",
   "metadata": {},
   "source": [
    "<hr>\n",
    "\n",
    "> **TASK:** Create an array named x that contains the values 3, 10, and 5 in that order."
   ]
  },
  {
   "cell_type": "code",
   "execution_count": 6,
   "metadata": {},
   "outputs": [
    {
     "data": {
      "text/plain": [
       "array([ 3, 10,  5])"
      ]
     },
     "execution_count": 6,
     "metadata": {},
     "output_type": "execute_result"
    }
   ],
   "source": [
    "x=array([3, 10, 5])\n",
    "x"
   ]
  },
  {
   "cell_type": "markdown",
   "metadata": {},
   "source": [
    "<hr>\n",
    "\n",
    "We can make a two-dimensional array using a list of lists:\n",
    "\n",
    "```\n",
    "In  [1]: x = array( [ [3, 4, 5], [6, 7, 8] ] )\n",
    "         x\n",
    "Out [1]: array([[3, 4, 5],\n",
    "                [6, 7, 8]])\n",
    "```\n",
    "> **TASK:** Create a 2D array named x with the values shown below.\n",
    "```\n",
    "5    6    7\n",
    "8    9   10\n",
    "```"
   ]
  },
  {
   "cell_type": "code",
   "execution_count": 7,
   "metadata": {},
   "outputs": [
    {
     "data": {
      "text/plain": [
       "array([[ 5,  6,  7],\n",
       "       [ 8,  9, 10]])"
      ]
     },
     "execution_count": 7,
     "metadata": {},
     "output_type": "execute_result"
    }
   ],
   "source": [
    "x = array([ [5, 6, 7], [8, 9, 10] ])\n",
    "x"
   ]
  },
  {
   "cell_type": "markdown",
   "metadata": {},
   "source": [
    "<hr>\n",
    "\n",
    "In Python, we can perform calculations within the square brackets.\n",
    "\n",
    "```\n",
    "In  [1]: x = array([abs(-4), 4**2])\n",
    "         x\n",
    "Out [1]: array([ 4, 16])\n",
    "```\n",
    "\n",
    "**Note:** Python uses a double-asterisk `**` as the symbol for exponents, not the carat `^` as in MATLAB. \n",
    "\n",
    "> **TASK:** Create a 1D array named `x` that contains `sqrt(10)` as its first element and $\\pi^2$ as its second element."
   ]
  },
  {
   "cell_type": "code",
   "execution_count": 8,
   "metadata": {},
   "outputs": [
    {
     "data": {
      "text/plain": [
       "array([3.16227766, 9.8696044 ])"
      ]
     },
     "execution_count": 8,
     "metadata": {},
     "output_type": "execute_result"
    }
   ],
   "source": [
    "x = array([sqrt(10), pi**2])\n",
    "x"
   ]
  },
  {
   "cell_type": "markdown",
   "metadata": {
    "collapsed": false,
    "jupyter": {
     "outputs_hidden": false,
     "source_hidden": false
    },
    "nteract": {
     "transient": {
      "deleting": false
     }
    },
    "outputExpanded": false
   },
   "source": [
    "### Creating Evenly-Spaced Arrays"
   ]
  },
  {
   "cell_type": "markdown",
   "metadata": {},
   "source": [
    "It is common to create arrays containing evenly-spaced numbers. For large arrays, entering individual numbers is not practical. An alternative, shorthand way to create evenly-spaced arrays is to use numpy's `arange` function:\n",
    "```\n",
    "In  [1]: x = arange(4, 12, 2)\n",
    "         x\n",
    "Out [1]: array([ 4,  6,  8, 10])\n",
    "```\n",
    "\n",
    "Note that `4` is the starting value, `12` is the first _excluded_ value, and `2` is the step size. This function is the array version of the function `range` that is built into Python.\n",
    "\n",
    "> **TASK:** Create an array named x with values 1, 2, 3, and 4, using the `arange` function."
   ]
  },
  {
   "cell_type": "code",
   "execution_count": 9,
   "metadata": {},
   "outputs": [
    {
     "data": {
      "text/plain": [
       "array([1, 2, 3, 4])"
      ]
     },
     "execution_count": 9,
     "metadata": {},
     "output_type": "execute_result"
    }
   ],
   "source": [
    "x = arange(1,5,1)\n",
    "x"
   ]
  },
  {
   "cell_type": "markdown",
   "metadata": {},
   "source": [
    "### Creating arrays with `linspace`"
   ]
  },
  {
   "cell_type": "markdown",
   "metadata": {},
   "source": [
    "If the step size is a non integer, such as 0.1, it is best to use `numpy.linspace`. \n",
    "\n",
    "```\n",
    "In  [1]: y = linspace(0.4,3,6)\n",
    "         y\n",
    "Out [1]: array([0.4 , 0.92, 1.44, 1.96, 2.48, 3.  ])\n",
    "```\n",
    "\n",
    "Here, `0.4` is the starting value, `3` is the last _included_ value, and `6` is the number of elements in the array. This function is equivalent to the `linspace` function in MATLAB.\n",
    "\n",
    "> **TASK:** Create an array named x that starts at 1, ends at 10, and contains 5 elements."
   ]
  },
  {
   "cell_type": "code",
   "execution_count": 10,
   "metadata": {},
   "outputs": [
    {
     "data": {
      "text/plain": [
       "array([ 1.  ,  3.25,  5.5 ,  7.75, 10.  ])"
      ]
     },
     "execution_count": 10,
     "metadata": {},
     "output_type": "execute_result"
    }
   ],
   "source": [
    "linspace(1,10,5)"
   ]
  },
  {
   "cell_type": "markdown",
   "metadata": {
    "collapsed": false,
    "jupyter": {
     "outputs_hidden": false,
     "source_hidden": false
    },
    "nteract": {
     "transient": {
      "deleting": false
     }
    },
    "outputExpanded": false
   },
   "source": [
    "### Array Creation Functions"
   ]
  },
  {
   "cell_type": "markdown",
   "metadata": {},
   "source": [
    "`numpy` includes functions to create commonly used matrices, such as matrices of random numbers.\n",
    "```\n",
    "In  [1]: x = random_sample([2,2])\n",
    "         x\n",
    "Out [2]: array([[0.78363163, 0.07238245],\n",
    "                [0.68659162, 0.17798821]])\n",
    "```\n",
    "Note that the inputs to the functon `random_sample` is a list representing the dimensions of the random array.\n",
    "> **TASK:** Create a variable named x that is a 5-by-4 array of random numbers."
   ]
  },
  {
   "cell_type": "code",
   "execution_count": 11,
   "metadata": {},
   "outputs": [
    {
     "data": {
      "text/plain": [
       "array([[0.16453763, 0.81420405, 0.57480524, 0.30666953],\n",
       "       [0.88556351, 0.74947109, 0.00744754, 0.10400907],\n",
       "       [0.22558488, 0.65504948, 0.12985234, 0.04557496],\n",
       "       [0.68968706, 0.21217635, 0.11742069, 0.97289115],\n",
       "       [0.95179428, 0.04066282, 0.17045966, 0.20920108]])"
      ]
     },
     "execution_count": 11,
     "metadata": {},
     "output_type": "execute_result"
    }
   ],
   "source": [
    "x = x = random_sample([5,4])\n",
    "x"
   ]
  },
  {
   "cell_type": "markdown",
   "metadata": {},
   "source": [
    "<hr>\n",
    "\n",
    "> **TASK:** Use the `zeros` function to create an array of all zeros that has 6 rows and 3 columns (6-by-3). Assign the result to a variable named x."
   ]
  },
  {
   "cell_type": "code",
   "execution_count": 12,
   "metadata": {},
   "outputs": [
    {
     "data": {
      "text/plain": [
       "array([[0., 0., 0.],\n",
       "       [0., 0., 0.],\n",
       "       [0., 0., 0.],\n",
       "       [0., 0., 0.],\n",
       "       [0., 0., 0.],\n",
       "       [0., 0., 0.]])"
      ]
     },
     "execution_count": 12,
     "metadata": {},
     "output_type": "execute_result"
    }
   ],
   "source": [
    "x=np.zeros([6,3])\n",
    "x"
   ]
  },
  {
   "cell_type": "markdown",
   "metadata": {},
   "source": [
    "<hr>\n",
    "\n",
    "#### Further Practice:\n",
    " - What do you think the function `numpy.ones` does?\n",
    " - How do we get the size of an existing array? We can use `numpy.shape`.\n",
    " - We can also create an array with the same size as an existing array using `numpy.zeros_like` or `numpy.ones_like`."
   ]
  },
  {
   "cell_type": "markdown",
   "metadata": {
    "collapsed": false,
    "jupyter": {
     "outputs_hidden": false,
     "source_hidden": false
    },
    "nteract": {
     "transient": {
      "deleting": false
     }
    },
    "outputExpanded": false
   },
   "source": [
    "## 4. Loading and Saving Data\n",
    "We don't often save data to files in Python, but we may import data from an external source. Let's load some data from a \"comma separated value\" or CSV file using `np.loadtxt`. As inputs, this function requires the file name or path as a text string, and we need to specify the `delimiter` between values to be a comma.   \n",
    "```\n",
    "In  [1]: data = loadtxt('data.csv', delimiter=',')\n",
    "``` \n",
    "> **TASK:** Load the data in `data.csv` into an array named `data` and show that the `shape` of this array is `(40, 19)`"
   ]
  },
  {
   "cell_type": "code",
   "execution_count": 13,
   "metadata": {},
   "outputs": [
    {
     "data": {
      "text/plain": [
       "(40, 19)"
      ]
     },
     "execution_count": 13,
     "metadata": {},
     "output_type": "execute_result"
    }
   ],
   "source": [
    "data = np.loadtxt('data.csv', delimiter=',')\n",
    "shape(data)"
   ]
  },
  {
   "cell_type": "markdown",
   "metadata": {
    "collapsed": false,
    "jupyter": {
     "outputs_hidden": false,
     "source_hidden": false
    },
    "nteract": {
     "transient": {
      "deleting": false
     }
    },
    "outputExpanded": false
   },
   "source": [
    "## 5. Indexing into and Modifying Arrays\n",
    "Use indexing to extract and modify rows, columns, and elements of `numpy` arrays."
   ]
  },
  {
   "cell_type": "markdown",
   "metadata": {
    "collapsed": false,
    "jupyter": {
     "outputs_hidden": false,
     "source_hidden": false
    },
    "nteract": {
     "transient": {
      "deleting": false
     }
    },
    "outputExpanded": false
   },
   "source": [
    "### Indexing into Arrays"
   ]
  },
  {
   "cell_type": "markdown",
   "metadata": {},
   "source": [
    "We can extract values from an array using row, column indexing.\n",
    "\n",
    "```\n",
    "In  [1]: y =  A[5, 7]\n",
    "``` \n",
    "\n",
    "This syntax extracts the value in the 5th row and 7th column of `A` and assigns the result to the variable `y`. A couple of important notes:\n",
    "\n",
    " - Indexing into arrays and lists is done using square brackets with comma separators, `[5, 7]`.\n",
    " - For a 2D array, the first index is always the row number and the second index the column number, just like MATLAB.\n",
    " - **Python indexing starts with 0 (zero) and so the beginning row is the `0th` row and the `5th` row has 5 rows above it!!**"
   ]
  },
  {
   "cell_type": "markdown",
   "metadata": {},
   "source": [
    "> **TASK:** Create a variable `x` that contains the value in the `0th` row and `3rd` column of the array `data`."
   ]
  },
  {
   "cell_type": "code",
   "execution_count": 14,
   "metadata": {},
   "outputs": [
    {
     "data": {
      "text/plain": [
       "29.0"
      ]
     },
     "execution_count": 14,
     "metadata": {},
     "output_type": "execute_result"
    }
   ],
   "source": [
    "x = data[0,3]\n",
    "x"
   ]
  },
  {
   "cell_type": "markdown",
   "metadata": {},
   "source": [
    "<hr>\n",
    "\n",
    "You can use the index `-1` as either a row or column index to reference the last element.\n",
    "```\n",
    "In  [1]: y = A[-1,2]\n",
    "``` \n",
    "\n",
    "> **TASK:** Use the `-1` index to obtain the value in the last row and 4th column of the array `data`. Assign this value to a variable named x."
   ]
  },
  {
   "cell_type": "code",
   "execution_count": 15,
   "metadata": {},
   "outputs": [
    {
     "data": {
      "text/plain": [
       "13.0"
      ]
     },
     "execution_count": 15,
     "metadata": {},
     "output_type": "execute_result"
    }
   ],
   "source": [
    "x=data[-1,4]\n",
    "x"
   ]
  },
  {
   "cell_type": "markdown",
   "metadata": {},
   "source": [
    "<hr>\n",
    "\n",
    "We can access elements close to the end of an array using larger negative indices.\n",
    "```\n",
    "In  [1]: y =  A[-3,-2]\n",
    "``` \n",
    "\n",
    "> **TASK:** Create a scalar variable `x` that contains the value in the second to last row and 3rd to last column of `data`."
   ]
  },
  {
   "cell_type": "code",
   "execution_count": 16,
   "metadata": {},
   "outputs": [
    {
     "data": {
      "text/plain": [
       "58.0"
      ]
     },
     "execution_count": 16,
     "metadata": {},
     "output_type": "execute_result"
    }
   ],
   "source": [
    "x=data[-2,-3]\n",
    "x"
   ]
  },
  {
   "cell_type": "markdown",
   "metadata": {},
   "source": [
    "<hr>\n",
    "\n",
    "#### Further Practice\n",
    "If you only use one index with a 2D array, it will return the row associated with that index. Using one index, try extracting the eighth row of `data`.\n",
    "\n",
    "You can also use variables as your index. Try creating a variable `y`, and use `y` as the index to `data`."
   ]
  },
  {
   "cell_type": "code",
   "execution_count": 17,
   "metadata": {},
   "outputs": [
    {
     "data": {
      "text/plain": [
       "array([27.        , 25.        , 16.        , 26.5       , 13.        ,\n",
       "       23.        ,  6.66666667, 40.        ,  8.225     , 10.        ,\n",
       "       17.        , 15.5       ,  0.        , 19.        ,  8.58333333,\n",
       "       10.        , 81.        , 66.        , 18.375     ])"
      ]
     },
     "execution_count": 17,
     "metadata": {},
     "output_type": "execute_result"
    }
   ],
   "source": [
    "y = 3\n",
    "data[y]"
   ]
  },
  {
   "cell_type": "markdown",
   "metadata": {
    "collapsed": false,
    "jupyter": {
     "outputs_hidden": false,
     "source_hidden": false
    },
    "nteract": {
     "transient": {
      "deleting": false
     }
    },
    "outputExpanded": false
   },
   "source": [
    "When used as an index, the colon operator (:) specifies all the elements in that dimension. The syntax\n",
    " ```\n",
    " x = A[2,:]\n",
    " ```\n",
    "creates a 1D array containing all of the elements from the `2nd` row of A. In this case both `A[2]` and `A[2,:]` produce the same result.\n",
    "\n",
    "> **TASK:** Create a variable named `density` that contains the second column of the 2D array named `data`."
   ]
  },
  {
   "cell_type": "code",
   "execution_count": 18,
   "metadata": {},
   "outputs": [
    {
     "data": {
      "text/plain": [
       "array([15. , 14. , 11. , 16. , 18. ,  2. , 15. , 12. ,  0. , 20. ,  5.5,\n",
       "       17. , 15. ,  0. , 14. ,  0. , 17. , 15. ,  8. , 18. , 19. , 11. ,\n",
       "       17. , 16. , 15. , 18. , 18. , 20. ,  0. , 16. , 11. , 17. , 19. ,\n",
       "        0. , 17. , 15. , 11. ,  6. ,  0. , 16. ])"
      ]
     },
     "execution_count": 18,
     "metadata": {},
     "output_type": "execute_result"
    }
   ],
   "source": [
    "density=data[:,2]\n",
    "density"
   ]
  },
  {
   "cell_type": "markdown",
   "metadata": {},
   "source": [
    "<hr>\n",
    "\n",
    "The colon operator can refer to a range of values. The following syntax creates a 2D array containing the `0th` through `2nd` columns of the array `A`.\n",
    "\n",
    "```\n",
    "y =  A[:, 0:3]\n",
    "``` \n",
    "\n",
    "**Note:** The value `3` represents the first _excluded_ column extracted from `A`. If there is no excluded column (*i.e.* we want to include column `-1`) we can omit an index, for example:\n",
    "```\n",
    "y =  A[:, 0:]\n",
    "``` \n",
    "\n",
    "> **TASK:** Create a variable `volume` containing the last two columns of `data`."
   ]
  },
  {
   "cell_type": "code",
   "execution_count": 19,
   "metadata": {},
   "outputs": [
    {
     "data": {
      "text/plain": [
       "array([[ 73.   ,  21.5  ],\n",
       "       [ 87.   ,  24.125],\n",
       "       [ 90.   ,  23.375],\n",
       "       [ 66.   ,  18.375],\n",
       "       [ 72.   ,  17.125],\n",
       "       [ 52.   ,  17.75 ],\n",
       "       [ 79.   ,  20.625],\n",
       "       [ 54.   ,  14.125],\n",
       "       [ 60.   ,  18.5  ],\n",
       "       [ 75.   ,  20.25 ],\n",
       "       [ 48.   ,  14.125],\n",
       "       [ 81.   ,  22.   ],\n",
       "       [ 84.   ,  22.75 ],\n",
       "       [ 59.   ,  18.5  ],\n",
       "       [ 77.   ,  20.625],\n",
       "       [ 81.   ,  17.   ],\n",
       "       [ 90.   ,  24.625],\n",
       "       [ 69.   ,  13.5  ],\n",
       "       [ 80.   ,  21.625],\n",
       "       [ 70.   ,  18.75 ],\n",
       "       [ 80.   ,  21.   ],\n",
       "       [ 87.   ,  22.75 ],\n",
       "       [102.   ,  23.625],\n",
       "       [104.   ,  25.5  ],\n",
       "       [ 86.   ,  23.375],\n",
       "       [ 98.   ,  26.   ],\n",
       "       [ 87.   ,  21.75 ],\n",
       "       [ 92.   ,  24.75 ],\n",
       "       [ 61.   ,  16.375],\n",
       "       [ 95.   ,  23.375],\n",
       "       [ 82.   ,  20.875],\n",
       "       [101.   ,  25.375],\n",
       "       [ 91.   ,  23.   ],\n",
       "       [ 45.   ,  14.125],\n",
       "       [ 90.   ,  21.875],\n",
       "       [ 61.   ,  16.   ],\n",
       "       [ 32.   ,  12.25 ],\n",
       "       [ 38.   ,  11.125],\n",
       "       [ 88.   ,  18.25 ],\n",
       "       [ 66.   ,  18.875]])"
      ]
     },
     "execution_count": 19,
     "metadata": {},
     "output_type": "execute_result"
    }
   ],
   "source": [
    "volume= data[:,-2:]\n",
    "volume"
   ]
  },
  {
   "cell_type": "markdown",
   "metadata": {},
   "source": [
    "<hr>\n",
    "\n",
    "`1D` arrays require a single index. For example: \n",
    "\n",
    "```\n",
    "u =  v[4]\n",
    "``` \n",
    "\n",
    "returns the `4th` element of 1D array `v`.\n",
    "> **TASK:** Using a single index value, create a variable named `p` containing the `6th` element in the 1D array `density`."
   ]
  },
  {
   "cell_type": "code",
   "execution_count": 20,
   "metadata": {},
   "outputs": [
    {
     "data": {
      "text/plain": [
       "15.0"
      ]
     },
     "execution_count": 20,
     "metadata": {},
     "output_type": "execute_result"
    }
   ],
   "source": [
    "p=density[6]\n",
    "p"
   ]
  },
  {
   "cell_type": "markdown",
   "metadata": {},
   "source": [
    "<hr>\n",
    "\n",
    "A single range of index values can be used to reference a subset of a 1D array. For example: \n",
    "\n",
    "```\n",
    "x = v[3:]\n",
    "```\n",
    "\n",
    "returns a subset of 1D array `v` from the `3rd` element to the end.\n",
    "\n",
    "> **TASK:** Using a range of index values, create a 1D array named `p` containing the `2nd` through `5th` elements of `density`."
   ]
  },
  {
   "cell_type": "code",
   "execution_count": 21,
   "metadata": {},
   "outputs": [
    {
     "data": {
      "text/plain": [
       "array([11., 16., 18.,  2.])"
      ]
     },
     "execution_count": 21,
     "metadata": {},
     "output_type": "execute_result"
    }
   ],
   "source": [
    "p=density[2:6]\n",
    "p"
   ]
  },
  {
   "cell_type": "code",
   "execution_count": 22,
   "metadata": {},
   "outputs": [
    {
     "data": {
      "text/plain": [
       "array([14., 16., 15.])"
      ]
     },
     "execution_count": 22,
     "metadata": {},
     "output_type": "execute_result"
    }
   ],
   "source": [
    "density[[1, 3, 6]]"
   ]
  },
  {
   "cell_type": "markdown",
   "metadata": {},
   "source": [
    "<hr>\n",
    "\n",
    "#### Further Practice\n",
    "Indices can be lists of non-consecutive numbers, such as `[4, 8, 3]` Try extracting the first, third, and sixth elements of density."
   ]
  },
  {
   "cell_type": "markdown",
   "metadata": {
    "collapsed": false,
    "jupyter": {
     "outputs_hidden": false,
     "source_hidden": false
    },
    "nteract": {
     "transient": {
      "deleting": false
     }
    },
    "outputExpanded": false
   },
   "source": [
    "Remember we can use the `:` character to extract entire columns of data.\n",
    "> **TASK:** Create a 1D array named `v1` containing the last column of `data`."
   ]
  },
  {
   "cell_type": "code",
   "execution_count": 23,
   "metadata": {},
   "outputs": [
    {
     "data": {
      "text/plain": [
       "array([21.5  , 24.125, 23.375, 18.375, 17.125, 17.75 , 20.625, 14.125,\n",
       "       18.5  , 20.25 , 14.125, 22.   , 22.75 , 18.5  , 20.625, 17.   ,\n",
       "       24.625, 13.5  , 21.625, 18.75 , 21.   , 22.75 , 23.625, 25.5  ,\n",
       "       23.375, 26.   , 21.75 , 24.75 , 16.375, 23.375, 20.875, 25.375,\n",
       "       23.   , 14.125, 21.875, 16.   , 12.25 , 11.125, 18.25 , 18.875])"
      ]
     },
     "execution_count": 23,
     "metadata": {},
     "output_type": "execute_result"
    }
   ],
   "source": [
    "v1=data[:,-1]\n",
    "v1"
   ]
  },
  {
   "cell_type": "markdown",
   "metadata": {},
   "source": [
    "### Changing Values in Arrays"
   ]
  },
  {
   "cell_type": "markdown",
   "metadata": {},
   "source": [
    "<hr>\n",
    "\n",
    "It's very important to note that `v1` is not independent of `data`. If we change `v1`, we change `data`. We can alter elements of an array by combining indexing with assignment:\n",
    "```\n",
    "A[2] = 11\n",
    "```\n",
    "\n",
    "> **TASK:** Change the `0th` element in `v1` from 21.5 to 0.5. Then, show that `data[0,-1]` also changes."
   ]
  },
  {
   "cell_type": "code",
   "execution_count": 24,
   "metadata": {},
   "outputs": [
    {
     "data": {
      "text/plain": [
       "0.5"
      ]
     },
     "execution_count": 24,
     "metadata": {},
     "output_type": "execute_result"
    }
   ],
   "source": [
    "v1[0] = 0.5\n",
    "data[0,-1]"
   ]
  },
  {
   "cell_type": "markdown",
   "metadata": {},
   "source": [
    "<hr>\n",
    "\n",
    "> **TASK:** Change the value of the element in the first row and last column of data back to 21.5. What happens to `v1[0]`?"
   ]
  },
  {
   "cell_type": "code",
   "execution_count": 25,
   "metadata": {},
   "outputs": [
    {
     "data": {
      "text/plain": [
       "21.5"
      ]
     },
     "execution_count": 25,
     "metadata": {},
     "output_type": "execute_result"
    }
   ],
   "source": [
    "data[0,-1]=21.5\n",
    "v1[0]"
   ]
  },
  {
   "cell_type": "markdown",
   "metadata": {},
   "source": [
    "<hr>\n",
    "\n",
    "If we want to make `v1` a separate, independent copy, we can use the `numpy.copy` function.\n",
    "\n",
    "```\n",
    "y= copy(A[:,0])\n",
    "```\n",
    "\n",
    "> **TASK:** Create a 1D array named `v2` that contains the last column of `data`, by using the `copy` function. Then, change the value of the `0th` element of `v2` to `0.5` and show that `data[0,-1]` remains 21.5."
   ]
  },
  {
   "cell_type": "code",
   "execution_count": 26,
   "metadata": {},
   "outputs": [
    {
     "data": {
      "text/plain": [
       "21.5"
      ]
     },
     "execution_count": 26,
     "metadata": {},
     "output_type": "execute_result"
    }
   ],
   "source": [
    "v2=copy(data[:,-1])\n",
    "v2[0]=0.5\n",
    "data[0,-1]"
   ]
  },
  {
   "cell_type": "markdown",
   "metadata": {},
   "source": [
    "<hr>\n",
    "\n",
    "#### Further Practice\n",
    "\n",
    "We can combine indexing with assignment to change array values to equal other elements. For example, this code would change the value of x[1] to x[2]:\n",
    "```\n",
    "x[1] = x[2]\n",
    "```\n",
    "\n",
    "Try changing the `0th` column of `data` to the `1st` column of `data`."
   ]
  },
  {
   "cell_type": "code",
   "execution_count": 27,
   "metadata": {},
   "outputs": [
    {
     "data": {
      "text/plain": [
       "(0.5918374431618141, 0.7542978449436479, 0.9106466820902557)"
      ]
     },
     "execution_count": 27,
     "metadata": {},
     "output_type": "execute_result"
    }
   ],
   "source": [
    "r1, r2, r3 = random_sample(3)\n",
    "r1, r2, r3"
   ]
  },
  {
   "cell_type": "markdown",
   "metadata": {},
   "source": [
    "### Unpacking Lists and Arrays\n",
    "\n",
    "Both lists and arrays can be unpacked into individual variables:\n",
    "\n",
    "```\n",
    "k1, k2, k3, k4 = [0.1, 0.2, 0.3, 0.5]\n",
    "```\n",
    "\n",
    "> **TASK:** Create a 1D random array of length 3 using `random_sample` and unpack it into three variables, `r1`, `r2`, `r3`"
   ]
  },
  {
   "cell_type": "markdown",
   "metadata": {
    "scrolled": true
   },
   "source": [
    "<hr>\n",
    "\n",
    "We can add together any two arrays of the same size.\n",
    "\n",
    "```\n",
    "z = x + y\n",
    "```\n",
    "\n",
    "> **TASK:** Create a 1D array `vavg` that is the average of the arrays `v1` and `v2`."
   ]
  },
  {
   "cell_type": "code",
   "execution_count": 28,
   "metadata": {},
   "outputs": [
    {
     "data": {
      "text/plain": [
       "array([11.   , 24.125, 23.375, 18.375, 17.125, 17.75 , 20.625, 14.125,\n",
       "       18.5  , 20.25 , 14.125, 22.   , 22.75 , 18.5  , 20.625, 17.   ,\n",
       "       24.625, 13.5  , 21.625, 18.75 , 21.   , 22.75 , 23.625, 25.5  ,\n",
       "       23.375, 26.   , 21.75 , 24.75 , 16.375, 23.375, 20.875, 25.375,\n",
       "       23.   , 14.125, 21.875, 16.   , 12.25 , 11.125, 18.25 , 18.875])"
      ]
     },
     "execution_count": 28,
     "metadata": {},
     "output_type": "execute_result"
    }
   ],
   "source": [
    "vavg = (v1 + v2) / 2\n",
    "vavg"
   ]
  },
  {
   "cell_type": "markdown",
   "metadata": {},
   "source": [
    "## 6. Array Calculations\n",
    "Perform calculations on entire arrays at once."
   ]
  },
  {
   "cell_type": "markdown",
   "metadata": {},
   "source": [
    "<hr>\n",
    "\n",
    "Basic statistical functions in Python can be applied to an array to produce a single output. The maximum value of a 1D array can be determined using the `np.max` function.\n",
    "```\n",
    "xMax = max(x)\n",
    "```\n",
    "> **TASK:** Create a variable vm containing the maximum of the array `vavg`."
   ]
  },
  {
   "cell_type": "code",
   "execution_count": 29,
   "metadata": {},
   "outputs": [
    {
     "data": {
      "text/plain": [
       "array([22.5  , 25.125, 24.375, 19.375, 18.125, 18.75 , 21.625, 15.125,\n",
       "       19.5  , 21.25 , 15.125, 23.   , 23.75 , 19.5  , 21.625, 18.   ,\n",
       "       25.625, 14.5  , 22.625, 19.75 , 22.   , 23.75 , 24.625, 26.5  ,\n",
       "       24.375, 27.   , 22.75 , 25.75 , 17.375, 24.375, 21.875, 26.375,\n",
       "       24.   , 15.125, 22.875, 17.   , 13.25 , 12.125, 19.25 , 19.875])"
      ]
     },
     "execution_count": 29,
     "metadata": {},
     "output_type": "execute_result"
    }
   ],
   "source": [
    "r = v1 + 1\n",
    "r"
   ]
  },
  {
   "cell_type": "markdown",
   "metadata": {},
   "source": [
    "<hr>\n",
    "\n",
    "In `numpy`, the `*` operator performs element-wise array multiplication, as opposed to matrix multiplication. We can use * to multiply two equally sized arrays. \n",
    "\n",
    "```\n",
    "In  [1]: z = array([3, 4]) * array([10, 20])\n",
    "         z \n",
    "Out [1]: 30    80\n",
    "```\n",
    "**NOTE:** Using `numpy`, the \"dot\" operators `.*` and `./` are not required to accomplish element-wise math, as they are in MATLAB.\n",
    "\n",
    "> **TASK:** Create a variable named `mass` containing the elementwise product of `density` and `vavg`."
   ]
  },
  {
   "cell_type": "code",
   "execution_count": 30,
   "metadata": {},
   "outputs": [
    {
     "data": {
      "text/plain": [
       "26.0"
      ]
     },
     "execution_count": 30,
     "metadata": {},
     "output_type": "execute_result"
    }
   ],
   "source": [
    "vm = max(vavg)\n",
    "vm"
   ]
  },
  {
   "cell_type": "markdown",
   "metadata": {},
   "source": [
    "<hr>\n",
    "\n",
    "#### Further Practice\n",
    "We have performed array operations with arrays of the same size and with scalars and arrays.\n",
    "The concept of [broadcasting](https://numpy.org/doc/stable/user/basics.broadcasting.html) enables operation on other compatible sizes. For example, try the following:\n",
    "\n",
    "```\n",
    "x = array([[1, 3, 5, 7], [2, 4, 6, 8]]) * array([1,2,3,4])\n",
    "```\n",
    "\n",
    "What size is x?"
   ]
  },
  {
   "cell_type": "code",
   "execution_count": 31,
   "metadata": {},
   "outputs": [
    {
     "data": {
      "text/plain": [
       "array([165.    , 337.75  , 257.125 , 294.    , 308.25  ,  35.5   ,\n",
       "       309.375 , 169.5   ,   0.    , 405.    ,  77.6875, 374.    ,\n",
       "       341.25  ,   0.    , 288.75  ,   0.    , 418.625 , 202.5   ,\n",
       "       173.    , 337.5   , 399.    , 250.25  , 401.625 , 408.    ,\n",
       "       350.625 , 468.    , 391.5   , 495.    ,   0.    , 374.    ,\n",
       "       229.625 , 431.375 , 437.    ,   0.    , 371.875 , 240.    ,\n",
       "       134.75  ,  66.75  ,   0.    , 302.    ])"
      ]
     },
     "execution_count": 31,
     "metadata": {},
     "output_type": "execute_result"
    }
   ],
   "source": [
    "mass= density * vavg\n",
    "mass"
   ]
  },
  {
   "cell_type": "code",
   "execution_count": 32,
   "metadata": {},
   "outputs": [
    {
     "data": {
      "text/plain": [
       "(2, 4)"
      ]
     },
     "execution_count": 32,
     "metadata": {},
     "output_type": "execute_result"
    }
   ],
   "source": [
    "x = array([[1, 3, 5, 7], [2, 4, 6, 8]]) * array([1,2,3,4])\n",
    "shape(x)"
   ]
  },
  {
   "cell_type": "code",
   "execution_count": null,
   "metadata": {},
   "outputs": [],
   "source": []
  }
 ],
 "metadata": {
  "hide_input": false,
  "kernel_info": {
   "name": "python3"
  },
  "kernelspec": {
   "display_name": "Environment (conda_python-3.10.12)",
   "language": "python",
   "name": "conda_python-3.10.12"
  },
  "language_info": {
   "codemirror_mode": {
    "name": "ipython",
    "version": 3
   },
   "file_extension": ".py",
   "mimetype": "text/x-python",
   "name": "python",
   "nbconvert_exporter": "python",
   "pygments_lexer": "ipython3",
   "version": "3.10.18"
  },
  "nteract": {
   "version": "0.22.4"
  },
  "toc": {
   "base_numbering": 1,
   "nav_menu": {},
   "number_sections": false,
   "sideBar": true,
   "skip_h1_title": false,
   "title_cell": "Table of Contents",
   "title_sidebar": "Contents",
   "toc_cell": false,
   "toc_position": {},
   "toc_section_display": "block",
   "toc_window_display": false
  },
  "varInspector": {
   "cols": {
    "lenName": 16,
    "lenType": 16,
    "lenVar": 40
   },
   "kernels_config": {
    "python": {
     "delete_cmd_postfix": "",
     "delete_cmd_prefix": "del ",
     "library": "var_list.py",
     "varRefreshCmd": "print(var_dic_list())"
    },
    "r": {
     "delete_cmd_postfix": ") ",
     "delete_cmd_prefix": "rm(",
     "library": "var_list.r",
     "varRefreshCmd": "cat(var_dic_list()) "
    }
   },
   "types_to_exclude": [
    "module",
    "function",
    "builtin_function_or_method",
    "instance",
    "_Feature"
   ],
   "window_display": false
  }
 },
 "nbformat": 4,
 "nbformat_minor": 4
}