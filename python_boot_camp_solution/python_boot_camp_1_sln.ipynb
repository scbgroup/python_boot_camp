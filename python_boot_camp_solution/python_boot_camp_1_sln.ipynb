{
 "cells": [
  {
   "cell_type": "markdown",
   "metadata": {},
   "source": [
    "# Python  Boot Camp 1\n",
    "Based on [MATLAB Onramp](https://matlabacademy.mathworks.com)"
   ]
  },
  {
   "cell_type": "markdown",
   "metadata": {
    "collapsed": false,
    "jupyter": {
     "outputs_hidden": false,
     "source_hidden": false
    },
    "nteract": {
     "transient": {
      "deleting": false
     }
    },
    "outputExpanded": false,
    "tags": [
     "Show"
    ]
   },
   "source": [
    "<div style=\"background-color:#FEFFDE; padding:1em\">\n",
    "\n",
    "## Jupyter Tips\n",
    "\n",
    "<div style=\"background-color:#FEFFDE; padding:1em\">\n",
    "\n",
    "### Cell Modes\n",
    " - Enter <span style=\"color:#1C8E01\">**Edit Mode**</span> by pressing <span style=\"color:#1C8E01\">**Return**</span> with a cell selected - cell turns **white** with blinking cursor.\n",
    " - Enter <span style=\"color:#1277F5\">**Command Mode**</span> by pressing <span style=\"color:#1277F5\">**Escape**</span> - cell turns **gray** with no cursor.\n",
    "\n",
    "<div style=\"background-color:#FEFFDE; padding:1em\">\n",
    "\n",
    "### Cell Types\n",
    " - Code cell (shortcut key: `Y`) \n",
    " - [Markdown](https://www.ibm.com/support/knowledgecenter/SSHGWL_1.2.3/analyze-data/markd-jupyter.html) cell (shortcut key: `M`) $\\qquad$ \n",
    " - Heading/subheading cells (`1`, `2`, `3`, `4`)\n",
    "     - This cell is a tricked out markdown cell.\n",
    "\n",
    "<div style=\"background-color:#FEFFDE; padding:1em\">\n",
    "\n",
    "### Other Shortcut Keys\n",
    "\n",
    " - In command mode:\n",
    "   - `A`: Insert Cell above\n",
    "   - `B`: Insert Cell below\n",
    "\n",
    " - Anywhere:\n",
    "   - `Ctrl-Return`: Run selected cells\n",
    "   - `Shift-Return`: Run cells and select below\n",
    "\n",
    "<div style=\"background-color:#FEFFDE; padding:1em\">\n",
    "\n",
    "### Comments\n",
    "\n",
    "Add comments in code cells by starting with a hashtag `#`.  This can be useful for explaining code, adding references or keeping track of units.\n",
    "</div>"
   ]
  },
  {
   "cell_type": "markdown",
   "metadata": {
    "collapsed": false,
    "jupyter": {
     "outputs_hidden": false,
     "source_hidden": false
    },
    "nteract": {
     "transient": {
      "deleting": false
     }
    },
    "outputExpanded": false
   },
   "source": [
    "### Entering Commands"
   ]
  },
  {
   "cell_type": "markdown",
   "metadata": {
    "collapsed": false,
    "jupyter": {
     "outputs_hidden": false,
     "source_hidden": false
    },
    "nteract": {
     "transient": {
      "deleting": false
     }
    },
    "outputExpanded": false
   },
   "source": [
    "We can execute commands by entering them in a code cell after the prompt (`In [ ]:`) and pressing the Enter key. \n",
    "\n",
    "> **TASK:** Multiply the numbers `3` and `5` together with the command `3*5`. _ans = 15_"
   ]
  },
  {
   "cell_type": "code",
   "execution_count": 1,
   "metadata": {},
   "outputs": [
    {
     "data": {
      "text/plain": [
       "15"
      ]
     },
     "execution_count": 1,
     "metadata": {},
     "output_type": "execute_result"
    }
   ],
   "source": [
    "3*5"
   ]
  },
  {
   "cell_type": "markdown",
   "metadata": {
    "collapsed": false,
    "jupyter": {
     "outputs_hidden": false,
     "source_hidden": false
    },
    "nteract": {
     "transient": {
      "deleting": false
     }
    },
    "outputExpanded": false
   },
   "source": [
    "<hr>\n",
    "\n",
    "The equals sign (`=`) in Python is the assignment operator, meaning that the expression on the right of the equals sign is assigned to the variable on the left.\n",
    "\n",
    "When we enter `x = 3 + 4`, Python first evaluates `3 + 4` and then assigns the result (`7`) to the variable `x`.\n",
    "\n",
    "> **TASK:** Assign the `3*5` calculation to a variable named `m` as shown:\n",
    "```\n",
    "m = 3*5\n",
    "```"
   ]
  },
  {
   "cell_type": "code",
   "execution_count": 2,
   "metadata": {},
   "outputs": [],
   "source": [
    "m=3*5"
   ]
  },
  {
   "cell_type": "markdown",
   "metadata": {},
   "source": [
    "<hr>\n",
    "\n",
    "> **TASK:** in Python, the result of an assignment is not not shown by default. Enter `m` to display the result."
   ]
  },
  {
   "cell_type": "code",
   "execution_count": 3,
   "metadata": {},
   "outputs": [
    {
     "data": {
      "text/plain": [
       "15"
      ]
     },
     "execution_count": 3,
     "metadata": {},
     "output_type": "execute_result"
    }
   ],
   "source": [
    "m"
   ]
  },
  {
   "cell_type": "markdown",
   "metadata": {
    "collapsed": false,
    "jupyter": {
     "outputs_hidden": false,
     "source_hidden": false
    },
    "nteract": {
     "transient": {
      "deleting": false
     }
    },
    "outputExpanded": false
   },
   "source": [
    "<hr>\n",
    "\n",
    "> **TASK:** Enter the following commands to see what happens:\n",
    "```\n",
    "m=m+1\n",
    "m\n",
    "```"
   ]
  },
  {
   "cell_type": "code",
   "execution_count": 4,
   "metadata": {},
   "outputs": [
    {
     "data": {
      "text/plain": [
       "16"
      ]
     },
     "execution_count": 4,
     "metadata": {},
     "output_type": "execute_result"
    }
   ],
   "source": [
    "m=m+1\n",
    "m"
   ]
  },
  {
   "cell_type": "markdown",
   "metadata": {},
   "source": [
    "<hr>\n",
    "\n",
    "> **TASK:** Create a variable named `a` that has the value `m/2`, and show its value."
   ]
  },
  {
   "cell_type": "code",
   "execution_count": 5,
   "metadata": {},
   "outputs": [
    {
     "data": {
      "text/plain": [
       "8.0"
      ]
     },
     "execution_count": 5,
     "metadata": {},
     "output_type": "execute_result"
    }
   ],
   "source": [
    "a=m/2\n",
    "a"
   ]
  },
  {
   "cell_type": "markdown",
   "metadata": {},
   "source": [
    "### Naming Variables"
   ]
  },
  {
   "cell_type": "markdown",
   "metadata": {},
   "source": [
    "We can name Python variables anything we'd like as long as they start with a letter and\n",
    "contain only letters, numbers, and underscores (_).\n",
    "\n",
    "Python variables are also case sensitive.\n",
    "\n",
    "> **TASK:** Assign the value `-2` to the variable `A`."
   ]
  },
  {
   "cell_type": "code",
   "execution_count": 6,
   "metadata": {},
   "outputs": [
    {
     "data": {
      "text/plain": [
       "-2"
      ]
     },
     "execution_count": 6,
     "metadata": {},
     "output_type": "execute_result"
    }
   ],
   "source": [
    "A=-2\n",
    "A"
   ]
  },
  {
   "cell_type": "markdown",
   "metadata": {},
   "source": [
    "<hr> \n",
    "\n",
    "Notice that the variables `a` and `A` both exist in the workspace.\n",
    "\n",
    "We can name all our variables `a` or `x`, but it is more useful to name variables something meaningful.\n",
    "\n",
    "> **TASK:** Calculate $\\frac{a+A}{2}$. Assign the result to the variable `avgAa`."
   ]
  },
  {
   "cell_type": "code",
   "execution_count": 7,
   "metadata": {},
   "outputs": [
    {
     "data": {
      "text/plain": [
       "3.0"
      ]
     },
     "execution_count": 7,
     "metadata": {},
     "output_type": "execute_result"
    }
   ],
   "source": [
    "avgAa = (a+A)/2\n",
    "avgAa"
   ]
  },
  {
   "cell_type": "markdown",
   "metadata": {},
   "source": [
    "<hr> \n",
    "\n",
    "\n",
    "The line magic `%who` can be used to show the variables in the workspace; the magic `%whos` shows some extra information.\n",
    "\n",
    "> **TASK:** Use the line magic `%whos` to show the current variables. You may see some extra variables defined there."
   ]
  },
  {
   "cell_type": "code",
   "execution_count": 8,
   "metadata": {},
   "outputs": [
    {
     "name": "stdout",
     "output_type": "stream",
     "text": [
      "Variable   Type     Data/Info\n",
      "-----------------------------\n",
      "A          int      -2\n",
      "a          float    8.0\n",
      "avgAa      float    3.0\n",
      "m          int      16\n"
     ]
    }
   ],
   "source": [
    "%whos"
   ]
  },
  {
   "cell_type": "markdown",
   "metadata": {},
   "source": [
    "<hr> \n",
    "\n",
    "#### Further Practice\n",
    "\n",
    "If we use an invalid variable name, Python will display an error message. We can modify the variable name to something that is allowed to eliminate the error.\n",
    "\n",
    "> **TASK:** Try creating the variable `3sq = 9` to demonstrate this behavior."
   ]
  },
  {
   "cell_type": "code",
   "execution_count": 9,
   "metadata": {},
   "outputs": [
    {
     "ename": "SyntaxError",
     "evalue": "invalid decimal literal (4137718987.py, line 1)",
     "output_type": "error",
     "traceback": [
      "  \u001b[36mCell\u001b[39m\u001b[36m \u001b[39m\u001b[32mIn[9]\u001b[39m\u001b[32m, line 1\u001b[39m\n\u001b[31m    \u001b[39m\u001b[31m3sq=9\u001b[39m\n    ^\n\u001b[31mSyntaxError\u001b[39m\u001b[31m:\u001b[39m invalid decimal literal\n"
     ]
    }
   ],
   "source": [
    "3sq=9"
   ]
  },
  {
   "cell_type": "markdown",
   "metadata": {},
   "source": [
    "## 2. Python Functions and Packages"
   ]
  },
  {
   "cell_type": "markdown",
   "metadata": {},
   "source": [
    "### Python functions"
   ]
  },
  {
   "cell_type": "markdown",
   "metadata": {},
   "source": [
    "In python, functions are just one type of variable, similar to a string or an integer. We call all of these variables \"objects\".  To create a function, we use the `def` command.  Here is some simple code to create a function that averages two numbers:\n",
    "\n",
    "```\n",
    "def avg(a, b):\n",
    "    return (a + b)/2.0\n",
    "```"
   ]
  },
  {
   "cell_type": "markdown",
   "metadata": {},
   "source": [
    "Note the form of the function definition:\n",
    " - The function name comes before parentheses with the function inputs inside parentheses separated by commas.\n",
    " - The `def` command ends in a colon.\n",
    " - The lines that make up the function definition are indented.  When the indent ends, the function definition ends.\n",
    " - The output of the function is given by the argument of the `return` command"
   ]
  },
  {
   "cell_type": "code",
   "execution_count": 10,
   "metadata": {},
   "outputs": [],
   "source": [
    "def avg(a,b):\n",
    "    return (a+b)/2.0"
   ]
  },
  {
   "cell_type": "code",
   "execution_count": 11,
   "metadata": {},
   "outputs": [
    {
     "data": {
      "text/plain": [
       "3.0"
      ]
     },
     "execution_count": 11,
     "metadata": {},
     "output_type": "execute_result"
    }
   ],
   "source": [
    "avg(a,A)"
   ]
  },
  {
   "cell_type": "markdown",
   "metadata": {},
   "source": [
    "<hr> \n",
    "\n",
    "Now the function `avg` exists as an object in the workspace.\n",
    "\n",
    "> **TASK:** Use the line magic `%whos` to show that `avg` is an object in the workspace."
   ]
  },
  {
   "cell_type": "code",
   "execution_count": 12,
   "metadata": {},
   "outputs": [
    {
     "name": "stdout",
     "output_type": "stream",
     "text": [
      "Variable   Type        Data/Info\n",
      "--------------------------------\n",
      "A          int         -2\n",
      "a          float       8.0\n",
      "avg        function    <function avg at 0x1176a7ce0>\n",
      "avgAa      float       3.0\n",
      "m          int         16\n"
     ]
    }
   ],
   "source": [
    "%whos"
   ]
  },
  {
   "cell_type": "markdown",
   "metadata": {},
   "source": [
    "### Python Packages"
   ]
  },
  {
   "cell_type": "markdown",
   "metadata": {},
   "source": [
    "Because python is a general purpose programming language with very broad capabilities, we `import` very specific packages of functions and constants to do numerical work.  There are three main packages that we will use:\n",
    "\n",
    " 1. [`numpy`](http://numpy.org/): provides functions for computing with numerical arrays (vectors and matrices) \n",
    " 2. [`scipy`](https://www.scipy.org/scipylib/index.html): provide functions for numerical integration, interpolation, optimization, linear algebra, and statistics, specifically designed to work with numpy.\n",
    " 3. [`matplotlib.pyplot`](https://matplotlib.org/3.1.0/tutorials/introductory/pyplot.html): provides high quality plotting functions"
   ]
  },
  {
   "cell_type": "markdown",
   "metadata": {},
   "source": [
    "### Importing Packages "
   ]
  },
  {
   "cell_type": "markdown",
   "metadata": {},
   "source": [
    "Packages are imported using the `import` command. The three main forms of this command are:\n",
    "\n",
    " 1. `import numpy as np`: load all the functions of `numpy` into a workspace named `np`. All of these functions are accessible by prefixing the function name with `np.`.  For example, to use the `linspace` function, one would call `np.linspace`.\n",
    " 2. `from numpy import linspace`: load just the `linspace` function from the `numpy` package into the main workspace.  In this way `linspace` can be used directly with no prefix.\n",
    " 1. `from numpy import *`: load **ALL** the functions of `numpy` into the main workspace. In this way **ALL** the functions can be used with no prefix."
   ]
  },
  {
   "cell_type": "markdown",
   "metadata": {},
   "source": [
    "<hr> \n",
    "\n",
    "> **TASK:** Import the numpy package as `np` and show that it appears as an object in the workspace.\n"
   ]
  },
  {
   "cell_type": "code",
   "execution_count": 13,
   "metadata": {},
   "outputs": [
    {
     "name": "stdout",
     "output_type": "stream",
     "text": [
      "Variable   Type        Data/Info\n",
      "--------------------------------\n",
      "A          int         -2\n",
      "a          float       8.0\n",
      "avg        function    <function avg at 0x1176a7ce0>\n",
      "avgAa      float       3.0\n",
      "m          int         16\n",
      "np         module      <module 'numpy' from '/Us<...>kages/numpy/__init__.py'>\n"
     ]
    }
   ],
   "source": [
    "import numpy as np\n",
    "%whos"
   ]
  },
  {
   "cell_type": "markdown",
   "metadata": {},
   "source": [
    "<hr> \n",
    "\n",
    "The problem with the third option is that we load many variables into the main workspace resulting in **<span style=\"color:orange\">\"workspace pollution\"</span>**, and the possibility that we will overwrite one variable with another. However, if only `numpy`, `scipy` and `pyplot` are imported this way, this usually does not cause problems.\n",
    "\n",
    "> **TASK:** Import all the functions from `numpy` into the main workspace, and use the line magic `%who` to show that they all appear as objects in the workspace."
   ]
  },
  {
   "cell_type": "code",
   "execution_count": 14,
   "metadata": {},
   "outputs": [
    {
     "name": "stdout",
     "output_type": "stream",
     "text": [
      "A\t False_\t ScalarType\t True_\t a\t abs\t absolute\t acos\t acosh\t \n",
      "add\t all\t allclose\t amax\t amin\t angle\t any\t append\t apply_along_axis\t \n",
      "apply_over_axes\t arange\t arccos\t arccosh\t arcsin\t arcsinh\t arctan\t arctan2\t arctanh\t \n",
      "argmax\t argmin\t argpartition\t argsort\t argwhere\t around\t array\t array2string\t array_equal\t \n",
      "array_equiv\t array_repr\t array_split\t array_str\t asanyarray\t asarray\t asarray_chkfinite\t ascontiguousarray\t asfortranarray\t \n",
      "asin\t asinh\t asmatrix\t astype\t atan\t atan2\t atanh\t atleast_1d\t atleast_2d\t \n",
      "atleast_3d\t average\t avg\t avgAa\t bartlett\t base_repr\t binary_repr\t bincount\t bitwise_and\t \n",
      "bitwise_count\t bitwise_invert\t bitwise_left_shift\t bitwise_not\t bitwise_or\t bitwise_right_shift\t bitwise_xor\t blackman\t block\t \n",
      "bmat\t bool\t bool_\t broadcast\t broadcast_arrays\t broadcast_shapes\t broadcast_to\t busday_count\t busday_offset\t \n",
      "busdaycalendar\t byte\t bytes_\t c_\t can_cast\t cbrt\t cdouble\t ceil\t char\t \n",
      "character\t choose\t clip\t clongdouble\t column_stack\t common_type\t complex128\t complex64\t complexfloating\t \n",
      "compress\t concat\t concatenate\t conj\t conjugate\t convolve\t copy\t copysign\t copyto\t \n",
      "core\t corrcoef\t correlate\t cos\t cosh\t count_nonzero\t cov\t cross\t csingle\t \n",
      "ctypeslib\t cumprod\t cumsum\t cumulative_prod\t cumulative_sum\t datetime64\t datetime_as_string\t datetime_data\t deg2rad\t \n",
      "degrees\t delete\t diag\t diag_indices\t diag_indices_from\t diagflat\t diagonal\t diff\t digitize\t \n",
      "divide\t divmod\t dot\t double\t dsplit\t dstack\t dtype\t dtypes\t e\t \n",
      "ediff1d\t einsum\t einsum_path\t emath\t empty\t empty_like\t equal\t errstate\t euler_gamma\t \n",
      "exceptions\t exp\t exp2\t expand_dims\t expm1\t extract\t eye\t f2py\t fabs\t \n",
      "fft\t fill_diagonal\t finfo\t fix\t flatiter\t flatnonzero\t flexible\t flip\t fliplr\t \n",
      "flipud\t float16\t float32\t float64\t float_power\t floating\t floor\t floor_divide\t fmax\t \n",
      "fmin\t fmod\t format_float_positional\t format_float_scientific\t frexp\t from_dlpack\t frombuffer\t fromfile\t fromfunction\t \n",
      "fromiter\t frompyfunc\t fromregex\t fromstring\t full\t full_like\t gcd\t generic\t genfromtxt\t \n",
      "geomspace\t get_include\t get_printoptions\t getbufsize\t geterr\t geterrcall\t gradient\t greater\t greater_equal\t \n",
      "half\t hamming\t hanning\t heaviside\t histogram\t histogram2d\t histogram_bin_edges\t histogramdd\t hsplit\t \n",
      "hstack\t hypot\t i0\t identity\t iinfo\t imag\t in1d\t index_exp\t indices\t \n",
      "inexact\t inf\t info\t inner\t insert\t int16\t int32\t int64\t int8\t \n",
      "int_\t intc\t integer\t interp\t intersect1d\t intp\t invert\t is_busday\t isclose\t \n",
      "iscomplex\t iscomplexobj\t isdtype\t isfinite\t isfortran\t isin\t isinf\t isnan\t isnat\t \n",
      "isneginf\t isposinf\t isreal\t isrealobj\t isscalar\t issubdtype\t iterable\t ix_\t kaiser\t \n",
      "kron\t lcm\t ldexp\t left_shift\t less\t less_equal\t lexsort\t lib\t linalg\t \n",
      "linspace\t little_endian\t load\t loadtxt\t log\t log10\t log1p\t log2\t logaddexp\t \n",
      "logaddexp2\t logical_and\t logical_not\t logical_or\t logical_xor\t logspace\t long\t longdouble\t longlong\t \n",
      "m\t ma\t mask_indices\t matmul\t matrix\t matrix_transpose\t matvec\t max\t maximum\t \n",
      "may_share_memory\t mean\t median\t memmap\t meshgrid\t mgrid\t min\t min_scalar_type\t minimum\t \n",
      "mintypecode\t mod\t modf\t moveaxis\t multiply\t nan\t nan_to_num\t nanargmax\t nanargmin\t \n",
      "nancumprod\t nancumsum\t nanmax\t nanmean\t nanmedian\t nanmin\t nanpercentile\t nanprod\t nanquantile\t \n",
      "nanstd\t nansum\t nanvar\t ndarray\t ndenumerate\t ndim\t ndindex\t nditer\t negative\t \n",
      "nested_iters\t newaxis\t nextafter\t nonzero\t not_equal\t np\t number\t object_\t ogrid\t \n",
      "ones\t ones_like\t outer\t packbits\t pad\t partition\t percentile\t permute_dims\t pi\t \n",
      "piecewise\t place\t poly\t poly1d\t polyadd\t polyder\t polydiv\t polyfit\t polyint\t \n",
      "polymul\t polynomial\t polysub\t polyval\t positive\t pow\t power\t printoptions\t prod\t \n",
      "promote_types\t ptp\t put\t put_along_axis\t putmask\t quantile\t r_\t rad2deg\t radians\t \n",
      "random\t ravel\t ravel_multi_index\t real\t real_if_close\t rec\t recarray\t reciprocal\t record\t \n",
      "remainder\t repeat\t require\t reshape\t resize\t result_type\t right_shift\t rint\t roll\t \n",
      "rollaxis\t roots\t rot90\t round\t row_stack\t s_\t save\t savetxt\t savez\t \n",
      "savez_compressed\t sctypeDict\t searchsorted\t select\t set_printoptions\t setbufsize\t setdiff1d\t seterr\t seterrcall\t \n",
      "setxor1d\t shape\t shares_memory\t short\t show_config\t show_runtime\t sign\t signbit\t signedinteger\t \n",
      "sin\t sinc\t single\t sinh\t size\t sort\t sort_complex\t spacing\t split\t \n",
      "sqrt\t square\t squeeze\t stack\t std\t str_\t strings\t subtract\t sum\t \n",
      "swapaxes\t take\t take_along_axis\t tan\t tanh\t tensordot\t test\t testing\t tile\t \n",
      "timedelta64\t trace\t transpose\t trapezoid\t trapz\t tri\t tril\t tril_indices\t tril_indices_from\t \n",
      "trim_zeros\t triu\t triu_indices\t triu_indices_from\t true_divide\t trunc\t typecodes\t typename\t typing\t \n",
      "ubyte\t ufunc\t uint\t uint16\t uint32\t uint64\t uint8\t uintc\t uintp\t \n",
      "ulong\t ulonglong\t union1d\t unique\t unique_all\t unique_counts\t unique_inverse\t unique_values\t unpackbits\t \n",
      "unravel_index\t unsignedinteger\t unstack\t unwrap\t ushort\t vander\t var\t vdot\t vecdot\t \n",
      "vecmat\t vectorize\t void\t vsplit\t vstack\t where\t zeros\t zeros_like\t \n"
     ]
    }
   ],
   "source": [
    "from numpy import *\n",
    "%who"
   ]
  },
  {
   "cell_type": "markdown",
   "metadata": {},
   "source": [
    "### The `pylab` package"
   ]
  },
  {
   "cell_type": "markdown",
   "metadata": {},
   "source": [
    "This \"meta package\" sets up the workspace to behave similarly to MATLAB, with numerical and plotting functions in the main workspace. Among other things, `pylab` includes the following imports:\n",
    "\n",
    "```\n",
    "import numpy\n",
    "from matplotlib import pyplot\n",
    "np = numpy\n",
    "plt = pyplot\n",
    "\n",
    "from matplolib.pyplot import *\n",
    "from numpy import *\n",
    "```\n",
    "\n",
    "We will begin almost all of our notebooks with `from pylab import *` in order to load many useful functions from `numpy` and `pyplot`\n",
    "\n",
    "> **TASK:** Import `pylab` to populate the interactive namespace from `numpy` and `matplotlib.pyplot`"
   ]
  },
  {
   "cell_type": "code",
   "execution_count": 15,
   "metadata": {},
   "outputs": [],
   "source": [
    "from pylab import *"
   ]
  },
  {
   "cell_type": "markdown",
   "metadata": {},
   "source": [
    "<div style=\"background-color:#FEFFDE; padding:1em\">\n",
    "    \n",
    "**NOTE:** Python purists *hate* this approach but it is much easier for students. It usually becomes a problem only when creating software or using a debugger."
   ]
  },
  {
   "cell_type": "markdown",
   "metadata": {
    "collapsed": false,
    "jupyter": {
     "outputs_hidden": false,
     "source_hidden": false
    },
    "nteract": {
     "transient": {
      "deleting": false
     }
    },
    "outputExpanded": false
   },
   "source": [
    "### Using `numpy` Functions and Constants"
   ]
  },
  {
   "cell_type": "markdown",
   "metadata": {},
   "source": [
    "Numpy contains built-in constants, such as `pi` to represent $\\pi$.\n",
    "\n",
    "```\n",
    "In  [1]: a = pi\n",
    "         a \n",
    "Out [1]: 3.141592653589793\n",
    "```\n",
    "\n",
    "> **TASK:** Create a variable called `x` with a value of `π/2` and display its value."
   ]
  },
  {
   "cell_type": "code",
   "execution_count": 16,
   "metadata": {},
   "outputs": [
    {
     "data": {
      "text/plain": [
       "1.5707963267948966"
      ]
     },
     "execution_count": 16,
     "metadata": {},
     "output_type": "execute_result"
    }
   ],
   "source": [
    "x = pi/2\n",
    "x"
   ]
  },
  {
   "cell_type": "markdown",
   "metadata": {},
   "source": [
    "<hr>\n",
    "\n",
    "`numpy` contains a wide variety of functions, such as `abs` (absolute value) and `eig` (calculate eigenvalues).\n",
    "\n",
    "```\n",
    "In  [1]: a = sin(-5)\n",
    "         a\n",
    "Out [1]: 0.9589\n",
    "```\n",
    "> **TASK:** Use the `sin` function to calculate the sine of `x`. Assign the result to a variable named `y`."
   ]
  },
  {
   "cell_type": "code",
   "execution_count": 17,
   "metadata": {},
   "outputs": [
    {
     "data": {
      "text/plain": [
       "np.float64(1.0)"
      ]
     },
     "execution_count": 17,
     "metadata": {},
     "output_type": "execute_result"
    }
   ],
   "source": [
    "y = sin(x)\n",
    "y"
   ]
  },
  {
   "cell_type": "markdown",
   "metadata": {},
   "source": [
    "<hr>\n",
    "\n",
    "Complex numbers are a built-in data type in Python.  To take the square root of a negative number in `numpy`, represent that number as complex with the character `J` representing the imaginary part.\n",
    "\n",
    "> **TASK:** Use the `sqrt` function to calculate the square root of `-9 = -9 + 0J`. Assign the result to a variable named `z`."
   ]
  },
  {
   "cell_type": "code",
   "execution_count": 18,
   "metadata": {},
   "outputs": [
    {
     "data": {
      "text/plain": [
       "np.complex128(3j)"
      ]
     },
     "execution_count": 18,
     "metadata": {},
     "output_type": "execute_result"
    }
   ],
   "source": [
    "z = sqrt(-9 + 0J)\n",
    "z"
   ]
  },
  {
   "cell_type": "markdown",
   "metadata": {},
   "source": [
    "<hr style=\"height:4px;border-width:0;color:gray;background-color:gray\">\n",
    "\n",
    "This is the end of **Python Boot Camp 1**. Be sure to save by pressing `^S` (Windows) or `⌘S` (Mac), and continue to [**Python Boot Camp 2**](python_boot_camp_2.ipynb)"
   ]
  }
 ],
 "metadata": {
  "hide_input": false,
  "kernel_info": {
   "name": "python3"
  },
  "kernelspec": {
   "display_name": "Python 3 (ipykernel)",
   "language": "python",
   "name": "python3"
  },
  "language_info": {
   "codemirror_mode": {
    "name": "ipython",
    "version": 3
   },
   "file_extension": ".py",
   "mimetype": "text/x-python",
   "name": "python",
   "nbconvert_exporter": "python",
   "pygments_lexer": "ipython3",
   "version": "3.12.9"
  },
  "nteract": {
   "version": "0.22.4"
  },
  "toc": {
   "base_numbering": 1,
   "nav_menu": {},
   "number_sections": false,
   "sideBar": true,
   "skip_h1_title": false,
   "title_cell": "Table of Contents",
   "title_sidebar": "Contents",
   "toc_cell": false,
   "toc_position": {},
   "toc_section_display": "block",
   "toc_window_display": false
  },
  "varInspector": {
   "cols": {
    "lenName": 16,
    "lenType": 16,
    "lenVar": 40
   },
   "kernels_config": {
    "python": {
     "delete_cmd_postfix": "",
     "delete_cmd_prefix": "del ",
     "library": "var_list.py",
     "varRefreshCmd": "print(var_dic_list())"
    },
    "r": {
     "delete_cmd_postfix": ") ",
     "delete_cmd_prefix": "rm(",
     "library": "var_list.r",
     "varRefreshCmd": "cat(var_dic_list()) "
    }
   },
   "types_to_exclude": [
    "module",
    "function",
    "builtin_function_or_method",
    "instance",
    "_Feature"
   ],
   "window_display": false
  }
 },
 "nbformat": 4,
 "nbformat_minor": 4
}
