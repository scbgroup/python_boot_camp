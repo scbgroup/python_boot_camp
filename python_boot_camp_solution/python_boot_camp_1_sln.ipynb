{
 "cells": [
  {
   "cell_type": "markdown",
   "metadata": {},
   "source": [
    "# Python  Boot Camp 1\n",
    "Based on [MATLAB Onramp](https://matlabacademy.mathworks.com)"
   ]
  },
  {
   "cell_type": "markdown",
   "metadata": {
    "jupyter": {
     "outputs_hidden": false,
     "source_hidden": false
    },
    "nteract": {
     "transient": {
      "deleting": false
     }
    },
    "outputExpanded": false,
    "tags": [
     "Show"
    ]
   },
   "source": [
    "## 1. Commands\n",
    "Enter commands in Python to perform calculations and create variables."
   ]
  },
  {
   "cell_type": "markdown",
   "metadata": {
    "jupyter": {
     "outputs_hidden": false,
     "source_hidden": false
    },
    "nteract": {
     "transient": {
      "deleting": false
     }
    },
    "outputExpanded": false
   },
   "source": [
    "### Entering Commands"
   ]
  },
  {
   "cell_type": "markdown",
   "metadata": {
    "jupyter": {
     "outputs_hidden": false,
     "source_hidden": false
    },
    "nteract": {
     "transient": {
      "deleting": false
     }
    },
    "outputExpanded": false
   },
   "source": [
    "You can execute commands by entering them in a code cell after the prompt (`In [ ]:`) and pressing the Enter key. \n",
    "\n",
    "> **TASK:** Multiply the numbers `3` and `5` together with the command `3*5`. _ans = 15_"
   ]
  },
  {
   "cell_type": "code",
   "execution_count": 1,
   "metadata": {},
   "outputs": [
    {
     "data": {
      "text/plain": [
       "15"
      ]
     },
     "execution_count": 1,
     "metadata": {},
     "output_type": "execute_result"
    }
   ],
   "source": [
    "3*5"
   ]
  },
  {
   "cell_type": "markdown",
   "metadata": {
    "jupyter": {
     "outputs_hidden": false,
     "source_hidden": false
    },
    "nteract": {
     "transient": {
      "deleting": false
     }
    },
    "outputExpanded": false
   },
   "source": [
    "<hr>\n",
    "\n",
    "The equals sign (=) in Python is the assignment operator, meaning that the expression on the right of the equals sign is assigned to the variable on the left.\n",
    "\n",
    "When you enter `x = 3 + 4`, Python first evaluates `3 + 4` and then assigns the result (`7`) to the variable `x`.\n",
    "\n",
    "> **TASK:** Assign the `3*5` calculation to a variable named `m` as shown:\n",
    "```\n",
    "m = 3*5\n",
    "```"
   ]
  },
  {
   "cell_type": "code",
   "execution_count": 2,
   "metadata": {},
   "outputs": [],
   "source": [
    "m=3*5"
   ]
  },
  {
   "cell_type": "markdown",
   "metadata": {},
   "source": [
    "<hr>\n",
    "\n",
    "> **TASK:** in Python, the result of an assignment is not not shown by default. Enter `m` to display the result."
   ]
  },
  {
   "cell_type": "code",
   "execution_count": 3,
   "metadata": {},
   "outputs": [
    {
     "data": {
      "text/plain": [
       "15"
      ]
     },
     "execution_count": 3,
     "metadata": {},
     "output_type": "execute_result"
    }
   ],
   "source": [
    "m"
   ]
  },
  {
   "cell_type": "markdown",
   "metadata": {
    "jupyter": {
     "outputs_hidden": false,
     "source_hidden": false
    },
    "nteract": {
     "transient": {
      "deleting": false
     }
    },
    "outputExpanded": false
   },
   "source": [
    "<hr>\n",
    "\n",
    "> **TASK:** Enter the following commands to see what happens:\n",
    "```\n",
    "m=m+1\n",
    "m\n",
    "```"
   ]
  },
  {
   "cell_type": "code",
   "execution_count": 4,
   "metadata": {},
   "outputs": [
    {
     "data": {
      "text/plain": [
       "16"
      ]
     },
     "execution_count": 4,
     "metadata": {},
     "output_type": "execute_result"
    }
   ],
   "source": [
    "m=m+1\n",
    "m"
   ]
  },
  {
   "cell_type": "markdown",
   "metadata": {},
   "source": [
    "<hr>\n",
    "\n",
    "> **TASK:** Create a variable named `a` that has the value `m/2`, and show its value."
   ]
  },
  {
   "cell_type": "code",
   "execution_count": 5,
   "metadata": {},
   "outputs": [
    {
     "data": {
      "text/plain": [
       "8.0"
      ]
     },
     "execution_count": 5,
     "metadata": {},
     "output_type": "execute_result"
    }
   ],
   "source": [
    "a=m/2\n",
    "a"
   ]
  },
  {
   "cell_type": "markdown",
   "metadata": {},
   "source": [
    "### Naming Variables"
   ]
  },
  {
   "cell_type": "markdown",
   "metadata": {},
   "source": [
    "\n",
    "You can name your Python variables anything you'd like as long as they start with a letter and\n",
    "contain only letters, numbers, and underscores (_).\n",
    "\n",
    "Python variables are also case sensitive.\n",
    "\n",
    "> **TASK:** Assign the value `-2` to the variable `A`."
   ]
  },
  {
   "cell_type": "code",
   "execution_count": 6,
   "metadata": {},
   "outputs": [
    {
     "data": {
      "text/plain": [
       "-2"
      ]
     },
     "execution_count": 6,
     "metadata": {},
     "output_type": "execute_result"
    }
   ],
   "source": [
    "A=-2\n",
    "A"
   ]
  },
  {
   "cell_type": "markdown",
   "metadata": {},
   "source": [
    "<hr> \n",
    "\n",
    "Notice that the variables `a` and `A` both exist in the workspace.\n",
    "\n",
    "You can name all your variables `a` or `x`, but it is more useful to name your variables something meaningful.\n",
    "\n",
    "> **TASK:** Calculate $\\frac{a+A}{2}$. Assign the result to the variable `avgAa`."
   ]
  },
  {
   "cell_type": "code",
   "execution_count": 7,
   "metadata": {},
   "outputs": [
    {
     "data": {
      "text/plain": [
       "3.0"
      ]
     },
     "execution_count": 7,
     "metadata": {},
     "output_type": "execute_result"
    }
   ],
   "source": [
    "avgAa = (a+A)/2\n",
    "avgAa"
   ]
  },
  {
   "cell_type": "markdown",
   "metadata": {},
   "source": [
    "<hr> \n",
    "\n",
    "\n",
    "The line magic `%who` can be used to show the variables in the workspace; the magic `%whos` shows some extra information.\n",
    "\n",
    "> **TASK:** Use the line magic `%whos` to show the current variables. You may see some extra variables defined there."
   ]
  },
  {
   "cell_type": "code",
   "execution_count": 8,
   "metadata": {},
   "outputs": [
    {
     "name": "stdout",
     "output_type": "stream",
     "text": [
      "Variable   Type     Data/Info\n",
      "-----------------------------\n",
      "A          int      -2\n",
      "a          float    8.0\n",
      "avgAa      float    3.0\n",
      "m          int      16\n"
     ]
    }
   ],
   "source": [
    "%whos"
   ]
  },
  {
   "cell_type": "markdown",
   "metadata": {},
   "source": [
    "<hr> \n",
    "\n",
    "#### Further Practice\n",
    "\n",
    "If you use an invalid variable name, Python will display an error message. You can modify the variable name to something that is allowed to eliminate the error.\n",
    "\n",
    "Try creating the variable `3sq = 9` to demonstrate this behavior."
   ]
  },
  {
   "cell_type": "code",
   "execution_count": 9,
   "metadata": {},
   "outputs": [
    {
     "ename": "SyntaxError",
     "evalue": "invalid syntax (<ipython-input-9-fb7029e1f5ae>, line 1)",
     "output_type": "error",
     "traceback": [
      "\u001b[0;36m  File \u001b[0;32m\"<ipython-input-9-fb7029e1f5ae>\"\u001b[0;36m, line \u001b[0;32m1\u001b[0m\n\u001b[0;31m    3sq=9\u001b[0m\n\u001b[0m     ^\u001b[0m\n\u001b[0;31mSyntaxError\u001b[0m\u001b[0;31m:\u001b[0m invalid syntax\n"
     ]
    }
   ],
   "source": [
    "3sq=9"
   ]
  },
  {
   "cell_type": "markdown",
   "metadata": {},
   "source": [
    "## 2. Python Functions and Packages"
   ]
  },
  {
   "cell_type": "markdown",
   "metadata": {},
   "source": [
    "### Python functions"
   ]
  },
  {
   "cell_type": "markdown",
   "metadata": {},
   "source": [
    "In python, functions are just one type of variable, similar to a string or an integer. We call all of these variables \"objects\".  To create a function, we use the `def` command.  Here is some simple code to create a function that averages two numbers:\n",
    "\n",
    "```\n",
    "def avg(a, b):\n",
    "    return (a + b)/2.0\n",
    "```"
   ]
  },
  {
   "cell_type": "markdown",
   "metadata": {},
   "source": [
    "Note the form of the function definition:\n",
    " - The function name comes before parentheses with the function inputs inside parentheses separated by commas.\n",
    " - The `def` command ends in a colon.\n",
    " - The lines that make up the function definition are indented.  When the indent ends, the function definition ends.\n",
    " - The output of the function is given by the argument of the `return` command\n",
    " \n",
    "> **TASK:** Define a function `avg` to calculate the average of two numbers, and then calculate `avg(a,A)`"
   ]
  },
  {
   "cell_type": "code",
   "execution_count": 10,
   "metadata": {},
   "outputs": [],
   "source": [
    "def avg(a,b):\n",
    "    return (a+b)/2.0"
   ]
  },
  {
   "cell_type": "code",
   "execution_count": 11,
   "metadata": {},
   "outputs": [
    {
     "data": {
      "text/plain": [
       "3.0"
      ]
     },
     "execution_count": 11,
     "metadata": {},
     "output_type": "execute_result"
    }
   ],
   "source": [
    "avg(a,A)"
   ]
  },
  {
   "cell_type": "markdown",
   "metadata": {},
   "source": [
    "<hr> \n",
    "\n",
    "Now the function `avg` exists as an object in the workspace.\n",
    "\n",
    "> **TASK:** Use the line magic `%whos` to show that `avg` is an object in the workspace."
   ]
  },
  {
   "cell_type": "code",
   "execution_count": 12,
   "metadata": {},
   "outputs": [
    {
     "name": "stdout",
     "output_type": "stream",
     "text": [
      "Variable          Type                          Data/Info\n",
      "---------------------------------------------------------\n",
      "A                 int                           -2\n",
      "NamespaceMagics   MetaHasTraits                 <class 'IPython.core.magi<...>mespace.NamespaceMagics'>\n",
      "a                 float                         8.0\n",
      "avg               function                      <function avg at 0x11c0a7ca0>\n",
      "avgAa             float                         3.0\n",
      "get_ipython       function                      <function get_ipython at 0x106fae820>\n",
      "getsizeof         builtin_function_or_method    <built-in function getsizeof>\n",
      "json              module                        <module 'json' from '/usr<...>hon3.8/json/__init__.py'>\n",
      "m                 int                           16\n",
      "var_dic_list      function                      <function var_dic_list at 0x11c0a7ee0>\n"
     ]
    }
   ],
   "source": [
    "%whos"
   ]
  },
  {
   "cell_type": "markdown",
   "metadata": {},
   "source": [
    "### Python Packages"
   ]
  },
  {
   "cell_type": "markdown",
   "metadata": {},
   "source": [
    "Because python is a general purpose programming language with very broad capabilities, we `import` very specific packages of functions and constants to do numerical work.  There are three main packages that we will use:\n",
    "\n",
    " 1. [`numpy`](http://numpy.org/): provides functions for computing with numerical arrays (vectors and matrices) \n",
    " 2. [`scipy`](https://www.scipy.org/scipylib/index.html): provide functions for numerical integration, interpolation, optimization, linear algebra, and statistics, specifically designed to work with numpy.\n",
    " 3. [`matplotlib.pyplot`](https://matplotlib.org/3.1.0/tutorials/introductory/pyplot.html): provides high quality plotting functions"
   ]
  },
  {
   "cell_type": "markdown",
   "metadata": {},
   "source": [
    "### Importing Packages "
   ]
  },
  {
   "cell_type": "markdown",
   "metadata": {},
   "source": [
    "Packages are imported using the `import` command. The three main forms of this command are:\n",
    "\n",
    " 1. `import numpy as np`: load all the functions of `numpy` into a workspace named `np`. All of these functions are accessible by prefixing the function name with `np.`.  For example, to use the `linspace` function, one would call `np.linspace`.\n",
    " 2. `from numpy import linspace`: load just the `linspace` function from the `numpy` package into the main workspace.  In this way `linspace` can be used directly with no prefix.\n",
    " 1. `from numpy import *`: load **ALL** the functions of `numpy` into the main workspace. In this way **ALL** the functions can be used with no prefix."
   ]
  },
  {
   "cell_type": "markdown",
   "metadata": {},
   "source": [
    "<hr> \n",
    "\n",
    "> **TASK:** Import the numpy package as `np` and show that it appears as an object in the workspace.\n"
   ]
  },
  {
   "cell_type": "code",
   "execution_count": 13,
   "metadata": {},
   "outputs": [
    {
     "name": "stdout",
     "output_type": "stream",
     "text": [
      "Variable          Type                          Data/Info\n",
      "---------------------------------------------------------\n",
      "A                 int                           -2\n",
      "NamespaceMagics   MetaHasTraits                 <class 'IPython.core.magi<...>mespace.NamespaceMagics'>\n",
      "a                 float                         8.0\n",
      "avg               function                      <function avg at 0x11c0a7ca0>\n",
      "avgAa             float                         3.0\n",
      "get_ipython       function                      <function get_ipython at 0x106fae820>\n",
      "getsizeof         builtin_function_or_method    <built-in function getsizeof>\n",
      "json              module                        <module 'json' from '/usr<...>hon3.8/json/__init__.py'>\n",
      "m                 int                           16\n",
      "np                module                        <module 'numpy' from '/us<...>kages/numpy/__init__.py'>\n",
      "var_dic_list      function                      <function var_dic_list at 0x11c0a7ee0>\n"
     ]
    }
   ],
   "source": [
    "import numpy as np\n",
    "%whos"
   ]
  },
  {
   "cell_type": "markdown",
   "metadata": {},
   "source": [
    "<hr> \n",
    "\n",
    "The problem with the third option is that we load many variables into the main workspace resulting in a lot of \"clutter\", and the possibility that we will overwrite one variable with another. However, if only `numpy`, `scipy` and `pyplot` are imported this way, this usuall does not cause problems.\n",
    "\n",
    "> **TASK:** Import all the functions from `numpy` into the main workspace, and use the line magic `%who` to show that they all appear as objects in the workspace."
   ]
  },
  {
   "cell_type": "code",
   "execution_count": 14,
   "metadata": {},
   "outputs": [
    {
     "name": "stdout",
     "output_type": "stream",
     "text": [
      "A\t ALLOW_THREADS\t AxisError\t BUFSIZE\t CLIP\t ComplexWarning\t DataSource\t ERR_CALL\t ERR_DEFAULT\t \n",
      "ERR_IGNORE\t ERR_LOG\t ERR_PRINT\t ERR_RAISE\t ERR_WARN\t FLOATING_POINT_SUPPORT\t FPE_DIVIDEBYZERO\t FPE_INVALID\t FPE_OVERFLOW\t \n",
      "FPE_UNDERFLOW\t False_\t Inf\t Infinity\t MAXDIMS\t MAY_SHARE_BOUNDS\t MAY_SHARE_EXACT\t MachAr\t ModuleDeprecationWarning\t \n",
      "NAN\t NINF\t NZERO\t NaN\t NamespaceMagics\t PINF\t PZERO\t RAISE\t RankWarning\t \n",
      "SHIFT_DIVIDEBYZERO\t SHIFT_INVALID\t SHIFT_OVERFLOW\t SHIFT_UNDERFLOW\t ScalarType\t TooHardError\t True_\t UFUNC_BUFSIZE_DEFAULT\t UFUNC_PYVALS_NAME\t \n",
      "VisibleDeprecationWarning\t WRAP\t a\t absolute\t add\t add_docstring\t add_newdoc\t add_newdoc_ufunc\t alen\t \n",
      "all\t allclose\t alltrue\t amax\t amin\t angle\t any\t append\t apply_along_axis\t \n",
      "apply_over_axes\t arange\t arccos\t arccosh\t arcsin\t arcsinh\t arctan\t arctan2\t arctanh\t \n",
      "argmax\t argmin\t argpartition\t argsort\t argwhere\t around\t array\t array2string\t array_equal\t \n",
      "array_equiv\t array_repr\t array_split\t array_str\t asanyarray\t asarray\t asarray_chkfinite\t ascontiguousarray\t asfarray\t \n",
      "asfortranarray\t asmatrix\t asscalar\t atleast_1d\t atleast_2d\t atleast_3d\t average\t avg\t avgAa\t \n",
      "bartlett\t base_repr\t binary_repr\t bincount\t bitwise_and\t bitwise_not\t bitwise_or\t bitwise_xor\t blackman\t \n",
      "block\t bmat\t bool8\t bool_\t broadcast\t broadcast_arrays\t broadcast_to\t busday_count\t busday_offset\t \n",
      "busdaycalendar\t byte\t byte_bounds\t bytes0\t bytes_\t c_\t can_cast\t cast\t cbrt\t \n",
      "cdouble\t ceil\t cfloat\t char\t character\t chararray\t choose\t clip\t clongdouble\t \n",
      "clongfloat\t column_stack\t common_type\t compare_chararrays\t complex128\t complex256\t complex64\t complex_\t complexfloating\t \n",
      "compress\t concatenate\t conj\t conjugate\t convolve\t copy\t copysign\t copyto\t corrcoef\t \n",
      "correlate\t cos\t cosh\t count_nonzero\t cov\t cross\t csingle\t ctypeslib\t cumprod\t \n",
      "cumproduct\t cumsum\t datetime64\t datetime_as_string\t datetime_data\t deg2rad\t degrees\t delete\t deprecate\t \n",
      "deprecate_with_doc\t diag\t diag_indices\t diag_indices_from\t diagflat\t diagonal\t diff\t digitize\t disp\t \n",
      "divide\t divmod\t dot\t double\t dsplit\t dstack\t dtype\t e\t ediff1d\t \n",
      "einsum\t einsum_path\t emath\t empty\t empty_like\t equal\t errstate\t euler_gamma\t exp\t \n",
      "exp2\t expand_dims\t expm1\t extract\t eye\t fabs\t fastCopyAndTranspose\t fft\t fill_diagonal\t \n",
      "find_common_type\t finfo\t fix\t flatiter\t flatnonzero\t flexible\t flip\t fliplr\t flipud\t \n",
      "float128\t float16\t float32\t float64\t float_\t float_power\t floating\t floor\t floor_divide\t \n",
      "fmax\t fmin\t fmod\t format_float_positional\t format_float_scientific\t format_parser\t frexp\t frombuffer\t fromfile\t \n",
      "fromfunction\t fromiter\t frompyfunc\t fromregex\t fromstring\t full\t full_like\t fv\t gcd\t \n",
      "generic\t genfromtxt\t geomspace\t get_array_wrap\t get_include\t get_ipython\t get_printoptions\t getbufsize\t geterr\t \n",
      "geterrcall\t geterrobj\t getsizeof\t gradient\t greater\t greater_equal\t half\t hamming\t hanning\t \n",
      "heaviside\t histogram\t histogram2d\t histogram_bin_edges\t histogramdd\t hsplit\t hstack\t hypot\t i0\t \n",
      "identity\t iinfo\t imag\t in1d\t index_exp\t indices\t inexact\t inf\t info\t \n",
      "infty\t inner\t insert\t int0\t int16\t int32\t int64\t int8\t int_\t \n",
      "intc\t integer\t interp\t intersect1d\t intp\t invert\t ipmt\t irr\t is_busday\t \n",
      "isclose\t iscomplex\t iscomplexobj\t isfinite\t isfortran\t isin\t isinf\t isnan\t isnat\t \n",
      "isneginf\t isposinf\t isreal\t isrealobj\t isscalar\t issctype\t issubclass_\t issubdtype\t issubsctype\t \n",
      "iterable\t ix_\t json\t kaiser\t kron\t lcm\t ldexp\t left_shift\t less\t \n",
      "less_equal\t lexsort\t linalg\t linspace\t little_endian\t load\t loads\t loadtxt\t log\t \n",
      "log10\t log1p\t log2\t logaddexp\t logaddexp2\t logical_and\t logical_not\t logical_or\t logical_xor\t \n",
      "logspace\t longcomplex\t longdouble\t longfloat\t longlong\t lookfor\t m\t ma\t mafromtxt\t \n",
      "mask_indices\t mat\t math\t matmul\t matrix\t maximum\t maximum_sctype\t may_share_memory\t mean\t \n",
      "median\t memmap\t meshgrid\t mgrid\t min_scalar_type\t minimum\t mintypecode\t mirr\t mod\t \n",
      "modf\t moveaxis\t msort\t multiply\t nan\t nan_to_num\t nanargmax\t nanargmin\t nancumprod\t \n",
      "nancumsum\t nanmax\t nanmean\t nanmedian\t nanmin\t nanpercentile\t nanprod\t nanquantile\t nanstd\t \n",
      "nansum\t nanvar\t nbytes\t ndarray\t ndenumerate\t ndfromtxt\t ndim\t ndindex\t nditer\t \n",
      "negative\t nested_iters\t newaxis\t nextafter\t nonzero\t not_equal\t np\t nper\t npv\t \n",
      "number\t obj2sctype\t object0\t object_\t ogrid\t ones\t ones_like\t outer\t packbits\t \n",
      "pad\t partition\t percentile\t pi\t piecewise\t place\t pmt\t poly\t poly1d\t \n",
      "polyadd\t polyder\t polydiv\t polyfit\t polyint\t polymul\t polysub\t polyval\t positive\t \n",
      "power\t ppmt\t printoptions\t prod\t product\t promote_types\t ptp\t put\t put_along_axis\t \n",
      "putmask\t pv\t quantile\t r_\t rad2deg\t radians\t random\t rate\t ravel\t \n",
      "ravel_multi_index\t real\t real_if_close\t rec\t recarray\t recfromcsv\t recfromtxt\t reciprocal\t record\t \n",
      "remainder\t repeat\t require\t reshape\t resize\t result_type\t right_shift\t rint\t roll\t \n",
      "rollaxis\t roots\t rot90\t round_\t row_stack\t s_\t safe_eval\t save\t savetxt\t \n",
      "savez\t savez_compressed\t sctype2char\t sctypeDict\t sctypeNA\t sctypes\t searchsorted\t select\t set_numeric_ops\t \n",
      "set_printoptions\t set_string_function\t setbufsize\t setdiff1d\t seterr\t seterrcall\t seterrobj\t setxor1d\t shape\t \n",
      "shares_memory\t short\t show_config\t sign\t signbit\t signedinteger\t sin\t sinc\t single\t \n",
      "singlecomplex\t sinh\t size\t sometrue\t sort\t sort_complex\t source\t spacing\t split\t \n",
      "sqrt\t square\t squeeze\t stack\t std\t str0\t str_\t string_\t subtract\t \n",
      "sum\t swapaxes\t take\t take_along_axis\t tan\t tanh\t tensordot\t tile\t timedelta64\t \n",
      "trace\t tracemalloc_domain\t transpose\t trapz\t tri\t tril\t tril_indices\t tril_indices_from\t trim_zeros\t \n",
      "triu\t triu_indices\t triu_indices_from\t true_divide\t trunc\t typeDict\t typeNA\t typecodes\t typename\t \n",
      "ubyte\t ufunc\t uint\t uint0\t uint16\t uint32\t uint64\t uint8\t uintc\t \n",
      "uintp\t ulonglong\t unicode_\t union1d\t unique\t unpackbits\t unravel_index\t unsignedinteger\t unwrap\t \n",
      "ushort\t vander\t var\t var_dic_list\t vdot\t vectorize\t void\t void0\t vsplit\t \n",
      "vstack\t where\t who\t zeros\t zeros_like\t \n"
     ]
    }
   ],
   "source": [
    "from numpy import *\n",
    "%who"
   ]
  },
  {
   "cell_type": "markdown",
   "metadata": {},
   "source": [
    "### The `%pylab` magic"
   ]
  },
  {
   "cell_type": "markdown",
   "metadata": {},
   "source": [
    "This magic function sets up the workspace to behave similarly to MATLAB, with numerical and plotting functions in the main workspace. Among other things, `%pylab` makes the following imports:\n",
    "\n",
    "```\n",
    "import numpy\n",
    "from matplotlib import pyplot\n",
    "np = numpy\n",
    "plt = pyplot\n",
    "\n",
    "from pylab import *\n",
    "from numpy import *\n",
    "```\n",
    "\n",
    "We will begin allmost all of our notebooks with `%pylab` in order to load many useful functions from `numpy` and `pyplot`\n",
    "\n",
    "> **TASK:** Run the `%pylab` line magic to populate the interactive namespace from `numpy` and `matplotlib.pyplot`"
   ]
  },
  {
   "cell_type": "code",
   "execution_count": 15,
   "metadata": {},
   "outputs": [
    {
     "name": "stdout",
     "output_type": "stream",
     "text": [
      "Using matplotlib backend: MacOSX\n",
      "Populating the interactive namespace from numpy and matplotlib\n"
     ]
    }
   ],
   "source": [
    "%pylab"
   ]
  },
  {
   "cell_type": "markdown",
   "metadata": {
    "jupyter": {
     "outputs_hidden": false,
     "source_hidden": false
    },
    "nteract": {
     "transient": {
      "deleting": false
     }
    },
    "outputExpanded": false
   },
   "source": [
    "### Using `numpy` Functions and Constants"
   ]
  },
  {
   "cell_type": "markdown",
   "metadata": {},
   "source": [
    "Numpy contains built-in constants, such as `pi` to represent $\\pi$.\n",
    "\n",
    "```\n",
    "In  [1]: a = pi\n",
    "         a \n",
    "Out [1]: 3.141592653589793\n",
    "```\n",
    "\n",
    "> **TASK:** Create a variable called `x` with a value of `π/2` and display its value."
   ]
  },
  {
   "cell_type": "code",
   "execution_count": 16,
   "metadata": {},
   "outputs": [
    {
     "data": {
      "text/plain": [
       "1.5707963267948966"
      ]
     },
     "execution_count": 16,
     "metadata": {},
     "output_type": "execute_result"
    }
   ],
   "source": [
    "x = pi/2\n",
    "x"
   ]
  },
  {
   "cell_type": "markdown",
   "metadata": {},
   "source": [
    "<hr>\n",
    "\n",
    "`numpy` contains a wide variety of functions, such as abs (absolute value) and eig (calculate eigenvalues).\n",
    "\n",
    "```\n",
    "In  [1]: a = sin(-5)\n",
    "         a\n",
    "Out [1]: 0.9589\n",
    "```\n",
    "> **TASK:** Use the sin function to calculate the sine of x. Assign the result to a variable named y."
   ]
  },
  {
   "cell_type": "code",
   "execution_count": 17,
   "metadata": {},
   "outputs": [
    {
     "data": {
      "text/plain": [
       "1.0"
      ]
     },
     "execution_count": 17,
     "metadata": {},
     "output_type": "execute_result"
    }
   ],
   "source": [
    "y=sin(x)\n",
    "y"
   ]
  },
  {
   "cell_type": "markdown",
   "metadata": {},
   "source": [
    "<hr>\n",
    "\n",
    "Complex numbers are a build in data type in Python.  To take the square root of a negative number in `numpy`, represent that number as complex with the character `J` representing the imaginary part\n",
    "\n",
    "> **TASK:** Use the sqrt function to calculate the square root of `-9 = -9 + 0J`. Assign the result to a variable named z."
   ]
  },
  {
   "cell_type": "code",
   "execution_count": 18,
   "metadata": {},
   "outputs": [
    {
     "data": {
      "text/plain": [
       "3j"
      ]
     },
     "execution_count": 18,
     "metadata": {},
     "output_type": "execute_result"
    }
   ],
   "source": [
    "z=sqrt(-9+0J)\n",
    "z"
   ]
  },
  {
   "cell_type": "markdown",
   "metadata": {},
   "source": [
    "<hr style=\"height:4px;border-width:0;color:gray;background-color:gray\">\n",
    "\n",
    "This is the end of **Python Boot Camp 1**. Be sure to save by pressing the \"S\" key in command mode, and continue to [**Python Boot Camp 2**](Python_Boot_Camp_2.ipynb)"
   ]
  },
  {
   "cell_type": "code",
   "execution_count": null,
   "metadata": {},
   "outputs": [],
   "source": []
  }
 ],
 "metadata": {
  "hide_input": false,
  "kernel_info": {
   "name": "python3"
  },
  "kernelspec": {
   "display_name": "Python 3 (ipykernel)",
   "language": "python",
   "name": "python3"
  },
  "language_info": {
   "codemirror_mode": {
    "name": "ipython",
    "version": 3
   },
   "file_extension": ".py",
   "mimetype": "text/x-python",
   "name": "python",
   "nbconvert_exporter": "python",
   "pygments_lexer": "ipython3",
   "version": "3.10.12"
  },
  "nteract": {
   "version": "0.22.4"
  },
  "toc": {
   "base_numbering": 1,
   "nav_menu": {},
   "number_sections": false,
   "sideBar": true,
   "skip_h1_title": false,
   "title_cell": "Table of Contents",
   "title_sidebar": "Contents",
   "toc_cell": false,
   "toc_position": {},
   "toc_section_display": "block",
   "toc_window_display": false
  },
  "varInspector": {
   "cols": {
    "lenName": 16,
    "lenType": 16,
    "lenVar": 40
   },
   "kernels_config": {
    "python": {
     "delete_cmd_postfix": "",
     "delete_cmd_prefix": "del ",
     "library": "var_list.py",
     "varRefreshCmd": "print(var_dic_list())"
    },
    "r": {
     "delete_cmd_postfix": ") ",
     "delete_cmd_prefix": "rm(",
     "library": "var_list.r",
     "varRefreshCmd": "cat(var_dic_list()) "
    }
   },
   "types_to_exclude": [
    "module",
    "function",
    "builtin_function_or_method",
    "instance",
    "_Feature"
   ],
   "window_display": false
  }
 },
 "nbformat": 4,
 "nbformat_minor": 4
}
