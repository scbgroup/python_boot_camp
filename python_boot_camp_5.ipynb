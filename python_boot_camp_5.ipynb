{
 "cells": [
  {
   "cell_type": "markdown",
   "metadata": {},
   "source": [
    "# Python  Boot Camp 5\n",
    "This is a continuation of [Python Boot Camp 4](python_boot_camp_4.ipynb). Based on [MATLAB Onramp](https://matlabacademy.mathworks.com)"
   ]
  },
  {
   "cell_type": "markdown",
   "metadata": {},
   "source": [
    "### Getting Started\n",
    "Run the code cell below to get started."
   ]
  },
  {
   "cell_type": "code",
   "execution_count": 16,
   "metadata": {},
   "outputs": [
    {
     "name": "stdout",
     "output_type": "stream",
     "text": [
      "Populating the interactive namespace from numpy and matplotlib\n"
     ]
    }
   ],
   "source": [
    "%pylab inline\n",
    "data=array([[1, 1, 1.2],[1.5, 1, 1.25],[0.5, 1, 1.30],[0.5, 0.5, 1.1],[1, 0.25, 0.92],[0.5, 0.1, 0.64],[3, 3, 1.27],[1, 4, 1.28],[3, 2, 1.25],[4, 1, 1.30],[0.5, 0.25, 0.94],[2, 0.05, 0.41]])\n",
    "h, m, r = data.T  # this transposes the array data so we can easily extract the columns"
   ]
  },
  {
   "cell_type": "markdown",
   "metadata": {
    "jupyter": {
     "outputs_hidden": false,
     "source_hidden": false
    },
    "nteract": {
     "transient": {
      "deleting": false
     }
    },
    "outputExpanded": false
   },
   "source": [
    "## 12. Logical Indexing"
   ]
  },
  {
   "cell_type": "markdown",
   "metadata": {},
   "source": [
    "Relational operators, such as `>`, `<`, `==`, and `~=` perform comparisons between two values. The outcome of a comparison for equality or inequality is a Boolean variable that has a value of either `True` or `False`.\n",
    "\n",
    ">**TASK**: Use the relational operator, `<`, to test if `π` is less than `4`. Assign the output to a variable named `test`."
   ]
  },
  {
   "cell_type": "code",
   "execution_count": 2,
   "metadata": {},
   "outputs": [
    {
     "data": {
      "text/plain": [
       "True"
      ]
     },
     "execution_count": 2,
     "metadata": {},
     "output_type": "execute_result"
    }
   ],
   "source": [
    "test = pi < 4\n",
    "test"
   ]
  },
  {
   "cell_type": "markdown",
   "metadata": {},
   "source": [
    "<hr>\n",
    "\n",
    "We can compare a `numpy` array to a single scalar value using relational operators. The result is a logical array of the same size as the original array:\n",
    "\n",
    "```\n",
    "In  [1]: array([5, 10, 15]) > 12\n",
    "Out [1]: array([False, False,  True])\n",
    "```\n",
    "\n",
    ">**TASK**: Test the 1D array `h` for elements that are less than 2. Assign the output to a variable named `test`."
   ]
  },
  {
   "cell_type": "code",
   "execution_count": 38,
   "metadata": {},
   "outputs": [
    {
     "data": {
      "text/plain": [
       "array([ True,  True,  True,  True,  True,  True, False,  True, False,\n",
       "       False,  True, False])"
      ]
     },
     "execution_count": 38,
     "metadata": {},
     "output_type": "execute_result"
    }
   ],
   "source": [
    "test = h < 2\n",
    "test"
   ]
  },
  {
   "cell_type": "markdown",
   "metadata": {},
   "source": [
    "<hr>\n",
    "\n",
    "We can use a logical array as an array index, which will extract the array elements where the index is true. The following example will extract all elements in `h` that are greater than two:\n",
    "```\n",
    "In  [1]: h2 = h[h > 2]\n",
    "         h2\n",
    "Out [1]: array([3., 3., 4.])\n",
    "```\n",
    "\n",
    ">**TASK**: Create a variable `h1` containing all the elements in `h` that are less than or equal to (`<=`) one."
   ]
  },
  {
   "cell_type": "code",
   "execution_count": 39,
   "metadata": {},
   "outputs": [
    {
     "data": {
      "text/plain": [
       "array([1. , 0.5, 0.5, 1. , 0.5, 1. , 0.5])"
      ]
     },
     "execution_count": 39,
     "metadata": {},
     "output_type": "execute_result"
    }
   ],
   "source": [
    "h1 = h[h <= 1]\n",
    "h1"
   ]
  },
  {
   "cell_type": "code",
   "execution_count": 40,
   "metadata": {},
   "outputs": [
    {
     "data": {
      "text/plain": [
       "array([1.27, 1.25, 1.3 ])"
      ]
     },
     "execution_count": 40,
     "metadata": {},
     "output_type": "execute_result"
    }
   ],
   "source": [
    "r2 = r[h > 2]\n",
    "r2"
   ]
  },
  {
   "cell_type": "markdown",
   "metadata": {},
   "source": [
    "<hr>\n",
    "We can also use logical indexing with two different vectors, here we use a condition on `h` to index `r`:\n",
    "\n",
    "```\n",
    "In  [1]: r2 = r[h > 2]\n",
    "         r2\n",
    "Out [1]: array([1.27, 1.25, 1.3 ])\n",
    "```\n",
    "\n",
    ">**TASK**: Create a variable `m_lo` that contains the elements in `m` corresponding to where `r` is less than 1."
   ]
  },
  {
   "cell_type": "code",
   "execution_count": 25,
   "metadata": {},
   "outputs": [
    {
     "data": {
      "text/plain": [
       "array([0.25, 0.1 , 0.25, 0.05])"
      ]
     },
     "execution_count": 25,
     "metadata": {},
     "output_type": "execute_result"
    }
   ],
   "source": [
    "m_lo=m[r<1]\n",
    "m_lo"
   ]
  },
  {
   "cell_type": "markdown",
   "metadata": {},
   "source": [
    "<hr>\n",
    "\n",
    "We can use logical indexing to reassign values in an array. For example, if we wish to replace all values in an array `x` that are equal to 999 with the value 1, we use the following syntax:\n",
    "\n",
    "```\n",
    "x[x==999] = 1\n",
    "```\n",
    ">**TASK**: Modify `r` so that any value less than 0.5 is replaced with the value 0."
   ]
  },
  {
   "cell_type": "code",
   "execution_count": 41,
   "metadata": {},
   "outputs": [
    {
     "data": {
      "text/plain": [
       "array([0.5, 0.5, 0.5, 3. , 3. , 4. , 0.5])"
      ]
     },
     "execution_count": 41,
     "metadata": {},
     "output_type": "execute_result"
    }
   ],
   "source": [
    "h[(h>2) | (h<1)]"
   ]
  },
  {
   "cell_type": "markdown",
   "metadata": {},
   "source": [
    "#### Further Practice\n",
    "We can use the logical operators and (`&`) and or (`|`) to combine logical comparisons. To prioritize the comparisons, we need to put them in parentheses, *e.g.* `(h > 2)`.\n",
    "\n",
    "To find values less than 2 and greater than 1, use &:\n",
    "```\n",
    "x = h[(h<2) & (h>=1)]\n",
    "```\n",
    "\n",
    "To find values greater than 2 or less than 1, use |:\n",
    "```\n",
    "x = h[(h>2) | (h<1)]\n",
    "```\n",
    "\n",
    "Try getting the values in `r` that are between 0.5 and 1.0."
   ]
  },
  {
   "cell_type": "code",
   "execution_count": 37,
   "metadata": {},
   "outputs": [
    {
     "data": {
      "text/plain": [
       "array([0.92, 0.64, 0.94])"
      ]
     },
     "execution_count": 37,
     "metadata": {},
     "output_type": "execute_result"
    }
   ],
   "source": [
    "r[(r>=0.5) & (r<=1)]"
   ]
  },
  {
   "cell_type": "markdown",
   "metadata": {
    "jupyter": {
     "outputs_hidden": false,
     "source_hidden": false
    },
    "nteract": {
     "transient": {
      "deleting": false
     }
    },
    "outputExpanded": false
   },
   "source": [
    "## 12. Programming Constructs"
   ]
  },
  {
   "cell_type": "markdown",
   "metadata": {},
   "source": [
    "### Decision Branching"
   ]
  },
  {
   "cell_type": "markdown",
   "metadata": {},
   "source": [
    "\n",
    "The body of an if block is only executed if the condition is true.\n",
    "\n",
    "TASK\n",
    "Modify the script so that the plotting code on lines 4-7 are executed only when doPlot is 1."
   ]
  },
  {
   "cell_type": "markdown",
   "metadata": {},
   "source": [
    "Often in these situations, you may want to execute some other code if the condition is not met. To do this, you can use the else keyword, as shown.\n",
    "x = rand\n",
    "if x > 0.5\n",
    "    y = 3\n",
    "else\n",
    "    y = 4\n",
    "end\n",
    "TASK\n",
    "Modify the script so that when the if condition is not satisfied, the following line of code is executed:\n",
    "disp(\"The density of \" + element ...\n",
    "    + \" is \" + density)"
   ]
  },
  {
   "cell_type": "markdown",
   "metadata": {},
   "source": [
    "Further Practice:\n",
    "\n",
    "The elseif keyword can be used after if to add more conditions. You can include multiple elseif blocks.\n",
    "\n",
    "Try adding a variable doDisplay to toggle if the densities are displayed. Add this condition with an elseif block."
   ]
  },
  {
   "cell_type": "markdown",
   "metadata": {},
   "source": [
    "### For loops"
   ]
  },
  {
   "attachments": {
    "forloop.jpg": {
     "image/jpeg": "[encoded data removed]"
    }
   },
   "cell_type": "markdown",
   "metadata": {},
   "source": [
    "When this code is run, the loop body will be executed three times, as the loop counter (c) progresses through the values 1:3 (1, 2, and 3).\n",
    "\n",
    "![forloop.jpg](attachment:forloop.jpg)\n",
    "\n",
    "TASK\n",
    "Wrap the code in the second section of the live script (lines 4-7) in a loop so that the code executes 7 times.\n",
    "\n",
    "Name your loop counter idx. For the first execution of the loop, idx should have a value of 1, and it should increase by 1 each consecutive iteration."
   ]
  },
  {
   "cell_type": "markdown",
   "metadata": {},
   "source": [
    "Did you notice that the plot animates? The code pause(0.2) stops the loop for 0.2 seconds so that the plot will update. Try increasing the animation time by increasing the value of 0.2.\n",
    "\n",
    "The loop executes 7 times because the density vector has seven elements. If you want to loop over a vector of unknown length, you can use the length function instead:\n",
    "for idx = 1:length(density)"
   ]
  },
  {
   "cell_type": "markdown",
   "metadata": {},
   "source": [
    "<hr style=\"height:4px;border-width:0;color:gray;background-color:gray\">\n",
    "\n",
    "This is the end of **Python Boot Camp 3**. Be sure to save by pressing the \"S\" key in command mode, and continue to [**Python Boot Camp 4**, Under Construction](python_boot_camp_4.ipynb)"
   ]
  }
 ],
 "metadata": {
  "hide_input": false,
  "kernel_info": {
   "name": "python3"
  },
  "kernelspec": {
   "display_name": "Python 3",
   "language": "python",
   "name": "python3"
  },
  "language_info": {
   "codemirror_mode": {
    "name": "ipython",
    "version": 3
   },
   "file_extension": ".py",
   "mimetype": "text/x-python",
   "name": "python",
   "nbconvert_exporter": "python",
   "pygments_lexer": "ipython3",
   "version": "3.8.5"
  },
  "nteract": {
   "version": "0.22.4"
  },
  "toc": {
   "nav_menu": {},
   "number_sections": false,
   "sideBar": true,
   "skip_h1_title": false,
   "toc_cell": false,
   "toc_position": {},
   "toc_section_display": "block",
   "toc_window_display": false
  },
  "varInspector": {
   "cols": {
    "lenName": 16,
    "lenType": 16,
    "lenVar": 40
   },
   "kernels_config": {
    "python": {
     "delete_cmd_postfix": "",
     "delete_cmd_prefix": "del ",
     "library": "var_list.py",
     "varRefreshCmd": "print(var_dic_list())"
    },
    "r": {
     "delete_cmd_postfix": ") ",
     "delete_cmd_prefix": "rm(",
     "library": "var_list.r",
     "varRefreshCmd": "cat(var_dic_list()) "
    }
   },
   "types_to_exclude": [
    "module",
    "function",
    "builtin_function_or_method",
    "instance",
    "_Feature"
   ],
   "window_display": false
  }
 },
 "nbformat": 4,
 "nbformat_minor": 4
}
