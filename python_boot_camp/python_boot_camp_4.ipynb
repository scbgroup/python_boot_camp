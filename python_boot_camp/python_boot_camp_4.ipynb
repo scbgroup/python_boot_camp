{
 "cells": [
  {
   "cell_type": "markdown",
   "metadata": {},
   "source": [
    "# Python  Boot Camp 4\n",
    "This is a continuation of [Python Boot Camp 3](python_boot_camp_3.ipynb). Based on [MATLAB Onramp](https://matlabacademy.mathworks.com)"
   ]
  },
  {
   "cell_type": "markdown",
   "metadata": {
    "collapsed": true,
    "jupyter": {
     "outputs_hidden": true,
     "source_hidden": false
    },
    "nteract": {
     "transient": {
      "deleting": false
     }
    },
    "outputExpanded": false
   },
   "source": [
    "## Challenge Problem 1: Diffusion in Catalyst Pellets"
   ]
  },
  {
   "cell_type": "markdown",
   "metadata": {},
   "source": [
    "For a first-order reaction occuring in a catalyst pellet, we can use a material balance to derive expressions for the reactant concentration profile within the pellet. This profile depends on the pellet geometry, resulting in the following expressions for pellets of size $L$:\n",
    "\n",
    "**Rectangular slab** ($-L ≤ x ≤ L$):\n",
    "$$ C_A = C_{AS} \\frac{\\cosh{(\\phi x/L)}}{\\cosh{(\\phi)}}  $$\n",
    "\n",
    "**Spherical** ($r ≤ L$):\n",
    "$$ C_A = C_{AS} \\frac{\\sinh{(\\phi r/L)}}{(r/L)\\sinh{(\\phi)}}  $$"
   ]
  },
  {
   "cell_type": "markdown",
   "metadata": {},
   "source": [
    "where $C_A$ is the reactant concentration, $C_{AS}$ is the concentration on the surface of the pellet, and $x$ and $r$ represent the position within the rectangular and spherical pellets, respectively.\n",
    "\n",
    "The parameter $\\phi$ is the Theile modulus, given by:\n",
    "\n",
    "$$ \\phi = L \\sqrt{\\frac{k}{D_A^e}} $$\n",
    "\n",
    "where $k$ is a first-order rate constant and $D_A^e$ is the diffusivity of the reactant in the pellet.\n",
    "\n",
    "For this problem we will assume pellets of size $L$=1 cm, Reactant concentration $C_{AS}$=2 mmol cm$^{-3}$ a rate constant $k$=1×10$^{-6}$, mol s$^{-1}$ cm$^{-3}$, and diffusivity $D_A^e$ = 1×10$^{-7}$ cm$^2$/s."
   ]
  },
  {
   "cell_type": "markdown",
   "metadata": {},
   "source": [
    "## Initialize\n",
    "Run this cell first."
   ]
  },
  {
   "cell_type": "code",
   "execution_count": 1,
   "metadata": {},
   "outputs": [
    {
     "name": "stdout",
     "output_type": "stream",
     "text": [
      "Populating the interactive namespace from numpy and matplotlib\n"
     ]
    }
   ],
   "source": [
    "%pylab inline"
   ]
  },
  {
   "cell_type": "markdown",
   "metadata": {},
   "source": [
    "## Parameters\n",
    "Define variables for $L$, $k$ $C_{AS}$, and $D^e_A$ using their given values."
   ]
  },
  {
   "cell_type": "code",
   "execution_count": 2,
   "metadata": {},
   "outputs": [],
   "source": []
  },
  {
   "cell_type": "markdown",
   "metadata": {},
   "source": [
    "## Thiele modulus\n",
    "Calculate the Theile modulus for this problem and display the result. Use the variables defined above."
   ]
  },
  {
   "cell_type": "code",
   "execution_count": null,
   "metadata": {},
   "outputs": [],
   "source": []
  },
  {
   "cell_type": "markdown",
   "metadata": {},
   "source": [
    "## Concentration Profiles\n",
    "On the same plot, plot the Concentration profiles inside \n",
    " - a rectangular slab for $0 ≤ x ≤ L$ and \n",
    " - a spherical particle for . \n",
    " \n",
    "Use `linspace` to create an array of values of x, and then calculate and plot $C_A(x)$ and $C_A(r)$, where we'll use $r=x$. use the functions `xlabel`, `ylabel`, and `legend` to annotate the plot, and set the y-axis range using the function `ylim`."
   ]
  },
  {
   "cell_type": "code",
   "execution_count": null,
   "metadata": {},
   "outputs": [],
   "source": []
  },
  {
   "cell_type": "code",
   "execution_count": null,
   "metadata": {},
   "outputs": [],
   "source": []
  },
  {
   "cell_type": "markdown",
   "metadata": {},
   "source": [
    "## Further Questions\n",
    " - Based on these results, which pellet geometry do you think is more effective for this reaction?\n",
    " \n",
    " - How would you calculate the effective reaction rate per unit volume for the slab and sphere?\n",
    " \n",
    " - Based on effective reaction rate, which geometry is better?"
   ]
  },
  {
   "cell_type": "markdown",
   "metadata": {},
   "source": [
    "When finished, be sure to do **\"Kernel\" > \"Restart and Run All\"** to be sure everything runs correctly."
   ]
  },
  {
   "cell_type": "markdown",
   "metadata": {},
   "source": [
    "<hr style=\"height:4px;border-width:0;color:gray;background-color:gray\">\n",
    "\n",
    "This is the end of **Python Boot Camp 4**. Be sure to save by pressing the \"S\" key in command mode, and continue to [**Python Boot Camp 5**](python_boot_camp_5.ipynb)"
   ]
  }
 ],
 "metadata": {
  "hide_input": false,
  "kernel_info": {
   "name": "python3"
  },
  "kernelspec": {
   "display_name": "Python 3",
   "language": "python",
   "name": "python3"
  },
  "language_info": {
   "codemirror_mode": {
    "name": "ipython",
    "version": 3
   },
   "file_extension": ".py",
   "mimetype": "text/x-python",
   "name": "python",
   "nbconvert_exporter": "python",
   "pygments_lexer": "ipython3",
   "version": "3.8.5"
  },
  "nteract": {
   "version": "0.22.4"
  },
  "toc": {
   "nav_menu": {},
   "number_sections": false,
   "sideBar": true,
   "skip_h1_title": false,
   "toc_cell": false,
   "toc_position": {},
   "toc_section_display": "block",
   "toc_window_display": false
  },
  "varInspector": {
   "cols": {
    "lenName": 16,
    "lenType": 16,
    "lenVar": 40
   },
   "kernels_config": {
    "python": {
     "delete_cmd_postfix": "",
     "delete_cmd_prefix": "del ",
     "library": "var_list.py",
     "varRefreshCmd": "print(var_dic_list())"
    },
    "r": {
     "delete_cmd_postfix": ") ",
     "delete_cmd_prefix": "rm(",
     "library": "var_list.r",
     "varRefreshCmd": "cat(var_dic_list()) "
    }
   },
   "types_to_exclude": [
    "module",
    "function",
    "builtin_function_or_method",
    "instance",
    "_Feature"
   ],
   "window_display": false
  }
 },
 "nbformat": 4,
 "nbformat_minor": 4
}
