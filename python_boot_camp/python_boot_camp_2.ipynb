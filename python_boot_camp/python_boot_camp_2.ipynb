{
 "cells": [
  {
   "cell_type": "markdown",
   "metadata": {},
   "source": [
    "# Python  Boot Camp 2\n",
    "This is a continuation of [Python Boot Camp 1](python_boot_camp_1.ipynb). Based on [MATLAB Onramp](https://matlabacademy.mathworks.com)"
   ]
  },
  {
   "cell_type": "markdown",
   "metadata": {},
   "source": [
    "### Required  packages\n",
    "Run the %pylab inline magic below to get started"
   ]
  },
  {
   "cell_type": "code",
   "execution_count": 2,
   "metadata": {},
   "outputs": [
    {
     "name": "stdout",
     "output_type": "stream",
     "text": [
      "Populating the interactive namespace from numpy and matplotlib\n"
     ]
    }
   ],
   "source": [
    "%pylab inline"
   ]
  },
  {
   "cell_type": "markdown",
   "metadata": {
    "jupyter": {
     "outputs_hidden": false,
     "source_hidden": false
    },
    "nteract": {
     "transient": {
      "deleting": false
     }
    },
    "outputExpanded": false
   },
   "source": [
    "## 3. 1D and 2D Arrays\n",
    "Create Python variables that contain multiple elements."
   ]
  },
  {
   "cell_type": "markdown",
   "metadata": {},
   "source": [
    "### Python Data Types\n",
    "\n",
    "Python has a number of [built-in data types](https://www.w3schools.com/python/python_datatypes.asp), in the following categories:\n",
    " \n",
    " - Text Type:\tstring, abbreviated `str`\n",
    " - Numeric Types:\tinteger `int`, floating point `float`, `complex`\n",
    " - Sequence Types:\t`list`, `tuple`, `range`\n",
    " - Mapping Type:\tdictionary `dict`\n",
    " \n",
    "Of these, we will mostly use the `str`, `int`, `float`, and `list` types.  The other types can also be useful though:\n",
    "\n",
    " - The `tuple` type is like a list, except it is immutable, meaning it cannot be changed once defined.\n",
    " - The `dict` type allows for storage of data consisting of key value pairs, making it a mini database."
   ]
  },
  {
   "cell_type": "markdown",
   "metadata": {
    "jupyter": {
     "outputs_hidden": false,
     "source_hidden": false
    },
    "nteract": {
     "transient": {
      "deleting": false
     }
    },
    "outputExpanded": false
   },
   "source": [
    "### Python lists"
   ]
  },
  {
   "cell_type": "markdown",
   "metadata": {},
   "source": [
    "In Python, a `list` is a collection of multiple elements, separated by commas and enclosed in square brackets. **Note that, unlike MATLAB, the comma separator is _required_.**\n",
    "\n",
    "```\n",
    "In  [1]: p = [3, 'film']\n",
    "``` \n",
    "> **TASK:** Create a list named x with two elements: 7 and 9"
   ]
  },
  {
   "cell_type": "code",
   "execution_count": null,
   "metadata": {},
   "outputs": [],
   "source": []
  },
  {
   "cell_type": "markdown",
   "metadata": {},
   "source": [
    "<hr>\n",
    "\n",
    "The problem with lists is that we can't do math on them.\n",
    "\n",
    "> **TASK:** Show that adding 5 to x results in an error."
   ]
  },
  {
   "cell_type": "code",
   "execution_count": null,
   "metadata": {
    "scrolled": true
   },
   "outputs": [],
   "source": []
  },
  {
   "cell_type": "markdown",
   "metadata": {},
   "source": [
    "<hr>\n",
    "\n",
    "`numpy` contains a function `array` that converts lists of numbers to a form that we can use to do math.\n",
    "\n",
    "> **TASK:** Create an array `z` from `x` using `array(x)`"
   ]
  },
  {
   "cell_type": "code",
   "execution_count": null,
   "metadata": {
    "scrolled": true
   },
   "outputs": [],
   "source": []
  },
  {
   "cell_type": "markdown",
   "metadata": {},
   "source": [
    "<hr>\n",
    "\n",
    "> **TASK:** add 5 to every element of array z"
   ]
  },
  {
   "cell_type": "code",
   "execution_count": null,
   "metadata": {},
   "outputs": [],
   "source": []
  },
  {
   "cell_type": "markdown",
   "metadata": {},
   "source": [
    "<hr>\n",
    "\n",
    "> **TASK:** Create an array named x that contains the values 3, 10, and 5 in that order."
   ]
  },
  {
   "cell_type": "code",
   "execution_count": null,
   "metadata": {},
   "outputs": [],
   "source": []
  },
  {
   "cell_type": "markdown",
   "metadata": {},
   "source": [
    "<hr>\n",
    "\n",
    "We can make a two-dimensional array using a list of lists:\n",
    "\n",
    "```\n",
    "In  [1]: x = array( [ [3, 4, 5], [6, 7, 8] ] )\n",
    "         x\n",
    "Out [1]: array([[3, 4, 5],\n",
    "                [6, 7, 8]])\n",
    "```\n",
    "> **TASK:** Create a 2D array named x with the values shown below.\n",
    "```\n",
    "5    6    7\n",
    "8    9   10\n",
    "```"
   ]
  },
  {
   "cell_type": "code",
   "execution_count": null,
   "metadata": {},
   "outputs": [],
   "source": []
  },
  {
   "cell_type": "markdown",
   "metadata": {},
   "source": [
    "<hr>\n",
    "\n",
    "In Python, we can perform calculations within the square brackets.\n",
    "\n",
    "```\n",
    "In  [1]: x = array([abs(-4), 4**2])\n",
    "         x\n",
    "Out [1]: array([ 4, 16])\n",
    "```\n",
    "\n",
    "**Note:** Python uses a double-asterisk `**` as the symbol for exponents, not the carat `^` as in MATLAB. \n",
    "\n",
    "> **TASK:** Create a 1D array named `x` that contains `sqrt(10)` as its first element and π$^2$ as its second element."
   ]
  },
  {
   "cell_type": "code",
   "execution_count": null,
   "metadata": {},
   "outputs": [],
   "source": []
  },
  {
   "cell_type": "markdown",
   "metadata": {
    "jupyter": {
     "outputs_hidden": false,
     "source_hidden": false
    },
    "nteract": {
     "transient": {
      "deleting": false
     }
    },
    "outputExpanded": false
   },
   "source": [
    "### Creating Evenly-Spaced Arrays"
   ]
  },
  {
   "cell_type": "markdown",
   "metadata": {},
   "source": [
    "It is common to create arrays containing evenly-spaced numbers. For large arrays, entering individual numbers is not practical. An alternative, shorthand way to create evenly-spaced arrays is to use numpy's `arange` function:\n",
    "```\n",
    "In  [1]: x = arange(4, 12, 2)\n",
    "         x\n",
    "Out [1]: array([ 4,  6,  8, 10])\n",
    "```\n",
    "\n",
    "Note that `4` is the starting value, `12` is the first _excluded_ value, and `2` is the step size. This function is the array version of the function `range` that is built into Python.\n",
    "\n",
    "> **TASK:** Create an array named x with values 1, 2, 3, and 4, using the `arange` function."
   ]
  },
  {
   "cell_type": "code",
   "execution_count": null,
   "metadata": {},
   "outputs": [],
   "source": []
  },
  {
   "cell_type": "markdown",
   "metadata": {},
   "source": [
    "### Creating arrays with `linspace`"
   ]
  },
  {
   "cell_type": "markdown",
   "metadata": {},
   "source": [
    "If the step size is a non integer, such as 0.1, it is best to use `numpy.linspace`. \n",
    "\n",
    "```\n",
    "In  [1]: y = linspace(0.4,3,6)\n",
    "         y\n",
    "Out [1]: array([0.4 , 0.92, 1.44, 1.96, 2.48, 3.  ])\n",
    "```\n",
    "\n",
    "Here, `0.4` is the starting value, `3` is the last _included_ value, and `6` is the number of elements in the array. This function is equivalent to the `linspace` function in MATLAB.\n",
    "\n",
    "> **TASK:** Create an array named x that starts at 1, ends at 10, and contains 5 elements."
   ]
  },
  {
   "cell_type": "code",
   "execution_count": null,
   "metadata": {},
   "outputs": [],
   "source": []
  },
  {
   "cell_type": "markdown",
   "metadata": {
    "jupyter": {
     "outputs_hidden": false,
     "source_hidden": false
    },
    "nteract": {
     "transient": {
      "deleting": false
     }
    },
    "outputExpanded": false
   },
   "source": [
    "### Array Creation Functions"
   ]
  },
  {
   "cell_type": "markdown",
   "metadata": {},
   "source": [
    "`numpy` includes functions to create commonly used matrices, such as matrices of random numbers.\n",
    "```\n",
    "In  [1]: x = random_sample([2,2])\n",
    "         x\n",
    "Out [2]: array([[0.78363163, 0.07238245],\n",
    "                [0.68659162, 0.17798821]])\n",
    "```\n",
    "Note that the inputs to the function `random_sample` is a list representing the dimensions of the random array.\n",
    "> **TASK:** Create a variable named x that is a 5-by-4 array of random numbers."
   ]
  },
  {
   "cell_type": "code",
   "execution_count": null,
   "metadata": {},
   "outputs": [],
   "source": []
  },
  {
   "cell_type": "markdown",
   "metadata": {},
   "source": [
    "<hr>\n",
    "\n",
    "> **TASK:** Use the `zeros` function to create an array of all zeros that has 6 rows and 3 columns (6-by-3). Assign the result to a variable named x."
   ]
  },
  {
   "cell_type": "code",
   "execution_count": null,
   "metadata": {},
   "outputs": [],
   "source": []
  },
  {
   "cell_type": "markdown",
   "metadata": {},
   "source": [
    "<hr>\n",
    "\n",
    "#### Further Practice:\n",
    " - What do you think the function `numpy.ones` does?\n",
    " - How do you get the size of an existing array? You can use `numpy.shape`.\n",
    " - You can also create an array with the same size as an existing array using `numpy.zeros_like` or `numpy.ones_like`."
   ]
  },
  {
   "cell_type": "markdown",
   "metadata": {
    "jupyter": {
     "outputs_hidden": false,
     "source_hidden": false
    },
    "nteract": {
     "transient": {
      "deleting": false
     }
    },
    "outputExpanded": false
   },
   "source": [
    "## 4. Loading and Saving Data\n",
    "We don't often save data to files in Python, but we may import data from an external source. Let's load some data from a \"comma separated value\" or CSV file using `np.loadtxt`. As inputs, this function requires the file name or path as a text string, and we need to specify the `delimiter` between values to be a comma.   \n",
    "```\n",
    "In  [1]: data = loadtxt('data.csv', delimiter=',')\n",
    "``` \n",
    "> **TASK:** Load the data in `data.csv` into an array named `data` and show that the `shape` of this array is `(40, 19)`"
   ]
  },
  {
   "cell_type": "code",
   "execution_count": 4,
   "metadata": {},
   "outputs": [
    {
     "data": {
      "text/plain": [
       "array([[ 28.        ,  34.5       ,  15.        ,  29.        ,\n",
       "         15.5       ,  20.        ,  16.66666667,  33.        ,\n",
       "          8.62083333,  10.        ,  14.        ,  18.5       ,\n",
       "         18.        ,  18.        ,   9.08333333,  10.        ,\n",
       "         99.        ,  73.        ,  21.5       ],\n",
       "       [ 27.5       ,  33.5       ,  14.        ,  29.        ,\n",
       "         19.        ,  28.        ,  16.66666667,  31.        ,\n",
       "          9.0875    ,  10.        ,  21.        ,  19.        ,\n",
       "         21.        ,  21.        ,  10.5       ,  10.        ,\n",
       "        106.        ,  87.        ,  24.125     ],\n",
       "       [ 27.        ,  27.        ,  11.        ,  27.        ,\n",
       "         18.5       ,  26.5       ,  15.33333333,  27.5       ,\n",
       "          8.6125    ,  10.        ,  19.        ,  15.        ,\n",
       "         21.        ,  21.        ,  10.16666667,  10.        ,\n",
       "         97.        ,  90.        ,  23.375     ],\n",
       "       [ 27.        ,  25.        ,  16.        ,  26.5       ,\n",
       "         13.        ,  23.        ,   6.66666667,  40.        ,\n",
       "          8.225     ,  10.        ,  17.        ,  15.5       ,\n",
       "          0.        ,  19.        ,   8.58333333,  10.        ,\n",
       "         81.        ,  66.        ,  18.375     ],\n",
       "       [ 25.        ,  31.5       ,  18.        ,  27.        ,\n",
       "         16.        ,  26.5       ,  15.33333333,   0.        ,\n",
       "          8.45833333,  10.        ,  16.        ,  18.5       ,\n",
       "         13.        ,  15.        ,   8.25      ,  10.        ,\n",
       "         65.        ,  72.        ,  17.125     ],\n",
       "       [  9.        ,  19.5       ,   2.        ,   0.        ,\n",
       "         11.5       ,   0.        ,   0.        ,  15.        ,\n",
       "          2.875     ,  10.        ,   0.        ,   7.        ,\n",
       "          0.        ,   7.        ,   2.33333333,  10.        ,\n",
       "         90.        ,  52.        ,  17.75      ],\n",
       "       [ 23.        ,  26.5       ,  15.        ,  28.        ,\n",
       "         14.5       ,   9.        ,  16.        ,   0.        ,\n",
       "          7.6875    ,  10.        ,  20.        ,  22.        ,\n",
       "         17.5       ,  11.        ,   9.91666667,  10.        ,\n",
       "         86.        ,  79.        ,  20.625     ],\n",
       "       [ 22.        ,  31.        ,  12.        ,  22.        ,\n",
       "         13.5       ,  26.        ,  16.66666667,  32.        ,\n",
       "          7.72916667,  10.        ,  17.        ,  14.        ,\n",
       "         11.        ,  17.        ,   8.        ,  10.        ,\n",
       "         59.        ,  54.        ,  14.125     ],\n",
       "       [ 30.        ,   0.        ,   0.        ,   0.        ,\n",
       "          0.        ,   0.        ,   0.        ,   0.        ,\n",
       "          1.575     ,  10.        ,  19.        ,   6.        ,\n",
       "         16.        ,  20.        ,   9.16666667,  10.        ,\n",
       "         88.        ,  60.        ,  18.5       ],\n",
       "       [ 30.        ,  33.        ,  20.        ,  30.        ,\n",
       "         15.5       ,  25.5       ,  17.33333333,  36.5       ,\n",
       "          9.22916667,  10.        ,  13.        ,  16.        ,\n",
       "         16.        ,  15.        ,   7.83333333,  10.        ,\n",
       "         87.        ,  75.        ,  20.25      ],\n",
       "       [ 26.        ,  25.        ,   5.5       ,  17.        ,\n",
       "         11.        ,  24.        ,  10.66666667,  22.5       ,\n",
       "          6.86666667,  10.        ,  14.        ,   6.5       ,\n",
       "          6.        ,   3.        ,   4.41666667,  10.        ,\n",
       "         65.        ,  48.        ,  14.125     ],\n",
       "       [ 27.        ,  34.5       ,  17.        ,  30.        ,\n",
       "         17.5       ,  10.        ,  12.66666667,  28.        ,\n",
       "          7.91666667,  10.        ,  17.        ,  11.5       ,\n",
       "         13.        ,  18.        ,   8.        ,  10.        ,\n",
       "         95.        ,  81.        ,  22.        ],\n",
       "       [ 25.        ,  31.5       ,  15.        ,  21.        ,\n",
       "         14.5       ,  26.        ,  17.33333333,  36.        ,\n",
       "          8.20416667,  10.        ,  14.        ,  17.        ,\n",
       "         21.        ,  21.        ,   9.83333333,  10.        ,\n",
       "         98.        ,  84.        ,  22.75      ],\n",
       "       [  0.        ,   0.        ,   0.        ,   0.        ,\n",
       "          2.        ,   0.        ,   0.        ,   0.        ,\n",
       "          0.95      ,  10.        ,   6.        ,   9.5       ,\n",
       "          6.        ,  17.        ,   5.41666667,  10.        ,\n",
       "         89.        ,  59.        ,  18.5       ],\n",
       "       [ 25.        ,  40.        ,  14.        ,  20.5       ,\n",
       "         16.5       ,  23.5       ,  16.        ,   0.        ,\n",
       "          8.2875    ,  10.        ,  17.        ,  21.5       ,\n",
       "         18.5       ,  18.5       ,   9.75      ,  10.        ,\n",
       "         88.        ,  77.        ,  20.625     ],\n",
       "       [ 28.        ,  29.5       ,   0.        ,  28.        ,\n",
       "          0.        ,  24.        ,   1.33333333,  25.        ,\n",
       "          6.64583333,  10.        ,  21.        ,  10.        ,\n",
       "         12.        ,  14.        ,   7.83333333,  10.        ,\n",
       "         55.        ,  81.        ,  17.        ],\n",
       "       [ 28.        ,  33.5       ,  17.        ,  30.        ,\n",
       "         19.        ,  25.        ,  17.33333333,  39.        ,\n",
       "          9.24583333,  10.        ,  18.        ,  16.5       ,\n",
       "         17.        ,  16.5       ,   8.58333333,  10.        ,\n",
       "        107.        ,  90.        ,  24.625     ],\n",
       "       [ 28.        ,  37.5       ,  15.        ,  30.        ,\n",
       "          0.        ,  23.        ,  12.66666667,   0.        ,\n",
       "          7.69583333,  10.        ,  12.        ,   6.5       ,\n",
       "          6.        ,   0.        ,   4.08333333,  10.        ,\n",
       "         39.        ,  69.        ,  13.5       ],\n",
       "       [ 28.        ,   0.        ,   8.        ,   0.        ,\n",
       "          0.        ,  10.5       ,   8.        ,  13.        ,\n",
       "          4.17083333,  10.        ,   0.        ,  15.5       ,\n",
       "          0.        ,   0.        ,   2.58333333,  10.        ,\n",
       "         93.        ,  80.        ,  21.625     ],\n",
       "       [ 30.        ,  28.        ,  18.        ,  29.        ,\n",
       "         16.5       ,  26.        ,  10.        ,  21.        ,\n",
       "          8.04583333,  10.        ,  20.        ,  14.5       ,\n",
       "         14.5       ,  16.        ,   8.41666667,  10.        ,\n",
       "         80.        ,  70.        ,  18.75      ],\n",
       "       [ 28.        ,  36.        ,  19.        ,  30.        ,\n",
       "         17.        ,  27.        ,  16.        ,  38.        ,\n",
       "          9.09583333,  10.        ,  18.        ,  11.        ,\n",
       "         15.        ,  16.        ,   8.16666667,  10.        ,\n",
       "         88.        ,  80.        ,  21.        ],\n",
       "       [ 27.        ,  35.        ,  11.        ,  29.        ,\n",
       "         15.        ,  27.        ,  18.        ,  36.        ,\n",
       "          9.00416667,  10.        ,  22.        ,  15.5       ,\n",
       "         20.        ,  21.        ,  10.5       ,  10.        ,\n",
       "         95.        ,  87.        ,  22.75      ],\n",
       "       [ 27.        ,  35.        ,  17.        ,  29.5       ,\n",
       "         15.5       ,  26.        ,  16.        ,  33.        ,\n",
       "          8.775     ,  10.        ,  14.        ,  14.5       ,\n",
       "         19.        ,  17.        ,   8.41666667,  10.        ,\n",
       "         87.        , 102.        ,  23.625     ],\n",
       "       [ 26.5       ,  40.        ,  16.        ,  28.        ,\n",
       "         19.5       ,  30.        ,  16.66666667,  32.5       ,\n",
       "          9.0625    ,  10.        ,  16.        ,  20.        ,\n",
       "         18.5       ,  22.        ,  10.08333333,  10.        ,\n",
       "        100.        , 104.        ,  25.5       ],\n",
       "       [ 28.        ,  33.        ,  15.        ,  30.        ,\n",
       "         16.        ,  26.        ,  16.66666667,  34.        ,\n",
       "          8.63333333,  10.        ,  11.        ,  11.        ,\n",
       "         19.        ,  17.        ,   7.83333333,  10.        ,\n",
       "        101.        ,  86.        ,  23.375     ],\n",
       "       [ 29.5       ,  35.5       ,  18.        ,  28.        ,\n",
       "         19.5       ,  28.        ,  18.        ,  21.        ,\n",
       "          9.425     ,  10.        ,  22.        ,  18.        ,\n",
       "         20.        ,  21.        ,  10.5       ,  10.        ,\n",
       "        110.        ,  98.        ,  26.        ],\n",
       "       [ 16.        ,  31.        ,  18.        ,  28.        ,\n",
       "         15.5       ,   0.        ,  15.33333333,  27.5       ,\n",
       "          7.32083333,  10.        ,   8.        ,  18.        ,\n",
       "         20.        ,  20.        ,   9.66666667,  10.        ,\n",
       "         87.        ,  87.        ,  21.75      ],\n",
       "       [ 29.5       ,  40.        ,  20.        ,  30.        ,\n",
       "         19.        ,  29.        ,  18.        ,  38.        ,\n",
       "          9.8       ,  10.        ,  19.        ,  22.        ,\n",
       "         22.        ,  22.        ,  11.        ,  10.        ,\n",
       "        106.        ,  92.        ,  24.75      ],\n",
       "       [ 27.        ,  25.        ,   0.        ,  26.        ,\n",
       "          6.5       ,  22.5       ,  12.66666667,  18.5       ,\n",
       "          6.9375    ,  10.        ,  14.        ,   7.5       ,\n",
       "          0.        ,  17.        ,   6.41666667,  10.        ,\n",
       "         70.        ,  61.        ,  16.375     ],\n",
       "       [ 25.5       ,  30.5       ,  16.        ,  28.        ,\n",
       "         18.        ,  24.        ,  16.66666667,  33.        ,\n",
       "          8.39166667,  10.        ,  22.        ,  20.        ,\n",
       "         18.        ,  18.        ,  10.        ,  10.        ,\n",
       "         92.        ,  95.        ,  23.375     ],\n",
       "       [ 26.5       ,  24.5       ,  11.        ,  28.        ,\n",
       "         10.5       ,  24.        ,  16.66666667,  14.        ,\n",
       "          7.6       ,  10.        ,   8.        ,  12.5       ,\n",
       "         19.        ,  14.        ,   7.58333333,  10.        ,\n",
       "         85.        ,  82.        ,  20.875     ],\n",
       "       [ 29.5       ,  40.        ,  17.        ,  29.        ,\n",
       "         17.        ,  25.        ,  18.66666667,  29.        ,\n",
       "          9.26666667,  10.        ,  19.        ,  18.5       ,\n",
       "         22.        ,  19.        ,  10.        ,  10.        ,\n",
       "        102.        , 101.        ,  25.375     ],\n",
       "       [ 28.5       ,  40.        ,  19.        ,  30.        ,\n",
       "         19.        ,  26.        ,  17.33333333,  37.        ,\n",
       "          9.37083333,  10.        ,  21.        ,  11.        ,\n",
       "         14.        ,  18.        ,   8.83333333,  10.        ,\n",
       "         93.        ,  91.        ,  23.        ],\n",
       "       [ 16.        ,  33.        ,   0.        ,  25.        ,\n",
       "          8.        ,  20.        ,  13.33333333,  36.        ,\n",
       "          7.3       ,  10.        ,  15.        ,  13.5       ,\n",
       "          4.        ,  11.        ,   6.58333333,  10.        ,\n",
       "         68.        ,  45.        ,  14.125     ],\n",
       "       [ 25.5       ,  30.        ,  17.        ,  22.        ,\n",
       "         14.5       ,   0.        ,  17.33333333,  33.        ,\n",
       "          8.075     ,  10.        ,  15.        ,  20.5       ,\n",
       "         18.        ,  16.        ,   9.08333333,  10.        ,\n",
       "         85.        ,  90.        ,  21.875     ],\n",
       "       [ 26.        ,  25.        ,  15.        ,  24.        ,\n",
       "         14.5       ,  22.        ,   6.66666667,  15.        ,\n",
       "          6.70833333,  10.        ,   0.        ,   9.        ,\n",
       "          2.        ,  12.        ,   3.83333333,  10.        ,\n",
       "         67.        ,  61.        ,  16.        ],\n",
       "       [  0.        ,  19.        ,  11.        ,  26.        ,\n",
       "         14.        ,  23.        ,   0.        ,   0.        ,\n",
       "          3.35833333,  10.        ,   7.        ,   4.        ,\n",
       "         10.        ,   0.        ,   3.5       ,  10.        ,\n",
       "         66.        ,  32.        ,  12.25      ],\n",
       "       [ 23.5       ,  16.        ,   6.        ,  27.        ,\n",
       "         12.5       ,  23.        ,  14.66666667,  22.        ,\n",
       "          6.59583333,  10.        ,  13.        ,   9.        ,\n",
       "          2.        ,  13.        ,   5.83333333,  10.        ,\n",
       "         51.        ,  38.        ,  11.125     ],\n",
       "       [ 10.        ,  39.5       ,   0.        ,  21.        ,\n",
       "         17.5       ,  16.        ,  10.        ,  27.        ,\n",
       "          7.16666667,  10.        ,  13.        ,   0.        ,\n",
       "         11.        ,  18.        ,   7.        ,  10.        ,\n",
       "         58.        ,  88.        ,  18.25      ],\n",
       "       [ 27.5       ,  29.5       ,  16.        ,  29.        ,\n",
       "         13.        ,  23.        ,  11.33333333,  28.        ,\n",
       "          7.975     ,  10.        ,  12.        ,  13.5       ,\n",
       "         15.        ,  19.        ,   7.91666667,  10.        ,\n",
       "         85.        ,  66.        ,  18.875     ]])"
      ]
     },
     "execution_count": 4,
     "metadata": {},
     "output_type": "execute_result"
    }
   ],
   "source": [
    "data = loadtxt('data.csv', delimiter=',')\n",
    "data"
   ]
  },
  {
   "cell_type": "markdown",
   "metadata": {
    "jupyter": {
     "outputs_hidden": false,
     "source_hidden": false
    },
    "nteract": {
     "transient": {
      "deleting": false
     }
    },
    "outputExpanded": false
   },
   "source": [
    "## 5. Indexing into and Modifying Arrays\n",
    "Use indexing to extract and modify rows, columns, and elements of `numpy` arrays."
   ]
  },
  {
   "cell_type": "markdown",
   "metadata": {
    "jupyter": {
     "outputs_hidden": false,
     "source_hidden": false
    },
    "nteract": {
     "transient": {
      "deleting": false
     }
    },
    "outputExpanded": false
   },
   "source": [
    "### Indexing into Arrays"
   ]
  },
  {
   "cell_type": "markdown",
   "metadata": {},
   "source": [
    "You can extract values from an array using row, column indexing.\n",
    "\n",
    "```\n",
    "In  [1]: x =  A[5, 7]\n",
    "``` \n",
    "\n",
    "This syntax extracts the value in the 5th row and 7th column of `A` and assigns the result to the variable `y`. A couple of important notes:\n",
    "\n",
    " - Indexing into arrays and lists is done using square brackets with comma separators, `[5, 7]`.\n",
    " - For a 2D array, the first index is always the row number and the second index the column number, just like MATLAB.\n",
    " - **Python indexing starts with 0 (zero) and so the beginning row is the `0th` row and the `5th` row has 5 rows above it!!**\n",
    " \n",
    "> **TASK:** Create a variable `x` that contains the value in the `0th` row and `3rd` column of the array `data`."
   ]
  },
  {
   "cell_type": "code",
   "execution_count": null,
   "metadata": {},
   "outputs": [],
   "source": []
  },
  {
   "cell_type": "markdown",
   "metadata": {},
   "source": [
    "<hr>\n",
    "\n",
    "You can use the index `-1` as either a row or column index to reference the last element.\n",
    "```\n",
    "In  [1]: y = A[-1,2]\n",
    "``` \n",
    "\n",
    "> **TASK:** Use the `-1` index to obtain the value in the last row and 4th column of the array `data`. Assign this value to a variable named x."
   ]
  },
  {
   "cell_type": "code",
   "execution_count": null,
   "metadata": {},
   "outputs": [],
   "source": []
  },
  {
   "cell_type": "markdown",
   "metadata": {},
   "source": [
    "<hr>\n",
    "\n",
    "We can access elements close to the end of an array using larger negative indices.\n",
    "```\n",
    "In  [1]: y =  A[-3,-2]\n",
    "``` \n",
    "\n",
    "> **TASK:** Create a scalar variable `x` that contains the value in the second to last row and 3rd to last column of `data`."
   ]
  },
  {
   "cell_type": "code",
   "execution_count": null,
   "metadata": {},
   "outputs": [],
   "source": []
  },
  {
   "cell_type": "markdown",
   "metadata": {},
   "source": [
    "<hr>\n",
    "\n",
    "#### Further Practice\n",
    "If you only use one index with a 2D array, it will return the row associated with that index. Using one index, try extracting the eighth row of `data`.\n",
    "\n",
    "You can also use variables as your index. Try creating a variable `y`, and use `y` as the index to `data`."
   ]
  },
  {
   "cell_type": "code",
   "execution_count": null,
   "metadata": {},
   "outputs": [],
   "source": []
  },
  {
   "cell_type": "markdown",
   "metadata": {
    "jupyter": {
     "outputs_hidden": false,
     "source_hidden": false
    },
    "nteract": {
     "transient": {
      "deleting": false
     }
    },
    "outputExpanded": false
   },
   "source": [
    "### Extracting Multiple Elements"
   ]
  },
  {
   "cell_type": "markdown",
   "metadata": {},
   "source": [
    "When used as an index, the colon operator (:) specifies all the elements in that dimension. The syntax\n",
    " ```\n",
    " x = A[2,:]\n",
    " ```\n",
    "creates a 1D array containing all of the elements from the `2nd` row of A. In this case both `A[2]` and `A[2,:]` produce the same result.\n",
    "\n",
    "> **TASK:** Create a variable named `density` that contains the second column of the 2D array named `data`."
   ]
  },
  {
   "cell_type": "code",
   "execution_count": null,
   "metadata": {},
   "outputs": [],
   "source": []
  },
  {
   "cell_type": "markdown",
   "metadata": {},
   "source": [
    "<hr>\n",
    "\n",
    "The colon operator can refer to a range of values. The following syntax creates a 2D array containing the `0th` through `2nd` columns of the array `A`.\n",
    "\n",
    "```\n",
    "y =  A[:, 0:3]\n",
    "``` \n",
    "\n",
    "**Note:** The value `3` represents the first _excluded_ column extracted from `A`. If there is no excluded column (*i.e.* we want to include column `-1`) we can omit an index, for example:\n",
    "```\n",
    "y =  A[:, 0:]\n",
    "``` \n",
    "\n",
    "> **TASK:** Create a variable `volume` containing the last two columns of `data`."
   ]
  },
  {
   "cell_type": "code",
   "execution_count": null,
   "metadata": {},
   "outputs": [],
   "source": []
  },
  {
   "cell_type": "markdown",
   "metadata": {},
   "source": [
    "<hr>\n",
    "\n",
    "`1D` arrays require a single index. For example: \n",
    "\n",
    "```\n",
    "u =  v[4]\n",
    "``` \n",
    "\n",
    "returns the `4th` element of 1D array `v`.\n",
    "> **TASK:** Using a single index value, create a variable named `p` containing the `6th` element in the 1D array `density`."
   ]
  },
  {
   "cell_type": "code",
   "execution_count": null,
   "metadata": {},
   "outputs": [],
   "source": []
  },
  {
   "cell_type": "markdown",
   "metadata": {},
   "source": [
    "<hr>\n",
    "\n",
    "A single range of index values can be used to reference a subset of a 1D array. For example: \n",
    "\n",
    "```\n",
    "x = v[3:]\n",
    "```\n",
    "\n",
    "returns a subset of 1D array `v` from the `3rd` element to the end.\n",
    "\n",
    "> **TASK:** Using a range of index values, create a 1D array named `p` containing the `2nd` through `5th` elements of `density`."
   ]
  },
  {
   "cell_type": "code",
   "execution_count": null,
   "metadata": {},
   "outputs": [],
   "source": []
  },
  {
   "cell_type": "markdown",
   "metadata": {},
   "source": [
    "<hr>\n",
    "\n",
    "#### Further Practice\n",
    "Indices can be lists of non-consecutive numbers, such as `[4, 8, 3]` Try extracting the first, third, and sixth elements of density."
   ]
  },
  {
   "cell_type": "code",
   "execution_count": 10,
   "metadata": {},
   "outputs": [
    {
     "data": {
      "text/plain": [
       "array([1, 3, 5])"
      ]
     },
     "execution_count": 10,
     "metadata": {},
     "output_type": "execute_result"
    }
   ],
   "source": [
    "density = array([1, 4, 6, 3, 5, 8, 9, 10, 5, 3, 1])\n",
    "density[[0, 3, 4]]"
   ]
  },
  {
   "cell_type": "markdown",
   "metadata": {
    "jupyter": {
     "outputs_hidden": false,
     "source_hidden": false
    },
    "nteract": {
     "transient": {
      "deleting": false
     }
    },
    "outputExpanded": false
   },
   "source": [
    "### Changing Values in Arrays"
   ]
  },
  {
   "cell_type": "markdown",
   "metadata": {},
   "source": [
    "Task 1\n",
    "Remember you can use the : character to extract entire columns of data.\n",
    "> **TASK:** Create a 1D array named `v1` containing the last column of `data`."
   ]
  },
  {
   "cell_type": "code",
   "execution_count": null,
   "metadata": {},
   "outputs": [],
   "source": []
  },
  {
   "cell_type": "markdown",
   "metadata": {},
   "source": [
    "<hr>\n",
    "\n",
    "It's very important to note that `v1` is not independent of `data`. If we change `v1`, we change `data`. We can alter elements of an array by combining indexing with assignment:\n",
    "```\n",
    "A[2] = 11\n",
    "```\n",
    "\n",
    "> **TASK:** Change the `0th` element in `v1` from 21.5 to 0.5. Then, show that `data[0,-1]` also changes."
   ]
  },
  {
   "cell_type": "code",
   "execution_count": null,
   "metadata": {},
   "outputs": [],
   "source": []
  },
  {
   "cell_type": "markdown",
   "metadata": {},
   "source": [
    "<hr>\n",
    "\n",
    "> **TASK:** Change the value of the element in the first row and last column of data back to 21.5. What happens to `v1[0]`?"
   ]
  },
  {
   "cell_type": "code",
   "execution_count": null,
   "metadata": {},
   "outputs": [],
   "source": []
  },
  {
   "cell_type": "markdown",
   "metadata": {},
   "source": [
    "<hr>\n",
    "\n",
    "If we want to make `v1` a separate, independent copy, we can use the `numpy.copy` function.\n",
    "\n",
    "```\n",
    "y= copy(A[:,0])\n",
    "```\n",
    "\n",
    "> **TASK:** Create a 1D array named `v2` that contains the last column of `data`, by using the `copy` function. Then, change the value of the `0th` element of `v2` to `0.5` and show that `data[0,-1]` remains 21.5."
   ]
  },
  {
   "cell_type": "code",
   "execution_count": null,
   "metadata": {},
   "outputs": [],
   "source": []
  },
  {
   "cell_type": "markdown",
   "metadata": {},
   "source": [
    "<hr>\n",
    "\n",
    "#### Further Practice\n",
    "\n",
    "You can combine indexing with assignment to change array values to equal other elements. For example, this code would change the value of x[1] to x[2]:\n",
    "```\n",
    "x[1] = x[2]\n",
    "```\n",
    "\n",
    "Try changing the `0th` column of `data` to the `1st` column of `data`."
   ]
  },
  {
   "cell_type": "code",
   "execution_count": null,
   "metadata": {},
   "outputs": [],
   "source": []
  },
  {
   "cell_type": "markdown",
   "metadata": {},
   "source": [
    "### Unpacking Lists and Arrays\n",
    "\n",
    "Both lists and arrays can be unpacked into individual variables:\n",
    "\n",
    "```\n",
    "k1, k2, k3, k4 = [0.1, 0.2, 0.3, 0.5]\n",
    "```\n",
    "\n",
    "> **TASK:** Create a 1D random array of length 3 using `random_sample` and unpack it into three variables, `r1`, `r2`, `r3`"
   ]
  },
  {
   "cell_type": "code",
   "execution_count": 22,
   "metadata": {},
   "outputs": [
    {
     "data": {
      "text/plain": [
       "['rover', 'bowser', 'ruff']"
      ]
     },
     "execution_count": 22,
     "metadata": {},
     "output_type": "execute_result"
    }
   ],
   "source": [
    "dogs = ['rover', 'bowser', 'ruff']\n",
    "dogs"
   ]
  },
  {
   "cell_type": "code",
   "execution_count": 23,
   "metadata": {},
   "outputs": [
    {
     "data": {
      "text/plain": [
       "['fifi', 'heidi', 'riley']"
      ]
     },
     "execution_count": 23,
     "metadata": {},
     "output_type": "execute_result"
    }
   ],
   "source": [
    "cats = ['fifi', 'heidi', 'riley']\n",
    "cats"
   ]
  },
  {
   "cell_type": "code",
   "execution_count": 27,
   "metadata": {},
   "outputs": [
    {
     "data": {
      "text/plain": [
       "array([['rover', 'bowser', 'ruff'],\n",
       "       ['fifi', 'heidi', 'riley']], dtype='<U6')"
      ]
     },
     "execution_count": 27,
     "metadata": {},
     "output_type": "execute_result"
    }
   ],
   "source": [
    "pets =[dogs, cats]\n",
    "pets\n",
    "array(pets)"
   ]
  },
  {
   "cell_type": "code",
   "execution_count": 33,
   "metadata": {},
   "outputs": [
    {
     "data": {
      "text/plain": [
       "array([[1, 2, 3],\n",
       "       [3, 4, 5]])"
      ]
     },
     "execution_count": 33,
     "metadata": {},
     "output_type": "execute_result"
    }
   ],
   "source": [
    "row1 = [ 1, 2, 3]\n",
    "row2 = [3, 4, 5]\n",
    "a = [row1, row2]\n",
    "b= array(a)\n",
    "b"
   ]
  },
  {
   "cell_type": "code",
   "execution_count": 37,
   "metadata": {},
   "outputs": [
    {
     "data": {
      "text/plain": [
       "array([3, 5])"
      ]
     },
     "execution_count": 37,
     "metadata": {},
     "output_type": "execute_result"
    }
   ],
   "source": [
    "b[:, -1]"
   ]
  },
  {
   "cell_type": "code",
   "execution_count": 31,
   "metadata": {},
   "outputs": [
    {
     "data": {
      "text/plain": [
       "array([11, 12, 13])"
      ]
     },
     "execution_count": 31,
     "metadata": {},
     "output_type": "execute_result"
    }
   ],
   "source": [
    "numpy.array(row1) + 10"
   ]
  },
  {
   "cell_type": "code",
   "execution_count": 21,
   "metadata": {},
   "outputs": [
    {
     "data": {
      "text/plain": [
       "(array([0.95111814, 0.94662348, 0.63184258]),\n",
       " array([[0.24992489, 0.3688355 , 0.75421645],\n",
       "        [0.41724138, 0.75573344, 0.64651401]]))"
      ]
     },
     "execution_count": 21,
     "metadata": {},
     "output_type": "execute_result"
    }
   ],
   "source": [
    "a, random_sample([2,3])"
   ]
  },
  {
   "cell_type": "markdown",
   "metadata": {
    "jupyter": {
     "outputs_hidden": false,
     "source_hidden": false
    },
    "nteract": {
     "transient": {
      "deleting": false
     }
    },
    "outputExpanded": false
   },
   "source": [
    "## 6. Array Calculations\n",
    "Perform calculations on entire arrays at once."
   ]
  },
  {
   "cell_type": "markdown",
   "metadata": {
    "jupyter": {
     "outputs_hidden": false,
     "source_hidden": false
    },
    "nteract": {
     "transient": {
      "deleting": false
     }
    },
    "outputExpanded": false
   },
   "source": [
    "### Performing Array Operations on 1D Arrays"
   ]
  },
  {
   "cell_type": "markdown",
   "metadata": {},
   "source": [
    "`numpy` is designed for natural math on arrays. For example, you can add a scalar value to all the elements of an array.\n",
    "\n",
    "```\n",
    "y = x + 2\n",
    "```\n",
    "\n",
    "> **TASK:** Add 1 to each element of `v2` and store the result in a variable named `r`."
   ]
  },
  {
   "cell_type": "code",
   "execution_count": null,
   "metadata": {
    "scrolled": true
   },
   "outputs": [],
   "source": []
  },
  {
   "cell_type": "markdown",
   "metadata": {},
   "source": [
    "<hr>\n",
    "\n",
    "You can add together any two arrays of the same size.\n",
    "\n",
    "```\n",
    "z = x + y\n",
    "```\n",
    "\n",
    "> **TASK:** Create a 1D array `vavg` that is the average of the arrays `v1` and `v2`."
   ]
  },
  {
   "cell_type": "code",
   "execution_count": null,
   "metadata": {},
   "outputs": [],
   "source": []
  },
  {
   "cell_type": "markdown",
   "metadata": {},
   "source": [
    "<hr>\n",
    "\n",
    "Basic statistical functions in Python can be applied to an array to produce a single output. The maximum value of a 1D array can be determined using the `np.max` function.\n",
    "```\n",
    "xMax = max(x)\n",
    "```\n",
    "> **TASK:** Create a variable vm containing the maximum of the array `vavg`."
   ]
  },
  {
   "cell_type": "code",
   "execution_count": null,
   "metadata": {},
   "outputs": [],
   "source": []
  },
  {
   "cell_type": "markdown",
   "metadata": {},
   "source": [
    "<hr>\n",
    "\n",
    "In `numpy`, the `*` operator performs element-wise array multiplication, as opposed to matrix multiplication. You can use * to multiply two equally sized arrays. \n",
    "\n",
    "```\n",
    "In  [1]: z = array([3, 4]) * array([10, 20])\n",
    "         z \n",
    "Out [1]: 30    80\n",
    "```\n",
    "**NOTE:** Using `numpy`, the \"dot\" operators `.*` and `./` are not required to accomplish element-wise math, as they are in MATLAB.\n",
    "\n",
    "> **TASK:** Create a variable named `mass` containing the elementwise product of `density` and `vavg`."
   ]
  },
  {
   "cell_type": "code",
   "execution_count": null,
   "metadata": {},
   "outputs": [],
   "source": []
  },
  {
   "cell_type": "markdown",
   "metadata": {},
   "source": [
    "<hr>\n",
    "\n",
    "#### Further Practice\n",
    "You have performed array operations with arrays of the same size and with scalars and arrays.\n",
    "The concept of [broadcasting](https://numpy.org/doc/stable/user/basics.broadcasting.html) enables other compatible sizes. For example, try the following:\n",
    "\n",
    "```\n",
    "x = array([[1, 3, 5, 7], [2, 4, 6, 8]]) * array([1,2,3,4])\n",
    "```\n",
    "\n",
    "What size is x?"
   ]
  },
  {
   "cell_type": "code",
   "execution_count": null,
   "metadata": {},
   "outputs": [],
   "source": []
  },
  {
   "cell_type": "markdown",
   "metadata": {},
   "source": [
    "<hr style=\"height:4px;border-width:0;color:gray;background-color:gray\">\n",
    "\n",
    "This is the end of **Python Boot Camp 2**. Be sure to save by pressing the \"S\" key in command mode, and continue to [**Python Boot Camp 3**](python_boot_camp_3.ipynb)"
   ]
  }
 ],
 "metadata": {
  "hide_input": false,
  "kernel_info": {
   "name": "python3"
  },
  "kernelspec": {
   "display_name": "Environment (conda_python-3.10.12)",
   "language": "python",
   "name": "conda_python-3.10.12"
  },
  "language_info": {
   "codemirror_mode": {
    "name": "ipython",
    "version": 3
   },
   "file_extension": ".py",
   "mimetype": "text/x-python",
   "name": "python",
   "nbconvert_exporter": "python",
   "pygments_lexer": "ipython3",
   "version": "3.10.12"
  },
  "nteract": {
   "version": "0.22.4"
  },
  "toc": {
   "base_numbering": 1,
   "nav_menu": {},
   "number_sections": false,
   "sideBar": true,
   "skip_h1_title": false,
   "title_cell": "Table of Contents",
   "title_sidebar": "Contents",
   "toc_cell": false,
   "toc_position": {},
   "toc_section_display": "block",
   "toc_window_display": false
  },
  "varInspector": {
   "cols": {
    "lenName": 16,
    "lenType": 16,
    "lenVar": 40
   },
   "kernels_config": {
    "python": {
     "delete_cmd_postfix": "",
     "delete_cmd_prefix": "del ",
     "library": "var_list.py",
     "varRefreshCmd": "print(var_dic_list())"
    },
    "r": {
     "delete_cmd_postfix": ") ",
     "delete_cmd_prefix": "rm(",
     "library": "var_list.r",
     "varRefreshCmd": "cat(var_dic_list()) "
    }
   },
   "types_to_exclude": [
    "module",
    "function",
    "builtin_function_or_method",
    "instance",
    "_Feature"
   ],
   "window_display": false
  }
 },
 "nbformat": 4,
 "nbformat_minor": 4
}
