{
 "cells": [
  {
   "cell_type": "markdown",
   "metadata": {},
   "source": [
    "# Python  Boot Camp 6:\n",
    "\n",
    "This is a continuation of [Python Boot Camp 5](python_boot_camp_5.ipynb). Based on [MATLAB Onramp](https://matlabacademy.mathworks.com)\n",
    "\n",
    "## Challenge Problem 2: Batch Reactor with the Modified Euler's method\n",
    "\n",
    "The material balance for a power law reaction in a batch reactor can be written as:\n",
    "\n",
    "$$ \\frac{dC}{dt}=-kC^n $$\n",
    "\n",
    "where $n$ can take any value greater than or equal to 0. We'll use the **modified Euler's method** to predict time to reaction completion for any value of $k$ or $n$."
   ]
  },
  {
   "cell_type": "markdown",
   "metadata": {},
   "source": [
    "### Getting Started\n",
    "Run the code cell below to get started."
   ]
  },
  {
   "cell_type": "code",
   "execution_count": null,
   "metadata": {},
   "outputs": [],
   "source": [
    "%pylab inline"
   ]
  },
  {
   "cell_type": "markdown",
   "metadata": {
    "jupyter": {
     "outputs_hidden": false,
     "source_hidden": false
    },
    "nteract": {
     "transient": {
      "deleting": false
     }
    },
    "outputExpanded": false
   },
   "source": [
    "## The Modified Euler method\n",
    "\n",
    "In the modified Euler method, we step through an integration $y=\\int{f(t)}dt$ with step size $\\Delta t$, by calculating the value of $y$ at the next step, $y_{i+1}$, from the value at the current step, $y_i$, in two stages:\n",
    "\n",
    "$$ \\tilde{y}_{i+1} = \\Delta t f(t_i,y_i) $$\n",
    "$$  y_{i+1} = y_i + \\frac{\\Delta t}{2}\\left[ f(t_i,y_i) + f(t_{i+1}, \\tilde{y}_{i+1}) \\right ]$$\n",
    "\n",
    "where $\\tilde{y}_{i+1}$ is an initial guess at the next value of $y$, and $f(t,y)$ is the expression for the first derivative of $y$, $\\frac{dy}{dt}=f(t,y)$. "
   ]
  },
  {
   "cell_type": "markdown",
   "metadata": {},
   "source": [
    "## Parameters\n",
    "\n",
    "Let's start by defining some parameters.  These variables will be available to the functions and loops that we write below."
   ]
  },
  {
   "cell_type": "code",
   "execution_count": null,
   "metadata": {},
   "outputs": [],
   "source": [
    "C0 = 0.1 # mol/L\n",
    "k = 0.52  # dimensions depend on n.  for n=1: /min   for n=2: L/min/mol\n",
    "n = 1.5  \n",
    "dt = 0.1  # min\n",
    "tmax = 100  # min"
   ]
  },
  {
   "cell_type": "markdown",
   "metadata": {},
   "source": [
    "## Derivative function\n",
    "Write a function `f(t,C)` that will return $\\frac{dC}{dt}$ for any value of $t$ and $C$. "
   ]
  },
  {
   "cell_type": "code",
   "execution_count": null,
   "metadata": {},
   "outputs": [],
   "source": []
  },
  {
   "cell_type": "markdown",
   "metadata": {},
   "source": [
    "## Time array\n",
    "Using the `arange` function, make a numpy array `t` of time values starting at $t=0$ and ending at `tmax`, with step size `dt`. Remember that the second argument of `arange` is the first *excluded* value.\n",
    "\n",
    "Then, make an array `C` with the same size as `t`, and with the `0th` value set to `C0`. *Hint: use the function `np.zeros_like()`*"
   ]
  },
  {
   "cell_type": "code",
   "execution_count": null,
   "metadata": {},
   "outputs": [],
   "source": []
  },
  {
   "cell_type": "markdown",
   "metadata": {},
   "source": [
    "## Time loop\n",
    "\n",
    "Now we implement the modified euler's equation in a loop using our function. We want to loop over all but the last value of `t`, so we use `t[:-1]`. The result of the  calculation is placed in `C[i+1]`, so we will need to access the indices of `t` using `enumerate()`. "
   ]
  },
  {
   "cell_type": "code",
   "execution_count": null,
   "metadata": {},
   "outputs": [],
   "source": [
    "for i, ti in enumerate(t[:-1]):\n",
    "    "
   ]
  },
  {
   "cell_type": "markdown",
   "metadata": {},
   "source": [
    "## Plot\n",
    "Let's make a plot of the result `C` vs. `t`, with properly labeled axes."
   ]
  },
  {
   "cell_type": "code",
   "execution_count": null,
   "metadata": {},
   "outputs": [],
   "source": []
  },
  {
   "cell_type": "markdown",
   "metadata": {},
   "source": [
    "## Time to reaction completion\n",
    "Lastly, we want to calculate the time it takes for the reaction to go to completion.  Let's say that the reaction is complete when only 5% of the reactant remains. How long does that take?"
   ]
  },
  {
   "cell_type": "code",
   "execution_count": null,
   "metadata": {},
   "outputs": [],
   "source": []
  },
  {
   "cell_type": "markdown",
   "metadata": {},
   "source": [
    "### Further Practice\n",
    "\n",
    "There's a lot more we can do with this model:\n",
    "\n",
    " - change the parameter values to see how the result changes. What happens for `n=0`?\n",
    " - The differential equation can be solve analytically, using separation of variables, for some values of `n`. How does the analytical solution compare to the numerical result?\n",
    " - Are there any combination of parameter values for which the reaction never goes to completion?"
   ]
  },
  {
   "cell_type": "markdown",
   "metadata": {},
   "source": [
    "When finished, be sure to do **\"Kernel\" > \"Restart and Run All\"** to be sure everything runs correctly.\n",
    "\n",
    "<hr style=\"height:4px;border-width:0;color:gray;background-color:gray\">\n",
    "\n",
    "This is the end of **Python Boot Camp 6**. Be sure to save by pressing the \"S\" key in command mode. Then, print this notebook as a PDF, using the browser \"Print\" command, and submit on [D2L](https://d2l.msu.edu/d2l/le/content/1067710/viewContent/9356144/View)."
   ]
  },
  {
   "cell_type": "code",
   "execution_count": null,
   "metadata": {},
   "outputs": [],
   "source": []
  }
 ],
 "metadata": {
  "hide_input": false,
  "kernel_info": {
   "name": "python3"
  },
  "kernelspec": {
   "display_name": "Python 3",
   "language": "python",
   "name": "python3"
  },
  "language_info": {
   "codemirror_mode": {
    "name": "ipython",
    "version": 3
   },
   "file_extension": ".py",
   "mimetype": "text/x-python",
   "name": "python",
   "nbconvert_exporter": "python",
   "pygments_lexer": "ipython3",
   "version": "3.8.5"
  },
  "nteract": {
   "version": "0.22.4"
  },
  "toc": {
   "nav_menu": {},
   "number_sections": false,
   "sideBar": true,
   "skip_h1_title": false,
   "toc_cell": false,
   "toc_position": {},
   "toc_section_display": "block",
   "toc_window_display": false
  },
  "varInspector": {
   "cols": {
    "lenName": 16,
    "lenType": 16,
    "lenVar": 40
   },
   "kernels_config": {
    "python": {
     "delete_cmd_postfix": "",
     "delete_cmd_prefix": "del ",
     "library": "var_list.py",
     "varRefreshCmd": "print(var_dic_list())"
    },
    "r": {
     "delete_cmd_postfix": ") ",
     "delete_cmd_prefix": "rm(",
     "library": "var_list.r",
     "varRefreshCmd": "cat(var_dic_list()) "
    }
   },
   "types_to_exclude": [
    "module",
    "function",
    "builtin_function_or_method",
    "instance",
    "_Feature"
   ],
   "window_display": false
  }
 },
 "nbformat": 4,
 "nbformat_minor": 4
}
