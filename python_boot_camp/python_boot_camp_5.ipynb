{
 "cells": [
  {
   "cell_type": "markdown",
   "metadata": {},
   "source": [
    "# Python  Boot Camp 5\n",
    "This is a continuation of [Python Boot Camp 4](python_boot_camp_4.ipynb). Based on [MATLAB Onramp](https://matlabacademy.mathworks.com)"
   ]
  },
  {
   "cell_type": "markdown",
   "metadata": {},
   "source": [
    "### Getting Started\n",
    "Run the code cell below to get started."
   ]
  },
  {
   "cell_type": "code",
   "execution_count": null,
   "metadata": {},
   "outputs": [],
   "source": [
    "%pylab inline\n",
    "import random\n",
    "\n",
    "data=array([[1, 1, 1.2],[1.5, 1, 1.25],[0.5, 1, 1.30],[0.5, 0.5, 1.1],[1, 0.25, 0.92],[0.5, 0.1, 0.64],[3, 3, 1.27],[1, 4, 1.28],[3, 2, 1.25],[4, 1, 1.30],[0.5, 0.25, 0.94],[2, 0.05, 0.41]])\n",
    "h, m, r = data.T  # this transposes the array data so we can easily extract the columns"
   ]
  },
  {
   "cell_type": "markdown",
   "metadata": {
    "jupyter": {
     "outputs_hidden": false,
     "source_hidden": false
    },
    "nteract": {
     "transient": {
      "deleting": false
     }
    },
    "outputExpanded": false
   },
   "source": [
    "## 12. Logical Indexing"
   ]
  },
  {
   "cell_type": "markdown",
   "metadata": {},
   "source": [
    "Relational operators, such as `>`, `<`, `==`, and `~=` perform comparisons between two values. The outcome of a comparison for equality or inequality is a Boolean variable that has a value of either `True` or `False`.\n",
    "\n",
    ">**TASK**: Use the relational operator, `<`, to test if `π` is less than `4`. Assign the output to a variable named `test`."
   ]
  },
  {
   "cell_type": "code",
   "execution_count": null,
   "metadata": {},
   "outputs": [],
   "source": []
  },
  {
   "cell_type": "markdown",
   "metadata": {},
   "source": [
    "<hr>\n",
    "\n",
    "We can compare a `numpy` array to a single scalar value using relational operators. The result is a logical array of the same size as the original array:\n",
    "\n",
    "```\n",
    "In  [1]: array([5, 10, 15]) > 12\n",
    "Out [1]: array([False, False,  True])\n",
    "```\n",
    "\n",
    ">**TASK**: Test the 1D array `h` for elements that are less than 2. Assign the output to a variable named `test`."
   ]
  },
  {
   "cell_type": "code",
   "execution_count": null,
   "metadata": {},
   "outputs": [],
   "source": []
  },
  {
   "cell_type": "markdown",
   "metadata": {},
   "source": [
    "<hr>\n",
    "\n",
    "We can use a logical array as an array index, which will extract the array elements where the index is true. The following example will extract all elements in `h` that are greater than two:\n",
    "```\n",
    "In  [1]: h2 = h[h > 2]\n",
    "         h2\n",
    "Out [1]: array([3., 3., 4.])\n",
    "```\n",
    "\n",
    ">**TASK**: Create a variable `h1` containing all the elements in `h` that are less than or equal to (`<=`) one."
   ]
  },
  {
   "cell_type": "code",
   "execution_count": null,
   "metadata": {},
   "outputs": [],
   "source": []
  },
  {
   "cell_type": "markdown",
   "metadata": {},
   "source": [
    "<hr>\n",
    "\n",
    "We can also use logical indexing with two different 1D arrays, here we use a condition on `h` to index `r`:\n",
    "\n",
    "```\n",
    "In  [1]: r2 = r[h > 2]\n",
    "         r2\n",
    "Out [1]: array([1.27, 1.25, 1.3 ])\n",
    "```\n",
    "\n",
    ">**TASK**: Create a variable `m_lo` that contains the elements in `m` corresponding to where `r` is less than 1."
   ]
  },
  {
   "cell_type": "code",
   "execution_count": null,
   "metadata": {},
   "outputs": [],
   "source": []
  },
  {
   "cell_type": "markdown",
   "metadata": {},
   "source": [
    "<hr>\n",
    "\n",
    "We can use logical indexing to reassign values in an array. For example, if we wish to replace all values in an array `x` that are equal to 999 with the value 1, we use the following syntax:\n",
    "\n",
    "```\n",
    "x[x==999] = 1\n",
    "```\n",
    ">**TASK**: Modify `r` so that any value less than 0.5 is replaced with the value 0."
   ]
  },
  {
   "cell_type": "code",
   "execution_count": null,
   "metadata": {},
   "outputs": [],
   "source": []
  },
  {
   "cell_type": "markdown",
   "metadata": {},
   "source": [
    "#### Further Practice\n",
    "We can use the logical operators and (`&`) and or (`|`) to combine logical comparisons. To prioritize the comparisons, we need to put them in parentheses, *e.g.* `(h > 2)`.\n",
    "\n",
    "To find values less than 2 and greater than 1, use &:\n",
    "```\n",
    "x = h[(h<2) & (h>=1)]\n",
    "```\n",
    "\n",
    "To find values greater than 2 or less than 1, use |:\n",
    "```\n",
    "x = h[(h>2) | (h<1)]\n",
    "```\n",
    "\n",
    "Try getting the values in `r` that are between 0.5 and 1.0."
   ]
  },
  {
   "cell_type": "code",
   "execution_count": null,
   "metadata": {},
   "outputs": [],
   "source": []
  },
  {
   "cell_type": "markdown",
   "metadata": {
    "jupyter": {
     "outputs_hidden": false,
     "source_hidden": false
    },
    "nteract": {
     "transient": {
      "deleting": false
     }
    },
    "outputExpanded": false
   },
   "source": [
    "## 12. Programming Constructs"
   ]
  },
  {
   "cell_type": "markdown",
   "metadata": {},
   "source": [
    "### Decision Branching"
   ]
  },
  {
   "cell_type": "markdown",
   "metadata": {},
   "source": [
    "The body of an `if` block is only executed if the condition is true:\n",
    "\n",
    "```\n",
    "if y == 1:\n",
    "     print (\"This is true\")\n",
    "     y = y + 1\n",
    "```\n",
    "\n",
    "Note the colon (`:`) after the boolean condition, and the indented block of commands that follow. When the indentation ends, the `if` block ends.\n",
    "\n",
    ">**TASK**: Modify the following script so that the plotting code on lines 3-6 are executed only when `doPlot` is 1. *hint: the \"equal\" operator is `==`.*"
   ]
  },
  {
   "cell_type": "code",
   "execution_count": null,
   "metadata": {},
   "outputs": [],
   "source": [
    "do_plot = random.choice([0, 1])\n",
    "\n",
    "plot(m, r, 'o')\n",
    "xlabel('Methylcyclohexane Partial Pressure / atm')\n",
    "ylabel(\"Rate / mol kg$_{cat}^{-1}$ s$^{-1}$\")\n",
    "show()"
   ]
  },
  {
   "cell_type": "markdown",
   "metadata": {},
   "source": [
    "<hr>\n",
    "\n",
    "Often in these situations, we may want to execute some other code if the condition is not met. To do this, you can use the `else` keyword:\n",
    "```\n",
    "x = rand()\n",
    "if x > 0.5:\n",
    "    y = 3\n",
    "else:\n",
    "    y = 4\n",
    "y\n",
    "```\n",
    ">**TASK**: Modify the plotting script above so that when `do_plot` is not 1, following lines of code are executed:\n",
    "```\n",
    "exp=random.choice(range(len(r)))\n",
    "print(f\"The rate of experiment {exp} is {r[exp]} mol/kg/s\")\n",
    "```"
   ]
  },
  {
   "cell_type": "code",
   "execution_count": null,
   "metadata": {},
   "outputs": [],
   "source": []
  },
  {
   "cell_type": "markdown",
   "metadata": {},
   "source": [
    "#### Further Practice:\n",
    "\n",
    "The `elif` keyword can be used after `if` to add more conditions. You can include multiple `elif` blocks.\n",
    "\n",
    "Try adding a variable `do_plot_anyway` to choose whether to make the plot even if `do_plot = False`.. Add this condition with an `elif` block."
   ]
  },
  {
   "cell_type": "markdown",
   "metadata": {},
   "source": [
    "### For loops"
   ]
  },
  {
   "cell_type": "markdown",
   "metadata": {},
   "source": [
    "When the following `for` loop is run, the loop body will be executed three times, as the loop counter `c` progresses through the values `range(3) = [0, 1, 2]`:\n",
    "\n",
    "```\n",
    "for c in range(3):\n",
    "    print(c)\n",
    "```\n",
    "Note the colon (`:`) after the `range` function, and the indented block of commands that follow. When the indentation ends, the `for` block ends. \n",
    "\n",
    "One cool thing about python loops is that we can loop over any list, and we don't need to know the length.  The following code actually works:\n",
    "\n",
    "```\n",
    "pets = ['dog', 'cat', 'fish', 'snake']\n",
    "for p in pets:\n",
    "    print(f'My favorite pet is a {p}!')\n",
    "```\n",
    "\n",
    ">**TASK**: Wrap the code below in a `for` loop to print out even multiples of `π` up to `8π`"
   ]
  },
  {
   "cell_type": "code",
   "execution_count": null,
   "metadata": {},
   "outputs": [],
   "source": [
    "m=2\n",
    "print(f'{m} times π equals {m*pi}.')"
   ]
  },
  {
   "cell_type": "markdown",
   "metadata": {},
   "source": [
    "#### Further Practice\n",
    "\n",
    "Sometimes we need both the *value* and the *index* of an array element within a `for` loop. For this we can use the `enumerate` function:\n",
    "\n",
    "```\n",
    "for ii, p in enumerate(pets):\n",
    "    print(f'The index of {p} in pets is {ii}')\n",
    "```\n",
    "\n",
    "Try printing the index of the even multiples of `π`."
   ]
  },
  {
   "cell_type": "markdown",
   "metadata": {},
   "source": [
    "<hr style=\"height:4px;border-width:0;color:gray;background-color:gray\">\n",
    "\n",
    "This is the end of **Python Boot Camp 5**. Be sure to save by pressing the \"S\" key in command mode, and continue to [**Python Boot Camp 6**](python_boot_camp_6.ipynb)."
   ]
  }
 ],
 "metadata": {
  "hide_input": false,
  "kernel_info": {
   "name": "python3"
  },
  "kernelspec": {
   "display_name": "Python 3",
   "language": "python",
   "name": "python3"
  },
  "language_info": {
   "codemirror_mode": {
    "name": "ipython",
    "version": 3
   },
   "file_extension": ".py",
   "mimetype": "text/x-python",
   "name": "python",
   "nbconvert_exporter": "python",
   "pygments_lexer": "ipython3",
   "version": "3.8.5"
  },
  "nteract": {
   "version": "0.22.4"
  },
  "toc": {
   "nav_menu": {},
   "number_sections": false,
   "sideBar": true,
   "skip_h1_title": false,
   "toc_cell": false,
   "toc_position": {},
   "toc_section_display": "block",
   "toc_window_display": false
  },
  "varInspector": {
   "cols": {
    "lenName": 16,
    "lenType": 16,
    "lenVar": 40
   },
   "kernels_config": {
    "python": {
     "delete_cmd_postfix": "",
     "delete_cmd_prefix": "del ",
     "library": "var_list.py",
     "varRefreshCmd": "print(var_dic_list())"
    },
    "r": {
     "delete_cmd_postfix": ") ",
     "delete_cmd_prefix": "rm(",
     "library": "var_list.r",
     "varRefreshCmd": "cat(var_dic_list()) "
    }
   },
   "types_to_exclude": [
    "module",
    "function",
    "builtin_function_or_method",
    "instance",
    "_Feature"
   ],
   "window_display": false
  }
 },
 "nbformat": 4,
 "nbformat_minor": 4
}
