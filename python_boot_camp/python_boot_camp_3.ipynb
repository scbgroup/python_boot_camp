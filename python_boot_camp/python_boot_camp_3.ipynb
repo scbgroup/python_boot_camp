{
 "cells": [
  {
   "cell_type": "markdown",
   "metadata": {},
   "source": [
    "# Python  Boot Camp 3\n",
    "This is a continuation of [Python Boot Camp 2](python_boot_camp_2.ipynb). Based on [MATLAB Onramp](https://matlabacademy.mathworks.com)"
   ]
  },
  {
   "cell_type": "markdown",
   "metadata": {},
   "source": [
    "### Required  packages\n",
    "Run the %pylab inline magic below to get started"
   ]
  },
  {
   "cell_type": "code",
   "execution_count": 56,
   "metadata": {},
   "outputs": [
    {
     "name": "stdout",
     "output_type": "stream",
     "text": [
      "Populating the interactive namespace from numpy and matplotlib\n"
     ]
    }
   ],
   "source": [
    "%pylab inline\n",
    "data = np.loadtxt('complex_pbr.csv', delimiter=',', skiprows=1)"
   ]
  },
  {
   "cell_type": "markdown",
   "metadata": {
    "jupyter": {
     "outputs_hidden": false,
     "source_hidden": false
    },
    "nteract": {
     "transient": {
      "deleting": false
     }
    },
    "outputExpanded": false
   },
   "source": [
    "## 7. Calling Functions\n",
    "Call functions to obtain multiple outputs."
   ]
  },
  {
   "cell_type": "markdown",
   "metadata": {
    "jupyter": {
     "outputs_hidden": false,
     "source_hidden": false
    },
    "nteract": {
     "transient": {
      "deleting": false
     }
    },
    "outputExpanded": false
   },
   "source": [
    "### Obtaining Multiple Outputs from Function Calls"
   ]
  },
  {
   "cell_type": "markdown",
   "metadata": {},
   "source": [
    "The `shape` function can be applied to an array to produce a single output array containing the size of the input array. \n",
    "\n",
    "```\n",
    "s = shape(x)\n",
    "```\n",
    "\n",
    "> **TASK:** Create a variable named `dsize` containing the size of the array `data`."
   ]
  },
  {
   "cell_type": "code",
   "execution_count": null,
   "metadata": {},
   "outputs": [],
   "source": []
  },
  {
   "cell_type": "markdown",
   "metadata": {},
   "source": [
    "<hr>\n",
    "\n",
    "The output of the `shape` function can also be unpacked to multiple output variables:\n",
    "\n",
    "```\n",
    "xrow, xcol = shape(x)\n",
    "```\n",
    "\n",
    "> **TASK:** Create the variables `dr` and `dc` which respectively contain the number of rows and columns of the array `data`."
   ]
  },
  {
   "cell_type": "code",
   "execution_count": null,
   "metadata": {},
   "outputs": [],
   "source": []
  },
  {
   "cell_type": "markdown",
   "metadata": {
    "jupyter": {
     "outputs_hidden": false,
     "source_hidden": false
    },
    "nteract": {
     "transient": {
      "deleting": false
     }
    },
    "outputExpanded": false
   },
   "source": [
    "## 9. Plotting Data\n",
    "Visualize variables using the plotting functions in `matplotlib.pyplot`."
   ]
  },
  {
   "cell_type": "markdown",
   "metadata": {},
   "source": [
    "### Inline plots in Jupyter\n",
    "We can use the magic command `%matplotlib inline` to enable plots to be shown within Jupyter notebooks.  This command can be combined with the `%pylab` magic by using `%pylab inline`, which appears in the first cell of this notebook."
   ]
  },
  {
   "cell_type": "markdown",
   "metadata": {
    "jupyter": {
     "outputs_hidden": false,
     "source_hidden": false
    },
    "nteract": {
     "transient": {
      "deleting": false
     }
    },
    "outputExpanded": false
   },
   "source": [
    "### Plotting Vectors"
   ]
  },
  {
   "cell_type": "markdown",
   "metadata": {},
   "source": [
    "Two vectors of the same length can be plotted against each other using the plot function:\n",
    "\n",
    "```\n",
    "plot(x,y)\n",
    "```\n",
    "\n",
    "> **TASK:** Create variables `W` and `FA` representing the 0th and 1st columns of `data`. Create a plot with `W` on the x-axis and `FA` on the y-axis."
   ]
  },
  {
   "cell_type": "code",
   "execution_count": null,
   "metadata": {},
   "outputs": [],
   "source": []
  },
  {
   "cell_type": "markdown",
   "metadata": {},
   "source": [
    "<hr>\n",
    "\n",
    "Notice that the output of the `plot` function, a list, is printed before the plot. This can be suppressed by adding the function `show()` to the end of the cell.\n",
    "\n",
    "> **TASK:** Repeat the plot of `FA` vs. `W`, this time with the output surpressed using the `show()` function."
   ]
  },
  {
   "cell_type": "code",
   "execution_count": null,
   "metadata": {},
   "outputs": [],
   "source": []
  },
  {
   "cell_type": "markdown",
   "metadata": {},
   "source": [
    "<hr>\n",
    "\n",
    "The plot function accepts additional arguments to specify the color, line style, and marker style. One way to do this is with a single argument with different symbols in single quotes.\n",
    "\n",
    "```\n",
    "plot(x,y,\"r--o\")\n",
    "```\n",
    "\n",
    "The command above plots a red (r) dashed (--) line with a circle (o) as a marker. You can learn more about the symbols available in the [Pyplot Tutorial](https://matplotlib.org/3.2.1/tutorials/introductory/pyplot.html).\n",
    "\n",
    "> **TASK:** Plot `FA` (y-axis) against `W` (x-axis). Use red (r) star (*) markers and no line in your plot."
   ]
  },
  {
   "cell_type": "code",
   "execution_count": null,
   "metadata": {},
   "outputs": [],
   "source": []
  },
  {
   "cell_type": "markdown",
   "metadata": {},
   "source": [
    "<hr>\n",
    "\n",
    "Plot functions that appear within the same cell are plotted together.\n",
    "\n",
    "> **TASK:** Create an array `FB` that is the third column of `data`. Then plot both `FA` and `FB` against `W`. Use Use red (r) star (*) markers for `FA` and black (k) square (s) markers for `FB`."
   ]
  },
  {
   "cell_type": "code",
   "execution_count": null,
   "metadata": {},
   "outputs": [],
   "source": []
  },
  {
   "cell_type": "markdown",
   "metadata": {},
   "source": [
    "<hr>\n",
    "\n",
    "When you plot a single vector by itself, `matplotlib` uses the vector values as the y-axis data and sets the x-axis data to range from 1 to the number of elements in the vector.\n",
    "> **TASK:** Plot the vector `FA` using `plot(v1)`."
   ]
  },
  {
   "cell_type": "code",
   "execution_count": null,
   "metadata": {},
   "outputs": [],
   "source": []
  },
  {
   "cell_type": "markdown",
   "metadata": {},
   "source": [
    "<hr>\n",
    "\n",
    "You can provide additional inputs to the `plot` function after the line specifier, using arguments in the form `arg = value`. For example, to specify a line width:\n",
    "```\n",
    "plot(x, y, \"ro-\", LineWidth=5)\n",
    "```\n",
    "> **TASK:** Plot `FB` (y-axis) against `W` (x-axis) with red (r) circle (o) markers and a solid line (-). Use a line width of 4."
   ]
  },
  {
   "cell_type": "code",
   "execution_count": null,
   "metadata": {},
   "outputs": [],
   "source": []
  },
  {
   "cell_type": "markdown",
   "metadata": {},
   "source": [
    "#### Further Practice\n",
    "The plot function creates lines. There are many other plotting functions in Python. You can see an extensive list in the [Python Graph Gallery](https://python-graph-gallery.com/matplotlib/).\n",
    "\n",
    "Each plot has different customization options. Try creating a histogram of `FB` with the `hist` function. Set the `facecolor` to yellow (\"y\")."
   ]
  },
  {
   "cell_type": "code",
   "execution_count": null,
   "metadata": {},
   "outputs": [],
   "source": []
  },
  {
   "cell_type": "markdown",
   "metadata": {
    "jupyter": {
     "outputs_hidden": false,
     "source_hidden": false
    },
    "nteract": {
     "transient": {
      "deleting": false
     }
    },
    "outputExpanded": false
   },
   "source": [
    "### Annotating Plots"
   ]
  },
  {
   "cell_type": "markdown",
   "metadata": {},
   "source": [
    "<hr>\n",
    "\n",
    "Labels can be added to plots using plot annotation functions, such as title. The input to these functions is a string. Strings in Python can be enclosed in single quotes (') or double quotes (\").\n",
    "\n",
    "```\n",
    "title(\"Plot Title\")\n",
    "```\n",
    "\n",
    "> **TASK:** Add the title \"Molar Flow Rates\" to the plot of `FA` and `FB` vs. `W`."
   ]
  },
  {
   "cell_type": "code",
   "execution_count": null,
   "metadata": {},
   "outputs": [],
   "source": []
  },
  {
   "cell_type": "markdown",
   "metadata": {},
   "source": [
    "<hr>\n",
    "\n",
    "> **TASK:** Use the `xlabel` function to add the label `\"Catalyst Mass / kg\"`."
   ]
  },
  {
   "cell_type": "code",
   "execution_count": null,
   "metadata": {},
   "outputs": [],
   "source": []
  },
  {
   "cell_type": "markdown",
   "metadata": {},
   "source": [
    "<hr>\n",
    "\n",
    "You can add a legend to your plot using the legend function.\n",
    "```\n",
    "legend([\"a\",\"b\",\"c\"])\n",
    "```\n",
    "Note that the input to `legend` is a list of strings.\n",
    "\n",
    "> **TASK:** Add a legend to the plot with the labels \"FA\" and \"FB\", in that order."
   ]
  },
  {
   "cell_type": "code",
   "execution_count": null,
   "metadata": {},
   "outputs": [],
   "source": []
  },
  {
   "cell_type": "markdown",
   "metadata": {},
   "source": [
    "#### Further Practice\n",
    "f-strings are a special kind of string that enables the incorporation of variable values within the string.  To make an f-string, you add an `f` before the quotes, and include variable names within braces `{}` inside the string.\n",
    "\n",
    "```\n",
    "Wmax = 1000\n",
    "s = f'The maximum value of W is {Wmax}' # This is an f-string\n",
    "print(s)\n",
    "```\n",
    "\n",
    "Try adding the maximum value of `FB` to the plot title."
   ]
  },
  {
   "cell_type": "code",
   "execution_count": null,
   "metadata": {},
   "outputs": [],
   "source": []
  },
  {
   "cell_type": "markdown",
   "metadata": {
    "jupyter": {
     "outputs_hidden": false,
     "source_hidden": false
    },
    "nteract": {
     "transient": {
      "deleting": false
     }
    },
    "outputExpanded": false
   },
   "source": [
    "## 8. Obtaining Help\n",
    "Use the Jupyter Help menu to discover information about Python, `numpy`, and `matplotlib`."
   ]
  },
  {
   "cell_type": "markdown",
   "metadata": {},
   "source": [
    "The Jupyter Help menu has links to documentation including examples.  In addition, you can get help on specific functions just by running `fname?` in a cell, where `fname` is the function of interest.\n",
    "\n",
    "> **TASK:** Use the documentation for `random_sample` to help complete the task below.\n",
    "\n",
    "Create a matrix named `x` that:\n",
    " - Contains random integers in the range from 1 to 20\n",
    " - Has 5 rows\n",
    " - Has 7 columns"
   ]
  },
  {
   "cell_type": "code",
   "execution_count": null,
   "metadata": {},
   "outputs": [],
   "source": []
  },
  {
   "cell_type": "markdown",
   "metadata": {},
   "source": [
    "<hr style=\"height:4px;border-width:0;color:gray;background-color:gray\">\n",
    "\n",
    "This is the end of **Python Boot Camp 3**. Be sure to save by pressing the \"S\" key in command mode, and continue to [**Python Boot Camp 4**](python_boot_camp_4.ipynb)"
   ]
  },
  {
   "cell_type": "code",
   "execution_count": null,
   "metadata": {},
   "outputs": [],
   "source": []
  }
 ],
 "metadata": {
  "hide_input": false,
  "kernel_info": {
   "name": "python3"
  },
  "kernelspec": {
   "display_name": "Python 3",
   "language": "python",
   "name": "python3"
  },
  "language_info": {
   "codemirror_mode": {
    "name": "ipython",
    "version": 3
   },
   "file_extension": ".py",
   "mimetype": "text/x-python",
   "name": "python",
   "nbconvert_exporter": "python",
   "pygments_lexer": "ipython3",
   "version": "3.8.5"
  },
  "nteract": {
   "version": "0.22.4"
  },
  "toc": {
   "nav_menu": {},
   "number_sections": false,
   "sideBar": true,
   "skip_h1_title": false,
   "toc_cell": false,
   "toc_position": {},
   "toc_section_display": "block",
   "toc_window_display": false
  },
  "varInspector": {
   "cols": {
    "lenName": 16,
    "lenType": 16,
    "lenVar": 40
   },
   "kernels_config": {
    "python": {
     "delete_cmd_postfix": "",
     "delete_cmd_prefix": "del ",
     "library": "var_list.py",
     "varRefreshCmd": "print(var_dic_list())"
    },
    "r": {
     "delete_cmd_postfix": ") ",
     "delete_cmd_prefix": "rm(",
     "library": "var_list.r",
     "varRefreshCmd": "cat(var_dic_list()) "
    }
   },
   "types_to_exclude": [
    "module",
    "function",
    "builtin_function_or_method",
    "instance",
    "_Feature"
   ],
   "window_display": false
  }
 },
 "nbformat": 4,
 "nbformat_minor": 4
}
