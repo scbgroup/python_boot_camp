{
 "cells": [
  {
   "cell_type": "markdown",
   "metadata": {},
   "source": [
    "# Python  Boot Camp 1\n",
    "Based on [MATLAB Onramp](https://matlabacademy.mathworks.com)"
   ]
  },
  {
   "cell_type": "markdown",
   "metadata": {
    "jupyter": {
     "outputs_hidden": false,
     "source_hidden": false
    },
    "nteract": {
     "transient": {
      "deleting": false
     }
    },
    "outputExpanded": false,
    "tags": [
     "Show"
    ]
   },
   "source": [
    "## 1. Commands\n",
    "Enter commands in Python to perform calculations and create variables."
   ]
  },
  {
   "cell_type": "markdown",
   "metadata": {
    "jupyter": {
     "outputs_hidden": false,
     "source_hidden": false
    },
    "nteract": {
     "transient": {
      "deleting": false
     }
    },
    "outputExpanded": false
   },
   "source": [
    "### Entering Commands"
   ]
  },
  {
   "cell_type": "markdown",
   "metadata": {
    "jupyter": {
     "outputs_hidden": false,
     "source_hidden": false
    },
    "nteract": {
     "transient": {
      "deleting": false
     }
    },
    "outputExpanded": false
   },
   "source": [
    "You can execute commands by entering them in a code cell after the prompt (`In [ ]:`) and pressing the Enter key. \n",
    "\n",
    "> **TASK:** Multiply the numbers `3` and `5` together with the command `3*5`. _ans = 15_"
   ]
  },
  {
   "cell_type": "code",
   "execution_count": null,
   "metadata": {},
   "outputs": [],
   "source": []
  },
  {
   "cell_type": "markdown",
   "metadata": {
    "jupyter": {
     "outputs_hidden": false,
     "source_hidden": false
    },
    "nteract": {
     "transient": {
      "deleting": false
     }
    },
    "outputExpanded": false
   },
   "source": [
    "<hr>\n",
    "\n",
    "The equals sign (=) in Python is the assignment operator, meaning that the expression on the right of the equals sign is assigned to the variable on the left.\n",
    "\n",
    "When you enter `x = 3 + 4`, Python first evaluates `3 + 4` and then assigns the result (`7`) to the variable `x`.\n",
    "\n",
    "> **TASK:** Assign the `3*5` calculation to a variable named `m` as shown:\n",
    "```\n",
    "m = 3*5\n",
    "```"
   ]
  },
  {
   "cell_type": "code",
   "execution_count": null,
   "metadata": {},
   "outputs": [],
   "source": []
  },
  {
   "cell_type": "markdown",
   "metadata": {},
   "source": [
    "<hr>\n",
    "\n",
    "> **TASK:** in Python, the result of an assignment is not not shown by default. Enter `m` to display the result."
   ]
  },
  {
   "cell_type": "code",
   "execution_count": null,
   "metadata": {},
   "outputs": [],
   "source": []
  },
  {
   "cell_type": "markdown",
   "metadata": {
    "jupyter": {
     "outputs_hidden": false,
     "source_hidden": false
    },
    "nteract": {
     "transient": {
      "deleting": false
     }
    },
    "outputExpanded": false
   },
   "source": [
    "<hr>\n",
    "\n",
    "> **TASK:** Enter the following commands to see what happens:\n",
    "```\n",
    "m=m+1\n",
    "m\n",
    "```"
   ]
  },
  {
   "cell_type": "code",
   "execution_count": null,
   "metadata": {},
   "outputs": [],
   "source": []
  },
  {
   "cell_type": "markdown",
   "metadata": {},
   "source": [
    "<hr>\n",
    "\n",
    "> **TASK:** Create a variable named `a` that has the value `m/2`, and show its value."
   ]
  },
  {
   "cell_type": "code",
   "execution_count": null,
   "metadata": {},
   "outputs": [],
   "source": []
  },
  {
   "cell_type": "markdown",
   "metadata": {},
   "source": [
    "### Naming Variables"
   ]
  },
  {
   "cell_type": "markdown",
   "metadata": {},
   "source": [
    "\n",
    "You can name your Python variables anything you'd like as long as they start with a letter and\n",
    "contain only letters, numbers, and underscores (_).\n",
    "\n",
    "Python variables are also case sensitive.\n",
    "\n",
    "> **TASK:** Assign the value `-2` to the variable `A`."
   ]
  },
  {
   "cell_type": "code",
   "execution_count": null,
   "metadata": {},
   "outputs": [],
   "source": []
  },
  {
   "cell_type": "markdown",
   "metadata": {},
   "source": [
    "<hr> \n",
    "\n",
    "Notice that the variables `a` and `A` both exist in the workspace.\n",
    "\n",
    "You can name all your variables `a` or `x`, but it is more useful to name your variables something meaningful.\n",
    "\n",
    "> **TASK:** Calculate $\\frac{a+A}{2}$. Assign the result to the variable `avgAa`."
   ]
  },
  {
   "cell_type": "code",
   "execution_count": null,
   "metadata": {},
   "outputs": [],
   "source": []
  },
  {
   "cell_type": "markdown",
   "metadata": {},
   "source": [
    "<hr> \n",
    "\n",
    "\n",
    "The line magic `%who` can be used to show the variables in the workspace; the magic `%whos` shows some extra information.\n",
    "\n",
    "> **TASK:** Use the line magic `%whos` to show the current variables. You may see some extra variables defined there."
   ]
  },
  {
   "cell_type": "code",
   "execution_count": null,
   "metadata": {},
   "outputs": [],
   "source": []
  },
  {
   "cell_type": "markdown",
   "metadata": {},
   "source": [
    "<hr> \n",
    "\n",
    "#### Further Practice\n",
    "\n",
    "If you use an invalid variable name, Python will display an error message. You can modify the variable name to something that is allowed to eliminate the error.\n",
    "\n",
    "Try creating the variable `3sq = 9` to demonstrate this behavior."
   ]
  },
  {
   "cell_type": "code",
   "execution_count": null,
   "metadata": {},
   "outputs": [],
   "source": []
  },
  {
   "cell_type": "markdown",
   "metadata": {},
   "source": [
    "## 2. Python Functions and Packages"
   ]
  },
  {
   "cell_type": "markdown",
   "metadata": {},
   "source": [
    "### Python functions"
   ]
  },
  {
   "cell_type": "markdown",
   "metadata": {},
   "source": [
    "In python, functions are just one type of variable, similar to a string or an integer. We call all of these variables \"objects\".  To create a function, we use the `def` command.  Here is some simple code to create a function that averages two numbers:\n",
    "\n",
    "```\n",
    "def avg(a, b):\n",
    "    return (a + b)/2.0\n",
    "```"
   ]
  },
  {
   "cell_type": "markdown",
   "metadata": {},
   "source": [
    "Note the form of the function definition:\n",
    " - The function name comes before parentheses with the function inputs inside parentheses separated by commas.\n",
    " - The `def` command ends in a colon.\n",
    " - The lines that make up the function definition are indented.  When the indent ends, the function definition ends.\n",
    " - The output of the function is given by the argument of the `return` command\n",
    " \n",
    "> **TASK:** Define a function `avg` to calculate the average of two numbers, and then calculate `avg(a,A)`"
   ]
  },
  {
   "cell_type": "code",
   "execution_count": null,
   "metadata": {},
   "outputs": [],
   "source": []
  },
  {
   "cell_type": "code",
   "execution_count": null,
   "metadata": {},
   "outputs": [],
   "source": []
  },
  {
   "cell_type": "markdown",
   "metadata": {},
   "source": [
    "<hr> \n",
    "\n",
    "Now the function `avg` exists as an object in the workspace.\n",
    "\n",
    "> **TASK:** Use the line magic `%whos` to show that `avg` is an object in the workspace."
   ]
  },
  {
   "cell_type": "code",
   "execution_count": null,
   "metadata": {},
   "outputs": [],
   "source": []
  },
  {
   "cell_type": "markdown",
   "metadata": {},
   "source": [
    "### Python Packages"
   ]
  },
  {
   "cell_type": "markdown",
   "metadata": {},
   "source": [
    "Because python is a general purpose programming language with very broad capabilities, we `import` very specific packages of functions and constants to do numerical work.  There are three main packages that we will use:\n",
    "\n",
    " 1. [`numpy`](http://numpy.org/): provides functions for computing with numerical arrays (vectors and matrices) \n",
    " 2. [`scipy`](https://www.scipy.org/scipylib/index.html): provide functions for numerical integration, interpolation, optimization, linear algebra, and statistics, specifically designed to work with numpy.\n",
    " 3. [`matplotlib.pyplot`](https://matplotlib.org/3.1.0/tutorials/introductory/pyplot.html): provides high quality plotting functions"
   ]
  },
  {
   "cell_type": "markdown",
   "metadata": {},
   "source": [
    "### Importing Packages "
   ]
  },
  {
   "cell_type": "markdown",
   "metadata": {},
   "source": [
    "Packages are imported using the `import` command. The three main forms of this command are:\n",
    "\n",
    " 1. `import numpy as np`: load all the functions of `numpy` into a workspace named `np`. All of these functions are accessible by prefixing the function name with `np.`.  For example, to use the `linspace` function, one would call `np.linspace`.\n",
    " 2. `from numpy import linspace`: load just the `linspace` function from the `numpy` package into the main workspace.  In this way `linspace` can be used directly with no prefix.\n",
    " 1. `from numpy import *`: load **ALL** the functions of `numpy` into the main workspace. In this way **ALL** the functions can be used with no prefix."
   ]
  },
  {
   "cell_type": "markdown",
   "metadata": {},
   "source": [
    "<hr> \n",
    "\n",
    "> **TASK:** Import the numpy package as `np` and show that it appears as an object in the workspace.\n"
   ]
  },
  {
   "cell_type": "code",
   "execution_count": null,
   "metadata": {},
   "outputs": [],
   "source": []
  },
  {
   "cell_type": "markdown",
   "metadata": {},
   "source": [
    "<hr> \n",
    "\n",
    "The problem with the third option is that we load many variables into the main workspace resulting in a lot of \"clutter\", and the possibility that we will overwrite one variable with another. However, if only `numpy`, `scipy` and `pyplot` are imported this way, this usuall does not cause problems.\n",
    "\n",
    "> **TASK:** Import all the functions from `numpy` into the main workspace, and use the line magic `%who` to show that they all appear as objects in the workspace."
   ]
  },
  {
   "cell_type": "code",
   "execution_count": null,
   "metadata": {},
   "outputs": [],
   "source": []
  },
  {
   "cell_type": "markdown",
   "metadata": {},
   "source": [
    "### The `%pylab` magic"
   ]
  },
  {
   "cell_type": "markdown",
   "metadata": {},
   "source": [
    "This magic function sets up the workspace to behave similarly to MATLAB, with numerical and plotting functions in the main workspace. Among other things, `%pylab` makes the following imports:\n",
    "\n",
    "```\n",
    "import numpy\n",
    "from matplotlib import pyplot\n",
    "np = numpy\n",
    "plt = pyplot\n",
    "\n",
    "from pylab import *\n",
    "from numpy import *\n",
    "```\n",
    "\n",
    "We will begin allmost all of our notebooks with `%pylab` in order to load many useful functions from `numpy` and `pyplot`\n",
    "\n",
    "> **TASK:** Run the `%pylab` line magic to populate the interactive namespace from `numpy` and `matplotlib.pyplot`"
   ]
  },
  {
   "cell_type": "code",
   "execution_count": null,
   "metadata": {},
   "outputs": [],
   "source": []
  },
  {
   "cell_type": "markdown",
   "metadata": {
    "jupyter": {
     "outputs_hidden": false,
     "source_hidden": false
    },
    "nteract": {
     "transient": {
      "deleting": false
     }
    },
    "outputExpanded": false
   },
   "source": [
    "### Using `numpy` Functions and Constants"
   ]
  },
  {
   "cell_type": "markdown",
   "metadata": {},
   "source": [
    "Numpy contains built-in constants, such as `pi` to represent $\\pi$.\n",
    "\n",
    "```\n",
    "In  [1]: a = pi\n",
    "         a \n",
    "Out [1]: 3.141592653589793\n",
    "```\n",
    "\n",
    "> **TASK:** Create a variable called `x` with a value of `π/2` and display its value."
   ]
  },
  {
   "cell_type": "code",
   "execution_count": null,
   "metadata": {},
   "outputs": [],
   "source": []
  },
  {
   "cell_type": "markdown",
   "metadata": {},
   "source": [
    "<hr>\n",
    "\n",
    "`numpy` contains a wide variety of functions, such as abs (absolute value) and eig (calculate eigenvalues).\n",
    "\n",
    "```\n",
    "In  [1]: a = sin(-5)\n",
    "         a\n",
    "Out [1]: 0.9589\n",
    "```\n",
    "> **TASK:** Use the `sin` function to calculate the sine of `x`. Assign the result to a variable named `y`."
   ]
  },
  {
   "cell_type": "code",
   "execution_count": null,
   "metadata": {},
   "outputs": [],
   "source": []
  },
  {
   "cell_type": "markdown",
   "metadata": {},
   "source": [
    "<hr>\n",
    "\n",
    "Complex numbers are a build in data type in Python.  To take the square root of a negative number in `numpy`, represent that number as complex with the character `J` representing the imaginary part\n",
    "\n",
    "> **TASK:** Use the `sqrt` function to calculate the square root of `-9 = -9 + 0J`. Assign the result to a variable named `z`."
   ]
  },
  {
   "cell_type": "code",
   "execution_count": null,
   "metadata": {},
   "outputs": [],
   "source": []
  },
  {
   "cell_type": "markdown",
   "metadata": {},
   "source": [
    "<hr style=\"height:4px;border-width:0;color:gray;background-color:gray\">\n",
    "\n",
    "This is the end of **Python Boot Camp 1**. Be sure to save by pressing the \"S\" key in command mode, and continue to [**Python Boot Camp 2**](python_boot_camp_2.ipynb)"
   ]
  }
 ],
 "metadata": {
  "hide_input": false,
  "kernel_info": {
   "name": "python3"
  },
  "kernelspec": {
   "display_name": "Python 3",
   "language": "python",
   "name": "python3"
  },
  "language_info": {
   "codemirror_mode": {
    "name": "ipython",
    "version": 3
   },
   "file_extension": ".py",
   "mimetype": "text/x-python",
   "name": "python",
   "nbconvert_exporter": "python",
   "pygments_lexer": "ipython3",
   "version": "3.8.5"
  },
  "nteract": {
   "version": "0.22.4"
  },
  "toc": {
   "nav_menu": {},
   "number_sections": false,
   "sideBar": true,
   "skip_h1_title": false,
   "toc_cell": false,
   "toc_position": {},
   "toc_section_display": "block",
   "toc_window_display": false
  },
  "varInspector": {
   "cols": {
    "lenName": 16,
    "lenType": 16,
    "lenVar": 40
   },
   "kernels_config": {
    "python": {
     "delete_cmd_postfix": "",
     "delete_cmd_prefix": "del ",
     "library": "var_list.py",
     "varRefreshCmd": "print(var_dic_list())"
    },
    "r": {
     "delete_cmd_postfix": ") ",
     "delete_cmd_prefix": "rm(",
     "library": "var_list.r",
     "varRefreshCmd": "cat(var_dic_list()) "
    }
   },
   "types_to_exclude": [
    "module",
    "function",
    "builtin_function_or_method",
    "instance",
    "_Feature"
   ],
   "window_display": false
  }
 },
 "nbformat": 4,
 "nbformat_minor": 4
}
